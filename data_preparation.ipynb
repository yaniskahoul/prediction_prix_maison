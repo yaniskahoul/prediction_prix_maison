{
 "cells": [
  {
   "cell_type": "code",
   "execution_count": null,
   "metadata": {},
   "outputs": [],
   "source": []
  }
 ],
 "metadata": {
  "kernelspec": {
   "display_name": "Python 3.10.4 ('ykp')",
   "language": "python",
   "name": "python3"
  },
  "language_info": {
   "name": "python",
   "version": "3.10.4"
  },
  "orig_nbformat": 4,
  "vscode": {
   "interpreter": {
    "hash": "a830cd8c710370d9f195d594c373a79f854e482951c4fcd1778f9296e8d30250"
   }
  }
 },
 "nbformat": 4,
 "nbformat_minor": 2
}
