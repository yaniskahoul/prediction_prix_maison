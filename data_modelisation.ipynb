{
 "cells": [
  {
   "cell_type": "code",
   "execution_count": 112,
   "metadata": {},
   "outputs": [],
   "source": [
    "import pandas as pd \n",
    "import missingno as msno \n",
    "import numpy as np \n",
    "import seaborn as sns\n",
    "from datetime import datetime as dt \n",
    "import matplotlib.pyplot as plt\n",
    "import plotly.express as px \n",
    "from dash import Dash, dcc, html, Input, Output\n",
    "import sklearn \n",
    "from sklearn.linear_model import LinearRegression, Ridge, Lasso   \n",
    "from sklearn.model_selection import train_test_split, GridSearchCV\n",
    "from sklearn.preprocessing import PolynomialFeatures, StandardScaler, OneHotEncoder\n",
    "from sklearn.pipeline import make_pipeline, Pipeline\n",
    "from sklearn.compose import ColumnTransformer\n",
    "from sklearn.model_selection import RandomizedSearchCV, learning_curve\n",
    "from sklearn.linear_model import ElasticNet\n",
    "from sklearn.neighbors import KNeighborsClassifier\n",
    "from sklearn import tree\n",
    "import pickle \n",
    "from collections import OrderedDict\n",
    "\n",
    "\n",
    "\n",
    "pd.options.display.max_columns = 150 \n",
    "pd.options.display.max_rows = 150 "
   ]
  },
  {
   "cell_type": "markdown",
   "metadata": {},
   "source": [
    "## Recuperation du CSV"
   ]
  },
  {
   "cell_type": "code",
   "execution_count": 113,
   "metadata": {},
   "outputs": [],
   "source": [
    "df_modelisation = pd.read_csv('df2.csv')\n",
    "df_modelisation_prix = df_modelisation[['price']]"
   ]
  },
  {
   "cell_type": "markdown",
   "metadata": {},
   "source": [
    "### On supprime les colonnes qui nous semble inutile"
   ]
  },
  {
   "cell_type": "code",
   "execution_count": 114,
   "metadata": {},
   "outputs": [],
   "source": [
    "df_modelisation = df_modelisation.drop('id', axis=1)\n",
    "df_modelisation = df_modelisation.drop('date_sale', axis=1)\n",
    "df_modelisation = df_modelisation.drop('price_log', axis=1)\n",
    "df_modelisation = df_modelisation.drop('sqft_living15', axis=1)\n",
    "df_modelisation = df_modelisation.drop('sqft_lot15', axis=1)"
   ]
  },
  {
   "cell_type": "markdown",
   "metadata": {},
   "source": [
    "### On passe month et zipcode en objet "
   ]
  },
  {
   "cell_type": "code",
   "execution_count": 115,
   "metadata": {},
   "outputs": [],
   "source": [
    "data_types_dict = {'month': str} \n",
    "df_modelisation = df_modelisation.astype(data_types_dict)  "
   ]
  },
  {
   "cell_type": "code",
   "execution_count": 116,
   "metadata": {},
   "outputs": [],
   "source": [
    "data_types_dict = {'zipcode': str} \n",
    "df_modelisation = df_modelisation.astype(data_types_dict)  "
   ]
  },
  {
   "cell_type": "markdown",
   "metadata": {},
   "source": [
    "### Entraîner un algorithme de régression linéaire"
   ]
  },
  {
   "cell_type": "markdown",
   "metadata": {},
   "source": [
    "### Séparation de features et target"
   ]
  },
  {
   "cell_type": "code",
   "execution_count": 117,
   "metadata": {},
   "outputs": [],
   "source": [
    "X = df_modelisation.drop('price', axis=1)\n",
    "y = df_modelisation[['price']]\n",
    "X_train, X_test, y_train, y_test = train_test_split(X,y)\n",
    "num_col = list(X.select_dtypes(include=[float,int]).columns)\n",
    "cat_col = list(X.select_dtypes(include=[object]).columns)\n",
    "my_num_pipe = make_pipeline(StandardScaler(), PolynomialFeatures())\n",
    "preprocessing = ColumnTransformer([\n",
    "    (\"one_hot\", OneHotEncoder(),cat_col),\n",
    "    (\"scaling\", my_num_pipe, num_col)\n",
    "])\n"
   ]
  },
  {
   "cell_type": "code",
   "execution_count": 118,
   "metadata": {},
   "outputs": [
    {
     "data": {
      "text/plain": [
       "['bedrooms',\n",
       " 'bathrooms',\n",
       " 'sqft_living',\n",
       " 'sqft_lot',\n",
       " 'floors',\n",
       " 'waterfront',\n",
       " 'view',\n",
       " 'condition',\n",
       " 'grade',\n",
       " 'sqft_above',\n",
       " 'sqft_basement',\n",
       " 'yr_built',\n",
       " 'yr_renovated',\n",
       " 'lat',\n",
       " 'long',\n",
       " 'year']"
      ]
     },
     "execution_count": 118,
     "metadata": {},
     "output_type": "execute_result"
    }
   ],
   "source": [
    "list(num_col)"
   ]
  },
  {
   "cell_type": "code",
   "execution_count": 119,
   "metadata": {},
   "outputs": [
    {
     "data": {
      "text/plain": [
       "['zipcode', 'month']"
      ]
     },
     "execution_count": 119,
     "metadata": {},
     "output_type": "execute_result"
    }
   ],
   "source": [
    "list(cat_col)"
   ]
  },
  {
   "cell_type": "code",
   "execution_count": 120,
   "metadata": {},
   "outputs": [],
   "source": [
    "preprocessing = ColumnTransformer(transformers=[('one_hot', OneHotEncoder(), cat_col),\n",
    "                                ('scaling', StandardScaler(), num_col)])                              "
   ]
  },
  {
   "cell_type": "markdown",
   "metadata": {},
   "source": [
    "# LINEAR REGRESSION   LR"
   ]
  },
  {
   "cell_type": "code",
   "execution_count": 121,
   "metadata": {},
   "outputs": [],
   "source": [
    "my_pipe_lr = make_pipeline(preprocessing, LinearRegression())"
   ]
  },
  {
   "cell_type": "code",
   "execution_count": 122,
   "metadata": {},
   "outputs": [],
   "source": [
    "my_pipe_lr = Pipeline(\n",
    "    [\n",
    "        (\"preprocessing\", preprocessing), \n",
    "        ('ridge', LinearRegression())\n",
    "    ]\n",
    ")"
   ]
  },
  {
   "cell_type": "markdown",
   "metadata": {},
   "source": [
    "### Fit - Score - Predict"
   ]
  },
  {
   "cell_type": "code",
   "execution_count": 123,
   "metadata": {},
   "outputs": [
    {
     "name": "stdout",
     "output_type": "stream",
     "text": [
      "my_pipe_lr score :  0.8118120568785259\n",
      "my_pipe_lr predict :  [[ 756719.44103269]\n",
      " [ 641913.45574139]\n",
      " [ 229310.35917201]\n",
      " ...\n",
      " [ 343364.34124673]\n",
      " [1159195.6417935 ]\n",
      " [ 701610.20881879]]\n"
     ]
    }
   ],
   "source": [
    "my_pipe_lr.fit(X_train, y_train)\n",
    "print (\"my_pipe_lr score : \" , my_pipe_lr.score(X_test, y_test))\n",
    "print (\"my_pipe_lr predict : \" , my_pipe_lr.predict(X_train))"
   ]
  },
  {
   "cell_type": "markdown",
   "metadata": {},
   "source": [
    "## Learning curve: courbe d'apprentissage"
   ]
  },
  {
   "cell_type": "code",
   "execution_count": 124,
   "metadata": {},
   "outputs": [
    {
     "data": {
      "image/png": "[encoded data removed]",
      "text/plain": [
       "<Figure size 432x288 with 1 Axes>"
      ]
     },
     "metadata": {
      "needs_background": "light"
     },
     "output_type": "display_data"
    }
   ],
   "source": [
    "train_sizes, train_scores, test_scores, fit_times, _ = learning_curve(my_pipe_lr,X_train,y_train,return_times=True)\n",
    "                                   \n",
    "plt.plot(train_sizes, train_scores.mean(axis=1), label='train')\n",
    "plt.plot(train_sizes, test_scores.mean(axis=1), label='validation')\n",
    "plt.xlabel('train_sizes')\n",
    "plt.ylabel('score')\n",
    "plt.legend()\n",
    "plt.show()\n",
    "\n"
   ]
  },
  {
   "cell_type": "markdown",
   "metadata": {},
   "source": [
    "## SUPPRIMER LES VALEURS INFLUENTES "
   ]
  },
  {
   "cell_type": "code",
   "execution_count": 125,
   "metadata": {},
   "outputs": [
    {
     "data": {
      "text/plain": [
       "array([[ 756719.44103269],\n",
       "       [ 641913.45574139],\n",
       "       [ 229310.35917201],\n",
       "       ...,\n",
       "       [ 343364.34124673],\n",
       "       [1159195.6417935 ],\n",
       "       [ 701610.20881879]])"
      ]
     },
     "execution_count": 125,
     "metadata": {},
     "output_type": "execute_result"
    }
   ],
   "source": [
    "y_pred = my_pipe_lr.predict(X_train)\n",
    "y_pred.reshape(1,16209)\n",
    "y_pred"
   ]
  },
  {
   "cell_type": "code",
   "execution_count": 126,
   "metadata": {},
   "outputs": [
    {
     "data": {
      "text/html": [
       "<div>\n",
       "<style scoped>\n",
       "    .dataframe tbody tr th:only-of-type {\n",
       "        vertical-align: middle;\n",
       "    }\n",
       "\n",
       "    .dataframe tbody tr th {\n",
       "        vertical-align: top;\n",
       "    }\n",
       "\n",
       "    .dataframe thead th {\n",
       "        text-align: right;\n",
       "    }\n",
       "</style>\n",
       "<table border=\"1\" class=\"dataframe\">\n",
       "  <thead>\n",
       "    <tr style=\"text-align: right;\">\n",
       "      <th></th>\n",
       "      <th>price</th>\n",
       "    </tr>\n",
       "  </thead>\n",
       "  <tbody>\n",
       "    <tr>\n",
       "      <th>21207</th>\n",
       "      <td>760000.0</td>\n",
       "    </tr>\n",
       "    <tr>\n",
       "      <th>2780</th>\n",
       "      <td>665000.0</td>\n",
       "    </tr>\n",
       "    <tr>\n",
       "      <th>18994</th>\n",
       "      <td>351000.0</td>\n",
       "    </tr>\n",
       "    <tr>\n",
       "      <th>12219</th>\n",
       "      <td>250000.0</td>\n",
       "    </tr>\n",
       "    <tr>\n",
       "      <th>16108</th>\n",
       "      <td>515000.0</td>\n",
       "    </tr>\n",
       "    <tr>\n",
       "      <th>...</th>\n",
       "      <td>...</td>\n",
       "    </tr>\n",
       "    <tr>\n",
       "      <th>6953</th>\n",
       "      <td>375000.0</td>\n",
       "    </tr>\n",
       "    <tr>\n",
       "      <th>3788</th>\n",
       "      <td>816000.0</td>\n",
       "    </tr>\n",
       "    <tr>\n",
       "      <th>20629</th>\n",
       "      <td>320000.0</td>\n",
       "    </tr>\n",
       "    <tr>\n",
       "      <th>8487</th>\n",
       "      <td>945000.0</td>\n",
       "    </tr>\n",
       "    <tr>\n",
       "      <th>5161</th>\n",
       "      <td>822000.0</td>\n",
       "    </tr>\n",
       "  </tbody>\n",
       "</table>\n",
       "<p>16209 rows × 1 columns</p>\n",
       "</div>"
      ],
      "text/plain": [
       "          price\n",
       "21207  760000.0\n",
       "2780   665000.0\n",
       "18994  351000.0\n",
       "12219  250000.0\n",
       "16108  515000.0\n",
       "...         ...\n",
       "6953   375000.0\n",
       "3788   816000.0\n",
       "20629  320000.0\n",
       "8487   945000.0\n",
       "5161   822000.0\n",
       "\n",
       "[16209 rows x 1 columns]"
      ]
     },
     "execution_count": 126,
     "metadata": {},
     "output_type": "execute_result"
    }
   ],
   "source": [
    "y_train"
   ]
  },
  {
   "cell_type": "code",
   "execution_count": 127,
   "metadata": {},
   "outputs": [
    {
     "data": {
      "text/html": [
       "<div>\n",
       "<style scoped>\n",
       "    .dataframe tbody tr th:only-of-type {\n",
       "        vertical-align: middle;\n",
       "    }\n",
       "\n",
       "    .dataframe tbody tr th {\n",
       "        vertical-align: top;\n",
       "    }\n",
       "\n",
       "    .dataframe thead th {\n",
       "        text-align: right;\n",
       "    }\n",
       "</style>\n",
       "<table border=\"1\" class=\"dataframe\">\n",
       "  <thead>\n",
       "    <tr style=\"text-align: right;\">\n",
       "      <th></th>\n",
       "      <th>price</th>\n",
       "    </tr>\n",
       "  </thead>\n",
       "  <tbody>\n",
       "    <tr>\n",
       "      <th>7252</th>\n",
       "      <td>4.320162e+06</td>\n",
       "    </tr>\n",
       "    <tr>\n",
       "      <th>9254</th>\n",
       "      <td>2.985278e+06</td>\n",
       "    </tr>\n",
       "    <tr>\n",
       "      <th>1448</th>\n",
       "      <td>2.579124e+06</td>\n",
       "    </tr>\n",
       "    <tr>\n",
       "      <th>12370</th>\n",
       "      <td>2.279825e+06</td>\n",
       "    </tr>\n",
       "    <tr>\n",
       "      <th>8638</th>\n",
       "      <td>2.235123e+06</td>\n",
       "    </tr>\n",
       "    <tr>\n",
       "      <th>...</th>\n",
       "      <td>...</td>\n",
       "    </tr>\n",
       "    <tr>\n",
       "      <th>4139</th>\n",
       "      <td>3.510112e+01</td>\n",
       "    </tr>\n",
       "    <tr>\n",
       "      <th>5329</th>\n",
       "      <td>3.167618e+01</td>\n",
       "    </tr>\n",
       "    <tr>\n",
       "      <th>18525</th>\n",
       "      <td>2.311806e+01</td>\n",
       "    </tr>\n",
       "    <tr>\n",
       "      <th>17965</th>\n",
       "      <td>1.865201e+01</td>\n",
       "    </tr>\n",
       "    <tr>\n",
       "      <th>12224</th>\n",
       "      <td>7.672122e+00</td>\n",
       "    </tr>\n",
       "  </tbody>\n",
       "</table>\n",
       "<p>16209 rows × 1 columns</p>\n",
       "</div>"
      ],
      "text/plain": [
       "              price\n",
       "7252   4.320162e+06\n",
       "9254   2.985278e+06\n",
       "1448   2.579124e+06\n",
       "12370  2.279825e+06\n",
       "8638   2.235123e+06\n",
       "...             ...\n",
       "4139   3.510112e+01\n",
       "5329   3.167618e+01\n",
       "18525  2.311806e+01\n",
       "17965  1.865201e+01\n",
       "12224  7.672122e+00\n",
       "\n",
       "[16209 rows x 1 columns]"
      ]
     },
     "execution_count": 127,
     "metadata": {},
     "output_type": "execute_result"
    }
   ],
   "source": [
    "residual = (y_pred-y_train).abs().sort_values(by='price', axis= 0 , ascending= False)\n",
    "residual"
   ]
  },
  {
   "cell_type": "code",
   "execution_count": 128,
   "metadata": {},
   "outputs": [
    {
     "data": {
      "text/html": [
       "<div>\n",
       "<style scoped>\n",
       "    .dataframe tbody tr th:only-of-type {\n",
       "        vertical-align: middle;\n",
       "    }\n",
       "\n",
       "    .dataframe tbody tr th {\n",
       "        vertical-align: top;\n",
       "    }\n",
       "\n",
       "    .dataframe thead th {\n",
       "        text-align: right;\n",
       "    }\n",
       "</style>\n",
       "<table border=\"1\" class=\"dataframe\">\n",
       "  <thead>\n",
       "    <tr style=\"text-align: right;\">\n",
       "      <th></th>\n",
       "      <th>bedrooms</th>\n",
       "      <th>bathrooms</th>\n",
       "      <th>sqft_living</th>\n",
       "      <th>sqft_lot</th>\n",
       "      <th>floors</th>\n",
       "      <th>waterfront</th>\n",
       "      <th>view</th>\n",
       "      <th>condition</th>\n",
       "      <th>grade</th>\n",
       "      <th>sqft_above</th>\n",
       "      <th>sqft_basement</th>\n",
       "      <th>yr_built</th>\n",
       "      <th>yr_renovated</th>\n",
       "      <th>zipcode</th>\n",
       "      <th>lat</th>\n",
       "      <th>long</th>\n",
       "      <th>year</th>\n",
       "      <th>month</th>\n",
       "    </tr>\n",
       "  </thead>\n",
       "  <tbody>\n",
       "    <tr>\n",
       "      <th>15</th>\n",
       "      <td>4</td>\n",
       "      <td>3.00</td>\n",
       "      <td>2950</td>\n",
       "      <td>5000</td>\n",
       "      <td>2.0</td>\n",
       "      <td>0</td>\n",
       "      <td>3</td>\n",
       "      <td>3</td>\n",
       "      <td>9</td>\n",
       "      <td>1980</td>\n",
       "      <td>970</td>\n",
       "      <td>1979</td>\n",
       "      <td>0</td>\n",
       "      <td>98126</td>\n",
       "      <td>47.5714</td>\n",
       "      <td>-122.375</td>\n",
       "      <td>2015</td>\n",
       "      <td>1</td>\n",
       "    </tr>\n",
       "    <tr>\n",
       "      <th>20</th>\n",
       "      <td>4</td>\n",
       "      <td>1.75</td>\n",
       "      <td>1620</td>\n",
       "      <td>4980</td>\n",
       "      <td>1.0</td>\n",
       "      <td>0</td>\n",
       "      <td>0</td>\n",
       "      <td>4</td>\n",
       "      <td>7</td>\n",
       "      <td>860</td>\n",
       "      <td>760</td>\n",
       "      <td>1947</td>\n",
       "      <td>0</td>\n",
       "      <td>98133</td>\n",
       "      <td>47.7025</td>\n",
       "      <td>-122.341</td>\n",
       "      <td>2014</td>\n",
       "      <td>5</td>\n",
       "    </tr>\n",
       "    <tr>\n",
       "      <th>21</th>\n",
       "      <td>3</td>\n",
       "      <td>2.75</td>\n",
       "      <td>3050</td>\n",
       "      <td>44867</td>\n",
       "      <td>1.0</td>\n",
       "      <td>0</td>\n",
       "      <td>4</td>\n",
       "      <td>3</td>\n",
       "      <td>9</td>\n",
       "      <td>2330</td>\n",
       "      <td>720</td>\n",
       "      <td>1968</td>\n",
       "      <td>0</td>\n",
       "      <td>98040</td>\n",
       "      <td>47.5316</td>\n",
       "      <td>-122.233</td>\n",
       "      <td>2014</td>\n",
       "      <td>8</td>\n",
       "    </tr>\n",
       "    <tr>\n",
       "      <th>25</th>\n",
       "      <td>3</td>\n",
       "      <td>2.00</td>\n",
       "      <td>1710</td>\n",
       "      <td>4697</td>\n",
       "      <td>1.5</td>\n",
       "      <td>0</td>\n",
       "      <td>0</td>\n",
       "      <td>5</td>\n",
       "      <td>6</td>\n",
       "      <td>1710</td>\n",
       "      <td>0</td>\n",
       "      <td>1941</td>\n",
       "      <td>0</td>\n",
       "      <td>98002</td>\n",
       "      <td>47.3048</td>\n",
       "      <td>-122.218</td>\n",
       "      <td>2014</td>\n",
       "      <td>11</td>\n",
       "    </tr>\n",
       "    <tr>\n",
       "      <th>27</th>\n",
       "      <td>3</td>\n",
       "      <td>1.00</td>\n",
       "      <td>1400</td>\n",
       "      <td>1581</td>\n",
       "      <td>1.5</td>\n",
       "      <td>0</td>\n",
       "      <td>0</td>\n",
       "      <td>5</td>\n",
       "      <td>8</td>\n",
       "      <td>1400</td>\n",
       "      <td>0</td>\n",
       "      <td>1909</td>\n",
       "      <td>0</td>\n",
       "      <td>98112</td>\n",
       "      <td>47.6221</td>\n",
       "      <td>-122.314</td>\n",
       "      <td>2014</td>\n",
       "      <td>12</td>\n",
       "    </tr>\n",
       "    <tr>\n",
       "      <th>...</th>\n",
       "      <td>...</td>\n",
       "      <td>...</td>\n",
       "      <td>...</td>\n",
       "      <td>...</td>\n",
       "      <td>...</td>\n",
       "      <td>...</td>\n",
       "      <td>...</td>\n",
       "      <td>...</td>\n",
       "      <td>...</td>\n",
       "      <td>...</td>\n",
       "      <td>...</td>\n",
       "      <td>...</td>\n",
       "      <td>...</td>\n",
       "      <td>...</td>\n",
       "      <td>...</td>\n",
       "      <td>...</td>\n",
       "      <td>...</td>\n",
       "      <td>...</td>\n",
       "    </tr>\n",
       "    <tr>\n",
       "      <th>21568</th>\n",
       "      <td>4</td>\n",
       "      <td>3.50</td>\n",
       "      <td>3830</td>\n",
       "      <td>8963</td>\n",
       "      <td>2.0</td>\n",
       "      <td>0</td>\n",
       "      <td>0</td>\n",
       "      <td>3</td>\n",
       "      <td>10</td>\n",
       "      <td>3120</td>\n",
       "      <td>710</td>\n",
       "      <td>2014</td>\n",
       "      <td>0</td>\n",
       "      <td>98004</td>\n",
       "      <td>47.5990</td>\n",
       "      <td>-122.197</td>\n",
       "      <td>2015</td>\n",
       "      <td>1</td>\n",
       "    </tr>\n",
       "    <tr>\n",
       "      <th>21570</th>\n",
       "      <td>3</td>\n",
       "      <td>2.50</td>\n",
       "      <td>1450</td>\n",
       "      <td>5008</td>\n",
       "      <td>1.0</td>\n",
       "      <td>0</td>\n",
       "      <td>0</td>\n",
       "      <td>3</td>\n",
       "      <td>7</td>\n",
       "      <td>840</td>\n",
       "      <td>610</td>\n",
       "      <td>2007</td>\n",
       "      <td>0</td>\n",
       "      <td>98106</td>\n",
       "      <td>47.5435</td>\n",
       "      <td>-122.357</td>\n",
       "      <td>2014</td>\n",
       "      <td>5</td>\n",
       "    </tr>\n",
       "    <tr>\n",
       "      <th>21579</th>\n",
       "      <td>3</td>\n",
       "      <td>3.25</td>\n",
       "      <td>1730</td>\n",
       "      <td>1229</td>\n",
       "      <td>2.0</td>\n",
       "      <td>0</td>\n",
       "      <td>2</td>\n",
       "      <td>3</td>\n",
       "      <td>9</td>\n",
       "      <td>1320</td>\n",
       "      <td>410</td>\n",
       "      <td>2008</td>\n",
       "      <td>0</td>\n",
       "      <td>98119</td>\n",
       "      <td>47.6374</td>\n",
       "      <td>-122.369</td>\n",
       "      <td>2014</td>\n",
       "      <td>5</td>\n",
       "    </tr>\n",
       "    <tr>\n",
       "      <th>21583</th>\n",
       "      <td>2</td>\n",
       "      <td>1.00</td>\n",
       "      <td>710</td>\n",
       "      <td>1157</td>\n",
       "      <td>2.0</td>\n",
       "      <td>0</td>\n",
       "      <td>0</td>\n",
       "      <td>4</td>\n",
       "      <td>7</td>\n",
       "      <td>710</td>\n",
       "      <td>0</td>\n",
       "      <td>1943</td>\n",
       "      <td>0</td>\n",
       "      <td>98102</td>\n",
       "      <td>47.6413</td>\n",
       "      <td>-122.329</td>\n",
       "      <td>2014</td>\n",
       "      <td>6</td>\n",
       "    </tr>\n",
       "    <tr>\n",
       "      <th>21593</th>\n",
       "      <td>5</td>\n",
       "      <td>3.75</td>\n",
       "      <td>4170</td>\n",
       "      <td>8142</td>\n",
       "      <td>2.0</td>\n",
       "      <td>0</td>\n",
       "      <td>2</td>\n",
       "      <td>3</td>\n",
       "      <td>10</td>\n",
       "      <td>4170</td>\n",
       "      <td>0</td>\n",
       "      <td>2006</td>\n",
       "      <td>0</td>\n",
       "      <td>98056</td>\n",
       "      <td>47.5354</td>\n",
       "      <td>-122.181</td>\n",
       "      <td>2015</td>\n",
       "      <td>3</td>\n",
       "    </tr>\n",
       "  </tbody>\n",
       "</table>\n",
       "<p>5404 rows × 18 columns</p>\n",
       "</div>"
      ],
      "text/plain": [
       "       bedrooms  bathrooms  sqft_living  sqft_lot  floors  waterfront  view  \\\n",
       "15            4       3.00         2950      5000     2.0           0     3   \n",
       "20            4       1.75         1620      4980     1.0           0     0   \n",
       "21            3       2.75         3050     44867     1.0           0     4   \n",
       "25            3       2.00         1710      4697     1.5           0     0   \n",
       "27            3       1.00         1400      1581     1.5           0     0   \n",
       "...         ...        ...          ...       ...     ...         ...   ...   \n",
       "21568         4       3.50         3830      8963     2.0           0     0   \n",
       "21570         3       2.50         1450      5008     1.0           0     0   \n",
       "21579         3       3.25         1730      1229     2.0           0     2   \n",
       "21583         2       1.00          710      1157     2.0           0     0   \n",
       "21593         5       3.75         4170      8142     2.0           0     2   \n",
       "\n",
       "       condition  grade  sqft_above  sqft_basement  yr_built  yr_renovated  \\\n",
       "15             3      9        1980            970      1979             0   \n",
       "20             4      7         860            760      1947             0   \n",
       "21             3      9        2330            720      1968             0   \n",
       "25             5      6        1710              0      1941             0   \n",
       "27             5      8        1400              0      1909             0   \n",
       "...          ...    ...         ...            ...       ...           ...   \n",
       "21568          3     10        3120            710      2014             0   \n",
       "21570          3      7         840            610      2007             0   \n",
       "21579          3      9        1320            410      2008             0   \n",
       "21583          4      7         710              0      1943             0   \n",
       "21593          3     10        4170              0      2006             0   \n",
       "\n",
       "      zipcode      lat     long  year month  \n",
       "15      98126  47.5714 -122.375  2015     1  \n",
       "20      98133  47.7025 -122.341  2014     5  \n",
       "21      98040  47.5316 -122.233  2014     8  \n",
       "25      98002  47.3048 -122.218  2014    11  \n",
       "27      98112  47.6221 -122.314  2014    12  \n",
       "...       ...      ...      ...   ...   ...  \n",
       "21568   98004  47.5990 -122.197  2015     1  \n",
       "21570   98106  47.5435 -122.357  2014     5  \n",
       "21579   98119  47.6374 -122.369  2014     5  \n",
       "21583   98102  47.6413 -122.329  2014     6  \n",
       "21593   98056  47.5354 -122.181  2015     3  \n",
       "\n",
       "[5404 rows x 18 columns]"
      ]
     },
     "execution_count": 128,
     "metadata": {},
     "output_type": "execute_result"
    }
   ],
   "source": [
    "to_drop = residual[residual > 500000].index\n",
    "df_cleaned = df_modelisation.drop(to_drop)   \n",
    "df_cleaned = df_cleaned.drop('price', axis=1)\n",
    "df_cleaned"
   ]
  },
  {
   "cell_type": "markdown",
   "metadata": {},
   "source": [
    "## Entraîner un algorithme de régression linéaire"
   ]
  },
  {
   "cell_type": "code",
   "execution_count": 129,
   "metadata": {},
   "outputs": [],
   "source": [
    "X = df_modelisation.drop('price', axis=1)\n",
    "y = df_modelisation[['price']]\n",
    "X_train, X_test, y_train, y_test = train_test_split(X,y)\n",
    "num_col = list(X.select_dtypes(include=[float,int]).columns)\n",
    "cat_col = list(X.select_dtypes(include=[object]).columns)\n",
    "my_num_pipe = make_pipeline(StandardScaler(), PolynomialFeatures())\n",
    "preprocessing = ColumnTransformer([\n",
    "    (\"one_hot\", OneHotEncoder(),cat_col),\n",
    "    (\"scaling\", my_num_pipe, num_col)\n",
    "])"
   ]
  },
  {
   "cell_type": "code",
   "execution_count": 130,
   "metadata": {},
   "outputs": [],
   "source": [
    "my_pipe_lr = make_pipeline(preprocessing, LinearRegression())"
   ]
  },
  {
   "cell_type": "code",
   "execution_count": 131,
   "metadata": {},
   "outputs": [],
   "source": [
    "my_pipe_lr = Pipeline(\n",
    "    [\n",
    "        (\"preprocessing\", preprocessing), \n",
    "        ('ridge', LinearRegression())\n",
    "    ]\n",
    ")"
   ]
  },
  {
   "cell_type": "markdown",
   "metadata": {},
   "source": [
    "### Fit - Score - Predict"
   ]
  },
  {
   "cell_type": "code",
   "execution_count": 132,
   "metadata": {},
   "outputs": [
    {
     "name": "stdout",
     "output_type": "stream",
     "text": [
      "my_pipe_lr score :  0.8755160884067607\n",
      "my_pipe_lr predict :  [[ 520386. ]\n",
      " [ 508229. ]\n",
      " [ 364784. ]\n",
      " ...\n",
      " [ 529237.5]\n",
      " [ 463506. ]\n",
      " [1251266.5]]\n"
     ]
    }
   ],
   "source": [
    "my_pipe_lr.fit(X_train, y_train)\n",
    "print (\"my_pipe_lr score : \" , my_pipe_lr.score(X_test, y_test))\n",
    "print (\"my_pipe_lr predict : \" , my_pipe_lr.predict(X_train))"
   ]
  },
  {
   "cell_type": "markdown",
   "metadata": {},
   "source": [
    "## Stocker le modèle de régression choisi à l'aide du module pickle "
   ]
  },
  {
   "cell_type": "code",
   "execution_count": 133,
   "metadata": {},
   "outputs": [],
   "source": [
    "my_pipe_lr\n",
    "with open(\"my_pipe_lr.pkl\", \"wb\") as f:\n",
    "    pickle.dump(my_pipe_lr, f)\n",
    "\n",
    "def load_from_pickle(name):\n",
    "    with open(name, \"rb\") as f:\n",
    "        return pickle.load(f)\n"
   ]
  },
  {
   "cell_type": "code",
   "execution_count": 134,
   "metadata": {},
   "outputs": [
    {
     "data": {
      "text/html": [
       "<style>#sk-container-id-9 {color: black;background-color: white;}#sk-container-id-9 pre{padding: 0;}#sk-container-id-9 div.sk-toggleable {background-color: white;}#sk-container-id-9 label.sk-toggleable__label {cursor: pointer;display: block;width: 100%;margin-bottom: 0;padding: 0.3em;box-sizing: border-box;text-align: center;}#sk-container-id-9 label.sk-toggleable__label-arrow:before {content: \"▸\";float: left;margin-right: 0.25em;color: #696969;}#sk-container-id-9 label.sk-toggleable__label-arrow:hover:before {color: black;}#sk-container-id-9 div.sk-estimator:hover label.sk-toggleable__label-arrow:before {color: black;}#sk-container-id-9 div.sk-toggleable__content {max-height: 0;max-width: 0;overflow: hidden;text-align: left;background-color: #f0f8ff;}#sk-container-id-9 div.sk-toggleable__content pre {margin: 0.2em;color: black;border-radius: 0.25em;background-color: #f0f8ff;}#sk-container-id-9 input.sk-toggleable__control:checked~div.sk-toggleable__content {max-height: 200px;max-width: 100%;overflow: auto;}#sk-container-id-9 input.sk-toggleable__control:checked~label.sk-toggleable__label-arrow:before {content: \"▾\";}#sk-container-id-9 div.sk-estimator input.sk-toggleable__control:checked~label.sk-toggleable__label {background-color: #d4ebff;}#sk-container-id-9 div.sk-label input.sk-toggleable__control:checked~label.sk-toggleable__label {background-color: #d4ebff;}#sk-container-id-9 input.sk-hidden--visually {border: 0;clip: rect(1px 1px 1px 1px);clip: rect(1px, 1px, 1px, 1px);height: 1px;margin: -1px;overflow: hidden;padding: 0;position: absolute;width: 1px;}#sk-container-id-9 div.sk-estimator {font-family: monospace;background-color: #f0f8ff;border: 1px dotted black;border-radius: 0.25em;box-sizing: border-box;margin-bottom: 0.5em;}#sk-container-id-9 div.sk-estimator:hover {background-color: #d4ebff;}#sk-container-id-9 div.sk-parallel-item::after {content: \"\";width: 100%;border-bottom: 1px solid gray;flex-grow: 1;}#sk-container-id-9 div.sk-label:hover label.sk-toggleable__label {background-color: #d4ebff;}#sk-container-id-9 div.sk-serial::before {content: \"\";position: absolute;border-left: 1px solid gray;box-sizing: border-box;top: 0;bottom: 0;left: 50%;z-index: 0;}#sk-container-id-9 div.sk-serial {display: flex;flex-direction: column;align-items: center;background-color: white;padding-right: 0.2em;padding-left: 0.2em;position: relative;}#sk-container-id-9 div.sk-item {position: relative;z-index: 1;}#sk-container-id-9 div.sk-parallel {display: flex;align-items: stretch;justify-content: center;background-color: white;position: relative;}#sk-container-id-9 div.sk-item::before, #sk-container-id-9 div.sk-parallel-item::before {content: \"\";position: absolute;border-left: 1px solid gray;box-sizing: border-box;top: 0;bottom: 0;left: 50%;z-index: -1;}#sk-container-id-9 div.sk-parallel-item {display: flex;flex-direction: column;z-index: 1;position: relative;background-color: white;}#sk-container-id-9 div.sk-parallel-item:first-child::after {align-self: flex-end;width: 50%;}#sk-container-id-9 div.sk-parallel-item:last-child::after {align-self: flex-start;width: 50%;}#sk-container-id-9 div.sk-parallel-item:only-child::after {width: 0;}#sk-container-id-9 div.sk-dashed-wrapped {border: 1px dashed gray;margin: 0 0.4em 0.5em 0.4em;box-sizing: border-box;padding-bottom: 0.4em;background-color: white;}#sk-container-id-9 div.sk-label label {font-family: monospace;font-weight: bold;display: inline-block;line-height: 1.2em;}#sk-container-id-9 div.sk-label-container {text-align: center;}#sk-container-id-9 div.sk-container {/* jupyter's `normalize.less` sets `[hidden] { display: none; }` but bootstrap.min.css set `[hidden] { display: none !important; }` so we also need the `!important` here to be able to override the default hidden behavior on the sphinx rendered scikit-learn.org. See: https://github.com/scikit-learn/scikit-learn/issues/21755 */display: inline-block !important;position: relative;}#sk-container-id-9 div.sk-text-repr-fallback {display: none;}</style><div id=\"sk-container-id-9\" class=\"sk-top-container\"><div class=\"sk-text-repr-fallback\"><pre>Pipeline(steps=[(&#x27;preprocessing&#x27;,\n",
       "                 ColumnTransformer(transformers=[(&#x27;one_hot&#x27;, OneHotEncoder(),\n",
       "                                                  [&#x27;zipcode&#x27;, &#x27;month&#x27;]),\n",
       "                                                 (&#x27;scaling&#x27;,\n",
       "                                                  Pipeline(steps=[(&#x27;standardscaler&#x27;,\n",
       "                                                                   StandardScaler()),\n",
       "                                                                  (&#x27;polynomialfeatures&#x27;,\n",
       "                                                                   PolynomialFeatures())]),\n",
       "                                                  [&#x27;bedrooms&#x27;, &#x27;bathrooms&#x27;,\n",
       "                                                   &#x27;sqft_living&#x27;, &#x27;sqft_lot&#x27;,\n",
       "                                                   &#x27;floors&#x27;, &#x27;waterfront&#x27;,\n",
       "                                                   &#x27;view&#x27;, &#x27;condition&#x27;, &#x27;grade&#x27;,\n",
       "                                                   &#x27;sqft_above&#x27;,\n",
       "                                                   &#x27;sqft_basement&#x27;, &#x27;yr_built&#x27;,\n",
       "                                                   &#x27;yr_renovated&#x27;, &#x27;lat&#x27;,\n",
       "                                                   &#x27;long&#x27;, &#x27;year&#x27;])])),\n",
       "                (&#x27;ridge&#x27;, LinearRegression())])</pre><b>In a Jupyter environment, please rerun this cell to show the HTML representation or trust the notebook. <br />On GitHub, the HTML representation is unable to render, please try loading this page with nbviewer.org.</b></div><div class=\"sk-container\" hidden><div class=\"sk-item sk-dashed-wrapped\"><div class=\"sk-label-container\"><div class=\"sk-label sk-toggleable\"><input class=\"sk-toggleable__control sk-hidden--visually\" id=\"sk-estimator-id-69\" type=\"checkbox\" ><label for=\"sk-estimator-id-69\" class=\"sk-toggleable__label sk-toggleable__label-arrow\">Pipeline</label><div class=\"sk-toggleable__content\"><pre>Pipeline(steps=[(&#x27;preprocessing&#x27;,\n",
       "                 ColumnTransformer(transformers=[(&#x27;one_hot&#x27;, OneHotEncoder(),\n",
       "                                                  [&#x27;zipcode&#x27;, &#x27;month&#x27;]),\n",
       "                                                 (&#x27;scaling&#x27;,\n",
       "                                                  Pipeline(steps=[(&#x27;standardscaler&#x27;,\n",
       "                                                                   StandardScaler()),\n",
       "                                                                  (&#x27;polynomialfeatures&#x27;,\n",
       "                                                                   PolynomialFeatures())]),\n",
       "                                                  [&#x27;bedrooms&#x27;, &#x27;bathrooms&#x27;,\n",
       "                                                   &#x27;sqft_living&#x27;, &#x27;sqft_lot&#x27;,\n",
       "                                                   &#x27;floors&#x27;, &#x27;waterfront&#x27;,\n",
       "                                                   &#x27;view&#x27;, &#x27;condition&#x27;, &#x27;grade&#x27;,\n",
       "                                                   &#x27;sqft_above&#x27;,\n",
       "                                                   &#x27;sqft_basement&#x27;, &#x27;yr_built&#x27;,\n",
       "                                                   &#x27;yr_renovated&#x27;, &#x27;lat&#x27;,\n",
       "                                                   &#x27;long&#x27;, &#x27;year&#x27;])])),\n",
       "                (&#x27;ridge&#x27;, LinearRegression())])</pre></div></div></div><div class=\"sk-serial\"><div class=\"sk-item sk-dashed-wrapped\"><div class=\"sk-label-container\"><div class=\"sk-label sk-toggleable\"><input class=\"sk-toggleable__control sk-hidden--visually\" id=\"sk-estimator-id-70\" type=\"checkbox\" ><label for=\"sk-estimator-id-70\" class=\"sk-toggleable__label sk-toggleable__label-arrow\">preprocessing: ColumnTransformer</label><div class=\"sk-toggleable__content\"><pre>ColumnTransformer(transformers=[(&#x27;one_hot&#x27;, OneHotEncoder(),\n",
       "                                 [&#x27;zipcode&#x27;, &#x27;month&#x27;]),\n",
       "                                (&#x27;scaling&#x27;,\n",
       "                                 Pipeline(steps=[(&#x27;standardscaler&#x27;,\n",
       "                                                  StandardScaler()),\n",
       "                                                 (&#x27;polynomialfeatures&#x27;,\n",
       "                                                  PolynomialFeatures())]),\n",
       "                                 [&#x27;bedrooms&#x27;, &#x27;bathrooms&#x27;, &#x27;sqft_living&#x27;,\n",
       "                                  &#x27;sqft_lot&#x27;, &#x27;floors&#x27;, &#x27;waterfront&#x27;, &#x27;view&#x27;,\n",
       "                                  &#x27;condition&#x27;, &#x27;grade&#x27;, &#x27;sqft_above&#x27;,\n",
       "                                  &#x27;sqft_basement&#x27;, &#x27;yr_built&#x27;, &#x27;yr_renovated&#x27;,\n",
       "                                  &#x27;lat&#x27;, &#x27;long&#x27;, &#x27;year&#x27;])])</pre></div></div></div><div class=\"sk-parallel\"><div class=\"sk-parallel-item\"><div class=\"sk-item\"><div class=\"sk-label-container\"><div class=\"sk-label sk-toggleable\"><input class=\"sk-toggleable__control sk-hidden--visually\" id=\"sk-estimator-id-71\" type=\"checkbox\" ><label for=\"sk-estimator-id-71\" class=\"sk-toggleable__label sk-toggleable__label-arrow\">one_hot</label><div class=\"sk-toggleable__content\"><pre>[&#x27;zipcode&#x27;, &#x27;month&#x27;]</pre></div></div></div><div class=\"sk-serial\"><div class=\"sk-item\"><div class=\"sk-estimator sk-toggleable\"><input class=\"sk-toggleable__control sk-hidden--visually\" id=\"sk-estimator-id-72\" type=\"checkbox\" ><label for=\"sk-estimator-id-72\" class=\"sk-toggleable__label sk-toggleable__label-arrow\">OneHotEncoder</label><div class=\"sk-toggleable__content\"><pre>OneHotEncoder()</pre></div></div></div></div></div></div><div class=\"sk-parallel-item\"><div class=\"sk-item\"><div class=\"sk-label-container\"><div class=\"sk-label sk-toggleable\"><input class=\"sk-toggleable__control sk-hidden--visually\" id=\"sk-estimator-id-73\" type=\"checkbox\" ><label for=\"sk-estimator-id-73\" class=\"sk-toggleable__label sk-toggleable__label-arrow\">scaling</label><div class=\"sk-toggleable__content\"><pre>[&#x27;bedrooms&#x27;, &#x27;bathrooms&#x27;, &#x27;sqft_living&#x27;, &#x27;sqft_lot&#x27;, &#x27;floors&#x27;, &#x27;waterfront&#x27;, &#x27;view&#x27;, &#x27;condition&#x27;, &#x27;grade&#x27;, &#x27;sqft_above&#x27;, &#x27;sqft_basement&#x27;, &#x27;yr_built&#x27;, &#x27;yr_renovated&#x27;, &#x27;lat&#x27;, &#x27;long&#x27;, &#x27;year&#x27;]</pre></div></div></div><div class=\"sk-serial\"><div class=\"sk-item\"><div class=\"sk-serial\"><div class=\"sk-item\"><div class=\"sk-estimator sk-toggleable\"><input class=\"sk-toggleable__control sk-hidden--visually\" id=\"sk-estimator-id-74\" type=\"checkbox\" ><label for=\"sk-estimator-id-74\" class=\"sk-toggleable__label sk-toggleable__label-arrow\">StandardScaler</label><div class=\"sk-toggleable__content\"><pre>StandardScaler()</pre></div></div></div><div class=\"sk-item\"><div class=\"sk-estimator sk-toggleable\"><input class=\"sk-toggleable__control sk-hidden--visually\" id=\"sk-estimator-id-75\" type=\"checkbox\" ><label for=\"sk-estimator-id-75\" class=\"sk-toggleable__label sk-toggleable__label-arrow\">PolynomialFeatures</label><div class=\"sk-toggleable__content\"><pre>PolynomialFeatures()</pre></div></div></div></div></div></div></div></div></div></div><div class=\"sk-item\"><div class=\"sk-estimator sk-toggleable\"><input class=\"sk-toggleable__control sk-hidden--visually\" id=\"sk-estimator-id-76\" type=\"checkbox\" ><label for=\"sk-estimator-id-76\" class=\"sk-toggleable__label sk-toggleable__label-arrow\">LinearRegression</label><div class=\"sk-toggleable__content\"><pre>LinearRegression()</pre></div></div></div></div></div></div></div>"
      ],
      "text/plain": [
       "Pipeline(steps=[('preprocessing',\n",
       "                 ColumnTransformer(transformers=[('one_hot', OneHotEncoder(),\n",
       "                                                  ['zipcode', 'month']),\n",
       "                                                 ('scaling',\n",
       "                                                  Pipeline(steps=[('standardscaler',\n",
       "                                                                   StandardScaler()),\n",
       "                                                                  ('polynomialfeatures',\n",
       "                                                                   PolynomialFeatures())]),\n",
       "                                                  ['bedrooms', 'bathrooms',\n",
       "                                                   'sqft_living', 'sqft_lot',\n",
       "                                                   'floors', 'waterfront',\n",
       "                                                   'view', 'condition', 'grade',\n",
       "                                                   'sqft_above',\n",
       "                                                   'sqft_basement', 'yr_built',\n",
       "                                                   'yr_renovated', 'lat',\n",
       "                                                   'long', 'year'])])),\n",
       "                ('ridge', LinearRegression())])"
      ]
     },
     "execution_count": 134,
     "metadata": {},
     "output_type": "execute_result"
    }
   ],
   "source": [
    "load_from_pickle(\"my_pipe_lr.pkl\")"
   ]
  },
  {
   "cell_type": "markdown",
   "metadata": {},
   "source": [
    "# RIDGE"
   ]
  },
  {
   "cell_type": "markdown",
   "metadata": {},
   "source": [
    "### Pipeline"
   ]
  },
  {
   "cell_type": "code",
   "execution_count": 135,
   "metadata": {},
   "outputs": [],
   "source": [
    "my_pipe_ridge = Pipeline(\n",
    "    [\n",
    "        (\"preprocessing\", preprocessing), \n",
    "        ('ridge', Ridge())\n",
    "    ]\n",
    ")"
   ]
  },
  {
   "cell_type": "markdown",
   "metadata": {},
   "source": [
    "### Recherche des meilleurs paramètres "
   ]
  },
  {
   "cell_type": "code",
   "execution_count": 136,
   "metadata": {},
   "outputs": [
    {
     "data": {
      "text/plain": [
       "{'memory': None,\n",
       " 'steps': [('preprocessing',\n",
       "   ColumnTransformer(transformers=[('one_hot', OneHotEncoder(),\n",
       "                                    ['zipcode', 'month']),\n",
       "                                   ('scaling',\n",
       "                                    Pipeline(steps=[('standardscaler',\n",
       "                                                     StandardScaler()),\n",
       "                                                    ('polynomialfeatures',\n",
       "                                                     PolynomialFeatures())]),\n",
       "                                    ['bedrooms', 'bathrooms', 'sqft_living',\n",
       "                                     'sqft_lot', 'floors', 'waterfront', 'view',\n",
       "                                     'condition', 'grade', 'sqft_above',\n",
       "                                     'sqft_basement', 'yr_built', 'yr_renovated',\n",
       "                                     'lat', 'long', 'year'])])),\n",
       "  ('ridge', Ridge())],\n",
       " 'verbose': False,\n",
       " 'preprocessing': ColumnTransformer(transformers=[('one_hot', OneHotEncoder(),\n",
       "                                  ['zipcode', 'month']),\n",
       "                                 ('scaling',\n",
       "                                  Pipeline(steps=[('standardscaler',\n",
       "                                                   StandardScaler()),\n",
       "                                                  ('polynomialfeatures',\n",
       "                                                   PolynomialFeatures())]),\n",
       "                                  ['bedrooms', 'bathrooms', 'sqft_living',\n",
       "                                   'sqft_lot', 'floors', 'waterfront', 'view',\n",
       "                                   'condition', 'grade', 'sqft_above',\n",
       "                                   'sqft_basement', 'yr_built', 'yr_renovated',\n",
       "                                   'lat', 'long', 'year'])]),\n",
       " 'ridge': Ridge(),\n",
       " 'preprocessing__n_jobs': None,\n",
       " 'preprocessing__remainder': 'drop',\n",
       " 'preprocessing__sparse_threshold': 0.3,\n",
       " 'preprocessing__transformer_weights': None,\n",
       " 'preprocessing__transformers': [('one_hot',\n",
       "   OneHotEncoder(),\n",
       "   ['zipcode', 'month']),\n",
       "  ('scaling',\n",
       "   Pipeline(steps=[('standardscaler', StandardScaler()),\n",
       "                   ('polynomialfeatures', PolynomialFeatures())]),\n",
       "   ['bedrooms',\n",
       "    'bathrooms',\n",
       "    'sqft_living',\n",
       "    'sqft_lot',\n",
       "    'floors',\n",
       "    'waterfront',\n",
       "    'view',\n",
       "    'condition',\n",
       "    'grade',\n",
       "    'sqft_above',\n",
       "    'sqft_basement',\n",
       "    'yr_built',\n",
       "    'yr_renovated',\n",
       "    'lat',\n",
       "    'long',\n",
       "    'year'])],\n",
       " 'preprocessing__verbose': False,\n",
       " 'preprocessing__verbose_feature_names_out': True,\n",
       " 'preprocessing__one_hot': OneHotEncoder(),\n",
       " 'preprocessing__scaling': Pipeline(steps=[('standardscaler', StandardScaler()),\n",
       "                 ('polynomialfeatures', PolynomialFeatures())]),\n",
       " 'preprocessing__one_hot__categories': 'auto',\n",
       " 'preprocessing__one_hot__drop': None,\n",
       " 'preprocessing__one_hot__dtype': numpy.float64,\n",
       " 'preprocessing__one_hot__handle_unknown': 'error',\n",
       " 'preprocessing__one_hot__max_categories': None,\n",
       " 'preprocessing__one_hot__min_frequency': None,\n",
       " 'preprocessing__one_hot__sparse': True,\n",
       " 'preprocessing__scaling__memory': None,\n",
       " 'preprocessing__scaling__steps': [('standardscaler', StandardScaler()),\n",
       "  ('polynomialfeatures', PolynomialFeatures())],\n",
       " 'preprocessing__scaling__verbose': False,\n",
       " 'preprocessing__scaling__standardscaler': StandardScaler(),\n",
       " 'preprocessing__scaling__polynomialfeatures': PolynomialFeatures(),\n",
       " 'preprocessing__scaling__standardscaler__copy': True,\n",
       " 'preprocessing__scaling__standardscaler__with_mean': True,\n",
       " 'preprocessing__scaling__standardscaler__with_std': True,\n",
       " 'preprocessing__scaling__polynomialfeatures__degree': 2,\n",
       " 'preprocessing__scaling__polynomialfeatures__include_bias': True,\n",
       " 'preprocessing__scaling__polynomialfeatures__interaction_only': False,\n",
       " 'preprocessing__scaling__polynomialfeatures__order': 'C',\n",
       " 'ridge__alpha': 1.0,\n",
       " 'ridge__copy_X': True,\n",
       " 'ridge__fit_intercept': True,\n",
       " 'ridge__max_iter': None,\n",
       " 'ridge__normalize': 'deprecated',\n",
       " 'ridge__positive': False,\n",
       " 'ridge__random_state': None,\n",
       " 'ridge__solver': 'auto',\n",
       " 'ridge__tol': 0.001}"
      ]
     },
     "execution_count": 136,
     "metadata": {},
     "output_type": "execute_result"
    }
   ],
   "source": [
    "my_pipe_ridge.get_params()"
   ]
  },
  {
   "cell_type": "code",
   "execution_count": 137,
   "metadata": {},
   "outputs": [],
   "source": [
    "hyperparametres = {'ridge__alpha': [0.01,0.1, 0.2,0.5, 1,10]}"
   ]
  },
  {
   "cell_type": "code",
   "execution_count": 138,
   "metadata": {},
   "outputs": [
    {
     "data": {
      "text/html": [
       "<style>#sk-container-id-10 {color: black;background-color: white;}#sk-container-id-10 pre{padding: 0;}#sk-container-id-10 div.sk-toggleable {background-color: white;}#sk-container-id-10 label.sk-toggleable__label {cursor: pointer;display: block;width: 100%;margin-bottom: 0;padding: 0.3em;box-sizing: border-box;text-align: center;}#sk-container-id-10 label.sk-toggleable__label-arrow:before {content: \"▸\";float: left;margin-right: 0.25em;color: #696969;}#sk-container-id-10 label.sk-toggleable__label-arrow:hover:before {color: black;}#sk-container-id-10 div.sk-estimator:hover label.sk-toggleable__label-arrow:before {color: black;}#sk-container-id-10 div.sk-toggleable__content {max-height: 0;max-width: 0;overflow: hidden;text-align: left;background-color: #f0f8ff;}#sk-container-id-10 div.sk-toggleable__content pre {margin: 0.2em;color: black;border-radius: 0.25em;background-color: #f0f8ff;}#sk-container-id-10 input.sk-toggleable__control:checked~div.sk-toggleable__content {max-height: 200px;max-width: 100%;overflow: auto;}#sk-container-id-10 input.sk-toggleable__control:checked~label.sk-toggleable__label-arrow:before {content: \"▾\";}#sk-container-id-10 div.sk-estimator input.sk-toggleable__control:checked~label.sk-toggleable__label {background-color: #d4ebff;}#sk-container-id-10 div.sk-label input.sk-toggleable__control:checked~label.sk-toggleable__label {background-color: #d4ebff;}#sk-container-id-10 input.sk-hidden--visually {border: 0;clip: rect(1px 1px 1px 1px);clip: rect(1px, 1px, 1px, 1px);height: 1px;margin: -1px;overflow: hidden;padding: 0;position: absolute;width: 1px;}#sk-container-id-10 div.sk-estimator {font-family: monospace;background-color: #f0f8ff;border: 1px dotted black;border-radius: 0.25em;box-sizing: border-box;margin-bottom: 0.5em;}#sk-container-id-10 div.sk-estimator:hover {background-color: #d4ebff;}#sk-container-id-10 div.sk-parallel-item::after {content: \"\";width: 100%;border-bottom: 1px solid gray;flex-grow: 1;}#sk-container-id-10 div.sk-label:hover label.sk-toggleable__label {background-color: #d4ebff;}#sk-container-id-10 div.sk-serial::before {content: \"\";position: absolute;border-left: 1px solid gray;box-sizing: border-box;top: 0;bottom: 0;left: 50%;z-index: 0;}#sk-container-id-10 div.sk-serial {display: flex;flex-direction: column;align-items: center;background-color: white;padding-right: 0.2em;padding-left: 0.2em;position: relative;}#sk-container-id-10 div.sk-item {position: relative;z-index: 1;}#sk-container-id-10 div.sk-parallel {display: flex;align-items: stretch;justify-content: center;background-color: white;position: relative;}#sk-container-id-10 div.sk-item::before, #sk-container-id-10 div.sk-parallel-item::before {content: \"\";position: absolute;border-left: 1px solid gray;box-sizing: border-box;top: 0;bottom: 0;left: 50%;z-index: -1;}#sk-container-id-10 div.sk-parallel-item {display: flex;flex-direction: column;z-index: 1;position: relative;background-color: white;}#sk-container-id-10 div.sk-parallel-item:first-child::after {align-self: flex-end;width: 50%;}#sk-container-id-10 div.sk-parallel-item:last-child::after {align-self: flex-start;width: 50%;}#sk-container-id-10 div.sk-parallel-item:only-child::after {width: 0;}#sk-container-id-10 div.sk-dashed-wrapped {border: 1px dashed gray;margin: 0 0.4em 0.5em 0.4em;box-sizing: border-box;padding-bottom: 0.4em;background-color: white;}#sk-container-id-10 div.sk-label label {font-family: monospace;font-weight: bold;display: inline-block;line-height: 1.2em;}#sk-container-id-10 div.sk-label-container {text-align: center;}#sk-container-id-10 div.sk-container {/* jupyter's `normalize.less` sets `[hidden] { display: none; }` but bootstrap.min.css set `[hidden] { display: none !important; }` so we also need the `!important` here to be able to override the default hidden behavior on the sphinx rendered scikit-learn.org. See: https://github.com/scikit-learn/scikit-learn/issues/21755 */display: inline-block !important;position: relative;}#sk-container-id-10 div.sk-text-repr-fallback {display: none;}</style><div id=\"sk-container-id-10\" class=\"sk-top-container\"><div class=\"sk-text-repr-fallback\"><pre>GridSearchCV(cv=5,\n",
       "             estimator=Pipeline(steps=[(&#x27;preprocessing&#x27;,\n",
       "                                        ColumnTransformer(transformers=[(&#x27;one_hot&#x27;,\n",
       "                                                                         OneHotEncoder(),\n",
       "                                                                         [&#x27;zipcode&#x27;,\n",
       "                                                                          &#x27;month&#x27;]),\n",
       "                                                                        (&#x27;scaling&#x27;,\n",
       "                                                                         Pipeline(steps=[(&#x27;standardscaler&#x27;,\n",
       "                                                                                          StandardScaler()),\n",
       "                                                                                         (&#x27;polynomialfeatures&#x27;,\n",
       "                                                                                          PolynomialFeatures())]),\n",
       "                                                                         [&#x27;bedrooms&#x27;,\n",
       "                                                                          &#x27;bathrooms&#x27;,\n",
       "                                                                          &#x27;sqft_living&#x27;,\n",
       "                                                                          &#x27;sqft_lot&#x27;,\n",
       "                                                                          &#x27;floors&#x27;,\n",
       "                                                                          &#x27;waterfront&#x27;,\n",
       "                                                                          &#x27;view&#x27;,\n",
       "                                                                          &#x27;condition&#x27;,\n",
       "                                                                          &#x27;grade&#x27;,\n",
       "                                                                          &#x27;sqft_above&#x27;,\n",
       "                                                                          &#x27;sqft_basement&#x27;,\n",
       "                                                                          &#x27;yr_built&#x27;,\n",
       "                                                                          &#x27;yr_renovated&#x27;,\n",
       "                                                                          &#x27;lat&#x27;,\n",
       "                                                                          &#x27;long&#x27;,\n",
       "                                                                          &#x27;year&#x27;])])),\n",
       "                                       (&#x27;ridge&#x27;, Ridge())]),\n",
       "             param_grid={&#x27;ridge__alpha&#x27;: [0.01, 0.1, 0.2, 0.5, 1, 10]})</pre><b>In a Jupyter environment, please rerun this cell to show the HTML representation or trust the notebook. <br />On GitHub, the HTML representation is unable to render, please try loading this page with nbviewer.org.</b></div><div class=\"sk-container\" hidden><div class=\"sk-item sk-dashed-wrapped\"><div class=\"sk-label-container\"><div class=\"sk-label sk-toggleable\"><input class=\"sk-toggleable__control sk-hidden--visually\" id=\"sk-estimator-id-77\" type=\"checkbox\" ><label for=\"sk-estimator-id-77\" class=\"sk-toggleable__label sk-toggleable__label-arrow\">GridSearchCV</label><div class=\"sk-toggleable__content\"><pre>GridSearchCV(cv=5,\n",
       "             estimator=Pipeline(steps=[(&#x27;preprocessing&#x27;,\n",
       "                                        ColumnTransformer(transformers=[(&#x27;one_hot&#x27;,\n",
       "                                                                         OneHotEncoder(),\n",
       "                                                                         [&#x27;zipcode&#x27;,\n",
       "                                                                          &#x27;month&#x27;]),\n",
       "                                                                        (&#x27;scaling&#x27;,\n",
       "                                                                         Pipeline(steps=[(&#x27;standardscaler&#x27;,\n",
       "                                                                                          StandardScaler()),\n",
       "                                                                                         (&#x27;polynomialfeatures&#x27;,\n",
       "                                                                                          PolynomialFeatures())]),\n",
       "                                                                         [&#x27;bedrooms&#x27;,\n",
       "                                                                          &#x27;bathrooms&#x27;,\n",
       "                                                                          &#x27;sqft_living&#x27;,\n",
       "                                                                          &#x27;sqft_lot&#x27;,\n",
       "                                                                          &#x27;floors&#x27;,\n",
       "                                                                          &#x27;waterfront&#x27;,\n",
       "                                                                          &#x27;view&#x27;,\n",
       "                                                                          &#x27;condition&#x27;,\n",
       "                                                                          &#x27;grade&#x27;,\n",
       "                                                                          &#x27;sqft_above&#x27;,\n",
       "                                                                          &#x27;sqft_basement&#x27;,\n",
       "                                                                          &#x27;yr_built&#x27;,\n",
       "                                                                          &#x27;yr_renovated&#x27;,\n",
       "                                                                          &#x27;lat&#x27;,\n",
       "                                                                          &#x27;long&#x27;,\n",
       "                                                                          &#x27;year&#x27;])])),\n",
       "                                       (&#x27;ridge&#x27;, Ridge())]),\n",
       "             param_grid={&#x27;ridge__alpha&#x27;: [0.01, 0.1, 0.2, 0.5, 1, 10]})</pre></div></div></div><div class=\"sk-parallel\"><div class=\"sk-parallel-item\"><div class=\"sk-item\"><div class=\"sk-label-container\"><div class=\"sk-label sk-toggleable\"><input class=\"sk-toggleable__control sk-hidden--visually\" id=\"sk-estimator-id-78\" type=\"checkbox\" ><label for=\"sk-estimator-id-78\" class=\"sk-toggleable__label sk-toggleable__label-arrow\">estimator: Pipeline</label><div class=\"sk-toggleable__content\"><pre>Pipeline(steps=[(&#x27;preprocessing&#x27;,\n",
       "                 ColumnTransformer(transformers=[(&#x27;one_hot&#x27;, OneHotEncoder(),\n",
       "                                                  [&#x27;zipcode&#x27;, &#x27;month&#x27;]),\n",
       "                                                 (&#x27;scaling&#x27;,\n",
       "                                                  Pipeline(steps=[(&#x27;standardscaler&#x27;,\n",
       "                                                                   StandardScaler()),\n",
       "                                                                  (&#x27;polynomialfeatures&#x27;,\n",
       "                                                                   PolynomialFeatures())]),\n",
       "                                                  [&#x27;bedrooms&#x27;, &#x27;bathrooms&#x27;,\n",
       "                                                   &#x27;sqft_living&#x27;, &#x27;sqft_lot&#x27;,\n",
       "                                                   &#x27;floors&#x27;, &#x27;waterfront&#x27;,\n",
       "                                                   &#x27;view&#x27;, &#x27;condition&#x27;, &#x27;grade&#x27;,\n",
       "                                                   &#x27;sqft_above&#x27;,\n",
       "                                                   &#x27;sqft_basement&#x27;, &#x27;yr_built&#x27;,\n",
       "                                                   &#x27;yr_renovated&#x27;, &#x27;lat&#x27;,\n",
       "                                                   &#x27;long&#x27;, &#x27;year&#x27;])])),\n",
       "                (&#x27;ridge&#x27;, Ridge())])</pre></div></div></div><div class=\"sk-serial\"><div class=\"sk-item\"><div class=\"sk-serial\"><div class=\"sk-item sk-dashed-wrapped\"><div class=\"sk-label-container\"><div class=\"sk-label sk-toggleable\"><input class=\"sk-toggleable__control sk-hidden--visually\" id=\"sk-estimator-id-79\" type=\"checkbox\" ><label for=\"sk-estimator-id-79\" class=\"sk-toggleable__label sk-toggleable__label-arrow\">preprocessing: ColumnTransformer</label><div class=\"sk-toggleable__content\"><pre>ColumnTransformer(transformers=[(&#x27;one_hot&#x27;, OneHotEncoder(),\n",
       "                                 [&#x27;zipcode&#x27;, &#x27;month&#x27;]),\n",
       "                                (&#x27;scaling&#x27;,\n",
       "                                 Pipeline(steps=[(&#x27;standardscaler&#x27;,\n",
       "                                                  StandardScaler()),\n",
       "                                                 (&#x27;polynomialfeatures&#x27;,\n",
       "                                                  PolynomialFeatures())]),\n",
       "                                 [&#x27;bedrooms&#x27;, &#x27;bathrooms&#x27;, &#x27;sqft_living&#x27;,\n",
       "                                  &#x27;sqft_lot&#x27;, &#x27;floors&#x27;, &#x27;waterfront&#x27;, &#x27;view&#x27;,\n",
       "                                  &#x27;condition&#x27;, &#x27;grade&#x27;, &#x27;sqft_above&#x27;,\n",
       "                                  &#x27;sqft_basement&#x27;, &#x27;yr_built&#x27;, &#x27;yr_renovated&#x27;,\n",
       "                                  &#x27;lat&#x27;, &#x27;long&#x27;, &#x27;year&#x27;])])</pre></div></div></div><div class=\"sk-parallel\"><div class=\"sk-parallel-item\"><div class=\"sk-item\"><div class=\"sk-label-container\"><div class=\"sk-label sk-toggleable\"><input class=\"sk-toggleable__control sk-hidden--visually\" id=\"sk-estimator-id-80\" type=\"checkbox\" ><label for=\"sk-estimator-id-80\" class=\"sk-toggleable__label sk-toggleable__label-arrow\">one_hot</label><div class=\"sk-toggleable__content\"><pre>[&#x27;zipcode&#x27;, &#x27;month&#x27;]</pre></div></div></div><div class=\"sk-serial\"><div class=\"sk-item\"><div class=\"sk-estimator sk-toggleable\"><input class=\"sk-toggleable__control sk-hidden--visually\" id=\"sk-estimator-id-81\" type=\"checkbox\" ><label for=\"sk-estimator-id-81\" class=\"sk-toggleable__label sk-toggleable__label-arrow\">OneHotEncoder</label><div class=\"sk-toggleable__content\"><pre>OneHotEncoder()</pre></div></div></div></div></div></div><div class=\"sk-parallel-item\"><div class=\"sk-item\"><div class=\"sk-label-container\"><div class=\"sk-label sk-toggleable\"><input class=\"sk-toggleable__control sk-hidden--visually\" id=\"sk-estimator-id-82\" type=\"checkbox\" ><label for=\"sk-estimator-id-82\" class=\"sk-toggleable__label sk-toggleable__label-arrow\">scaling</label><div class=\"sk-toggleable__content\"><pre>[&#x27;bedrooms&#x27;, &#x27;bathrooms&#x27;, &#x27;sqft_living&#x27;, &#x27;sqft_lot&#x27;, &#x27;floors&#x27;, &#x27;waterfront&#x27;, &#x27;view&#x27;, &#x27;condition&#x27;, &#x27;grade&#x27;, &#x27;sqft_above&#x27;, &#x27;sqft_basement&#x27;, &#x27;yr_built&#x27;, &#x27;yr_renovated&#x27;, &#x27;lat&#x27;, &#x27;long&#x27;, &#x27;year&#x27;]</pre></div></div></div><div class=\"sk-serial\"><div class=\"sk-item\"><div class=\"sk-serial\"><div class=\"sk-item\"><div class=\"sk-estimator sk-toggleable\"><input class=\"sk-toggleable__control sk-hidden--visually\" id=\"sk-estimator-id-83\" type=\"checkbox\" ><label for=\"sk-estimator-id-83\" class=\"sk-toggleable__label sk-toggleable__label-arrow\">StandardScaler</label><div class=\"sk-toggleable__content\"><pre>StandardScaler()</pre></div></div></div><div class=\"sk-item\"><div class=\"sk-estimator sk-toggleable\"><input class=\"sk-toggleable__control sk-hidden--visually\" id=\"sk-estimator-id-84\" type=\"checkbox\" ><label for=\"sk-estimator-id-84\" class=\"sk-toggleable__label sk-toggleable__label-arrow\">PolynomialFeatures</label><div class=\"sk-toggleable__content\"><pre>PolynomialFeatures()</pre></div></div></div></div></div></div></div></div></div></div><div class=\"sk-item\"><div class=\"sk-estimator sk-toggleable\"><input class=\"sk-toggleable__control sk-hidden--visually\" id=\"sk-estimator-id-85\" type=\"checkbox\" ><label for=\"sk-estimator-id-85\" class=\"sk-toggleable__label sk-toggleable__label-arrow\">Ridge</label><div class=\"sk-toggleable__content\"><pre>Ridge()</pre></div></div></div></div></div></div></div></div></div></div></div></div>"
      ],
      "text/plain": [
       "GridSearchCV(cv=5,\n",
       "             estimator=Pipeline(steps=[('preprocessing',\n",
       "                                        ColumnTransformer(transformers=[('one_hot',\n",
       "                                                                         OneHotEncoder(),\n",
       "                                                                         ['zipcode',\n",
       "                                                                          'month']),\n",
       "                                                                        ('scaling',\n",
       "                                                                         Pipeline(steps=[('standardscaler',\n",
       "                                                                                          StandardScaler()),\n",
       "                                                                                         ('polynomialfeatures',\n",
       "                                                                                          PolynomialFeatures())]),\n",
       "                                                                         ['bedrooms',\n",
       "                                                                          'bathrooms',\n",
       "                                                                          'sqft_living',\n",
       "                                                                          'sqft_lot',\n",
       "                                                                          'floors',\n",
       "                                                                          'waterfront',\n",
       "                                                                          'view',\n",
       "                                                                          'condition',\n",
       "                                                                          'grade',\n",
       "                                                                          'sqft_above',\n",
       "                                                                          'sqft_basement',\n",
       "                                                                          'yr_built',\n",
       "                                                                          'yr_renovated',\n",
       "                                                                          'lat',\n",
       "                                                                          'long',\n",
       "                                                                          'year'])])),\n",
       "                                       ('ridge', Ridge())]),\n",
       "             param_grid={'ridge__alpha': [0.01, 0.1, 0.2, 0.5, 1, 10]})"
      ]
     },
     "execution_count": 138,
     "metadata": {},
     "output_type": "execute_result"
    }
   ],
   "source": [
    "random_search = GridSearchCV(my_pipe_ridge, hyperparametres, cv= 5)\n",
    "random_search"
   ]
  },
  {
   "cell_type": "code",
   "execution_count": 139,
   "metadata": {},
   "outputs": [
    {
     "data": {
      "text/html": [
       "<style>#sk-container-id-11 {color: black;background-color: white;}#sk-container-id-11 pre{padding: 0;}#sk-container-id-11 div.sk-toggleable {background-color: white;}#sk-container-id-11 label.sk-toggleable__label {cursor: pointer;display: block;width: 100%;margin-bottom: 0;padding: 0.3em;box-sizing: border-box;text-align: center;}#sk-container-id-11 label.sk-toggleable__label-arrow:before {content: \"▸\";float: left;margin-right: 0.25em;color: #696969;}#sk-container-id-11 label.sk-toggleable__label-arrow:hover:before {color: black;}#sk-container-id-11 div.sk-estimator:hover label.sk-toggleable__label-arrow:before {color: black;}#sk-container-id-11 div.sk-toggleable__content {max-height: 0;max-width: 0;overflow: hidden;text-align: left;background-color: #f0f8ff;}#sk-container-id-11 div.sk-toggleable__content pre {margin: 0.2em;color: black;border-radius: 0.25em;background-color: #f0f8ff;}#sk-container-id-11 input.sk-toggleable__control:checked~div.sk-toggleable__content {max-height: 200px;max-width: 100%;overflow: auto;}#sk-container-id-11 input.sk-toggleable__control:checked~label.sk-toggleable__label-arrow:before {content: \"▾\";}#sk-container-id-11 div.sk-estimator input.sk-toggleable__control:checked~label.sk-toggleable__label {background-color: #d4ebff;}#sk-container-id-11 div.sk-label input.sk-toggleable__control:checked~label.sk-toggleable__label {background-color: #d4ebff;}#sk-container-id-11 input.sk-hidden--visually {border: 0;clip: rect(1px 1px 1px 1px);clip: rect(1px, 1px, 1px, 1px);height: 1px;margin: -1px;overflow: hidden;padding: 0;position: absolute;width: 1px;}#sk-container-id-11 div.sk-estimator {font-family: monospace;background-color: #f0f8ff;border: 1px dotted black;border-radius: 0.25em;box-sizing: border-box;margin-bottom: 0.5em;}#sk-container-id-11 div.sk-estimator:hover {background-color: #d4ebff;}#sk-container-id-11 div.sk-parallel-item::after {content: \"\";width: 100%;border-bottom: 1px solid gray;flex-grow: 1;}#sk-container-id-11 div.sk-label:hover label.sk-toggleable__label {background-color: #d4ebff;}#sk-container-id-11 div.sk-serial::before {content: \"\";position: absolute;border-left: 1px solid gray;box-sizing: border-box;top: 0;bottom: 0;left: 50%;z-index: 0;}#sk-container-id-11 div.sk-serial {display: flex;flex-direction: column;align-items: center;background-color: white;padding-right: 0.2em;padding-left: 0.2em;position: relative;}#sk-container-id-11 div.sk-item {position: relative;z-index: 1;}#sk-container-id-11 div.sk-parallel {display: flex;align-items: stretch;justify-content: center;background-color: white;position: relative;}#sk-container-id-11 div.sk-item::before, #sk-container-id-11 div.sk-parallel-item::before {content: \"\";position: absolute;border-left: 1px solid gray;box-sizing: border-box;top: 0;bottom: 0;left: 50%;z-index: -1;}#sk-container-id-11 div.sk-parallel-item {display: flex;flex-direction: column;z-index: 1;position: relative;background-color: white;}#sk-container-id-11 div.sk-parallel-item:first-child::after {align-self: flex-end;width: 50%;}#sk-container-id-11 div.sk-parallel-item:last-child::after {align-self: flex-start;width: 50%;}#sk-container-id-11 div.sk-parallel-item:only-child::after {width: 0;}#sk-container-id-11 div.sk-dashed-wrapped {border: 1px dashed gray;margin: 0 0.4em 0.5em 0.4em;box-sizing: border-box;padding-bottom: 0.4em;background-color: white;}#sk-container-id-11 div.sk-label label {font-family: monospace;font-weight: bold;display: inline-block;line-height: 1.2em;}#sk-container-id-11 div.sk-label-container {text-align: center;}#sk-container-id-11 div.sk-container {/* jupyter's `normalize.less` sets `[hidden] { display: none; }` but bootstrap.min.css set `[hidden] { display: none !important; }` so we also need the `!important` here to be able to override the default hidden behavior on the sphinx rendered scikit-learn.org. See: https://github.com/scikit-learn/scikit-learn/issues/21755 */display: inline-block !important;position: relative;}#sk-container-id-11 div.sk-text-repr-fallback {display: none;}</style><div id=\"sk-container-id-11\" class=\"sk-top-container\"><div class=\"sk-text-repr-fallback\"><pre>GridSearchCV(cv=5,\n",
       "             estimator=Pipeline(steps=[(&#x27;preprocessing&#x27;,\n",
       "                                        ColumnTransformer(transformers=[(&#x27;one_hot&#x27;,\n",
       "                                                                         OneHotEncoder(),\n",
       "                                                                         [&#x27;zipcode&#x27;,\n",
       "                                                                          &#x27;month&#x27;]),\n",
       "                                                                        (&#x27;scaling&#x27;,\n",
       "                                                                         Pipeline(steps=[(&#x27;standardscaler&#x27;,\n",
       "                                                                                          StandardScaler()),\n",
       "                                                                                         (&#x27;polynomialfeatures&#x27;,\n",
       "                                                                                          PolynomialFeatures())]),\n",
       "                                                                         [&#x27;bedrooms&#x27;,\n",
       "                                                                          &#x27;bathrooms&#x27;,\n",
       "                                                                          &#x27;sqft_living&#x27;,\n",
       "                                                                          &#x27;sqft_lot&#x27;,\n",
       "                                                                          &#x27;floors&#x27;,\n",
       "                                                                          &#x27;waterfront&#x27;,\n",
       "                                                                          &#x27;view&#x27;,\n",
       "                                                                          &#x27;condition&#x27;,\n",
       "                                                                          &#x27;grade&#x27;,\n",
       "                                                                          &#x27;sqft_above&#x27;,\n",
       "                                                                          &#x27;sqft_basement&#x27;,\n",
       "                                                                          &#x27;yr_built&#x27;,\n",
       "                                                                          &#x27;yr_renovated&#x27;,\n",
       "                                                                          &#x27;lat&#x27;,\n",
       "                                                                          &#x27;long&#x27;,\n",
       "                                                                          &#x27;year&#x27;])])),\n",
       "                                       (&#x27;ridge&#x27;, Ridge())]),\n",
       "             param_grid={&#x27;ridge__alpha&#x27;: [0.01, 0.1, 0.2, 0.5, 1, 10]})</pre><b>In a Jupyter environment, please rerun this cell to show the HTML representation or trust the notebook. <br />On GitHub, the HTML representation is unable to render, please try loading this page with nbviewer.org.</b></div><div class=\"sk-container\" hidden><div class=\"sk-item sk-dashed-wrapped\"><div class=\"sk-label-container\"><div class=\"sk-label sk-toggleable\"><input class=\"sk-toggleable__control sk-hidden--visually\" id=\"sk-estimator-id-86\" type=\"checkbox\" ><label for=\"sk-estimator-id-86\" class=\"sk-toggleable__label sk-toggleable__label-arrow\">GridSearchCV</label><div class=\"sk-toggleable__content\"><pre>GridSearchCV(cv=5,\n",
       "             estimator=Pipeline(steps=[(&#x27;preprocessing&#x27;,\n",
       "                                        ColumnTransformer(transformers=[(&#x27;one_hot&#x27;,\n",
       "                                                                         OneHotEncoder(),\n",
       "                                                                         [&#x27;zipcode&#x27;,\n",
       "                                                                          &#x27;month&#x27;]),\n",
       "                                                                        (&#x27;scaling&#x27;,\n",
       "                                                                         Pipeline(steps=[(&#x27;standardscaler&#x27;,\n",
       "                                                                                          StandardScaler()),\n",
       "                                                                                         (&#x27;polynomialfeatures&#x27;,\n",
       "                                                                                          PolynomialFeatures())]),\n",
       "                                                                         [&#x27;bedrooms&#x27;,\n",
       "                                                                          &#x27;bathrooms&#x27;,\n",
       "                                                                          &#x27;sqft_living&#x27;,\n",
       "                                                                          &#x27;sqft_lot&#x27;,\n",
       "                                                                          &#x27;floors&#x27;,\n",
       "                                                                          &#x27;waterfront&#x27;,\n",
       "                                                                          &#x27;view&#x27;,\n",
       "                                                                          &#x27;condition&#x27;,\n",
       "                                                                          &#x27;grade&#x27;,\n",
       "                                                                          &#x27;sqft_above&#x27;,\n",
       "                                                                          &#x27;sqft_basement&#x27;,\n",
       "                                                                          &#x27;yr_built&#x27;,\n",
       "                                                                          &#x27;yr_renovated&#x27;,\n",
       "                                                                          &#x27;lat&#x27;,\n",
       "                                                                          &#x27;long&#x27;,\n",
       "                                                                          &#x27;year&#x27;])])),\n",
       "                                       (&#x27;ridge&#x27;, Ridge())]),\n",
       "             param_grid={&#x27;ridge__alpha&#x27;: [0.01, 0.1, 0.2, 0.5, 1, 10]})</pre></div></div></div><div class=\"sk-parallel\"><div class=\"sk-parallel-item\"><div class=\"sk-item\"><div class=\"sk-label-container\"><div class=\"sk-label sk-toggleable\"><input class=\"sk-toggleable__control sk-hidden--visually\" id=\"sk-estimator-id-87\" type=\"checkbox\" ><label for=\"sk-estimator-id-87\" class=\"sk-toggleable__label sk-toggleable__label-arrow\">estimator: Pipeline</label><div class=\"sk-toggleable__content\"><pre>Pipeline(steps=[(&#x27;preprocessing&#x27;,\n",
       "                 ColumnTransformer(transformers=[(&#x27;one_hot&#x27;, OneHotEncoder(),\n",
       "                                                  [&#x27;zipcode&#x27;, &#x27;month&#x27;]),\n",
       "                                                 (&#x27;scaling&#x27;,\n",
       "                                                  Pipeline(steps=[(&#x27;standardscaler&#x27;,\n",
       "                                                                   StandardScaler()),\n",
       "                                                                  (&#x27;polynomialfeatures&#x27;,\n",
       "                                                                   PolynomialFeatures())]),\n",
       "                                                  [&#x27;bedrooms&#x27;, &#x27;bathrooms&#x27;,\n",
       "                                                   &#x27;sqft_living&#x27;, &#x27;sqft_lot&#x27;,\n",
       "                                                   &#x27;floors&#x27;, &#x27;waterfront&#x27;,\n",
       "                                                   &#x27;view&#x27;, &#x27;condition&#x27;, &#x27;grade&#x27;,\n",
       "                                                   &#x27;sqft_above&#x27;,\n",
       "                                                   &#x27;sqft_basement&#x27;, &#x27;yr_built&#x27;,\n",
       "                                                   &#x27;yr_renovated&#x27;, &#x27;lat&#x27;,\n",
       "                                                   &#x27;long&#x27;, &#x27;year&#x27;])])),\n",
       "                (&#x27;ridge&#x27;, Ridge())])</pre></div></div></div><div class=\"sk-serial\"><div class=\"sk-item\"><div class=\"sk-serial\"><div class=\"sk-item sk-dashed-wrapped\"><div class=\"sk-label-container\"><div class=\"sk-label sk-toggleable\"><input class=\"sk-toggleable__control sk-hidden--visually\" id=\"sk-estimator-id-88\" type=\"checkbox\" ><label for=\"sk-estimator-id-88\" class=\"sk-toggleable__label sk-toggleable__label-arrow\">preprocessing: ColumnTransformer</label><div class=\"sk-toggleable__content\"><pre>ColumnTransformer(transformers=[(&#x27;one_hot&#x27;, OneHotEncoder(),\n",
       "                                 [&#x27;zipcode&#x27;, &#x27;month&#x27;]),\n",
       "                                (&#x27;scaling&#x27;,\n",
       "                                 Pipeline(steps=[(&#x27;standardscaler&#x27;,\n",
       "                                                  StandardScaler()),\n",
       "                                                 (&#x27;polynomialfeatures&#x27;,\n",
       "                                                  PolynomialFeatures())]),\n",
       "                                 [&#x27;bedrooms&#x27;, &#x27;bathrooms&#x27;, &#x27;sqft_living&#x27;,\n",
       "                                  &#x27;sqft_lot&#x27;, &#x27;floors&#x27;, &#x27;waterfront&#x27;, &#x27;view&#x27;,\n",
       "                                  &#x27;condition&#x27;, &#x27;grade&#x27;, &#x27;sqft_above&#x27;,\n",
       "                                  &#x27;sqft_basement&#x27;, &#x27;yr_built&#x27;, &#x27;yr_renovated&#x27;,\n",
       "                                  &#x27;lat&#x27;, &#x27;long&#x27;, &#x27;year&#x27;])])</pre></div></div></div><div class=\"sk-parallel\"><div class=\"sk-parallel-item\"><div class=\"sk-item\"><div class=\"sk-label-container\"><div class=\"sk-label sk-toggleable\"><input class=\"sk-toggleable__control sk-hidden--visually\" id=\"sk-estimator-id-89\" type=\"checkbox\" ><label for=\"sk-estimator-id-89\" class=\"sk-toggleable__label sk-toggleable__label-arrow\">one_hot</label><div class=\"sk-toggleable__content\"><pre>[&#x27;zipcode&#x27;, &#x27;month&#x27;]</pre></div></div></div><div class=\"sk-serial\"><div class=\"sk-item\"><div class=\"sk-estimator sk-toggleable\"><input class=\"sk-toggleable__control sk-hidden--visually\" id=\"sk-estimator-id-90\" type=\"checkbox\" ><label for=\"sk-estimator-id-90\" class=\"sk-toggleable__label sk-toggleable__label-arrow\">OneHotEncoder</label><div class=\"sk-toggleable__content\"><pre>OneHotEncoder()</pre></div></div></div></div></div></div><div class=\"sk-parallel-item\"><div class=\"sk-item\"><div class=\"sk-label-container\"><div class=\"sk-label sk-toggleable\"><input class=\"sk-toggleable__control sk-hidden--visually\" id=\"sk-estimator-id-91\" type=\"checkbox\" ><label for=\"sk-estimator-id-91\" class=\"sk-toggleable__label sk-toggleable__label-arrow\">scaling</label><div class=\"sk-toggleable__content\"><pre>[&#x27;bedrooms&#x27;, &#x27;bathrooms&#x27;, &#x27;sqft_living&#x27;, &#x27;sqft_lot&#x27;, &#x27;floors&#x27;, &#x27;waterfront&#x27;, &#x27;view&#x27;, &#x27;condition&#x27;, &#x27;grade&#x27;, &#x27;sqft_above&#x27;, &#x27;sqft_basement&#x27;, &#x27;yr_built&#x27;, &#x27;yr_renovated&#x27;, &#x27;lat&#x27;, &#x27;long&#x27;, &#x27;year&#x27;]</pre></div></div></div><div class=\"sk-serial\"><div class=\"sk-item\"><div class=\"sk-serial\"><div class=\"sk-item\"><div class=\"sk-estimator sk-toggleable\"><input class=\"sk-toggleable__control sk-hidden--visually\" id=\"sk-estimator-id-92\" type=\"checkbox\" ><label for=\"sk-estimator-id-92\" class=\"sk-toggleable__label sk-toggleable__label-arrow\">StandardScaler</label><div class=\"sk-toggleable__content\"><pre>StandardScaler()</pre></div></div></div><div class=\"sk-item\"><div class=\"sk-estimator sk-toggleable\"><input class=\"sk-toggleable__control sk-hidden--visually\" id=\"sk-estimator-id-93\" type=\"checkbox\" ><label for=\"sk-estimator-id-93\" class=\"sk-toggleable__label sk-toggleable__label-arrow\">PolynomialFeatures</label><div class=\"sk-toggleable__content\"><pre>PolynomialFeatures()</pre></div></div></div></div></div></div></div></div></div></div><div class=\"sk-item\"><div class=\"sk-estimator sk-toggleable\"><input class=\"sk-toggleable__control sk-hidden--visually\" id=\"sk-estimator-id-94\" type=\"checkbox\" ><label for=\"sk-estimator-id-94\" class=\"sk-toggleable__label sk-toggleable__label-arrow\">Ridge</label><div class=\"sk-toggleable__content\"><pre>Ridge()</pre></div></div></div></div></div></div></div></div></div></div></div></div>"
      ],
      "text/plain": [
       "GridSearchCV(cv=5,\n",
       "             estimator=Pipeline(steps=[('preprocessing',\n",
       "                                        ColumnTransformer(transformers=[('one_hot',\n",
       "                                                                         OneHotEncoder(),\n",
       "                                                                         ['zipcode',\n",
       "                                                                          'month']),\n",
       "                                                                        ('scaling',\n",
       "                                                                         Pipeline(steps=[('standardscaler',\n",
       "                                                                                          StandardScaler()),\n",
       "                                                                                         ('polynomialfeatures',\n",
       "                                                                                          PolynomialFeatures())]),\n",
       "                                                                         ['bedrooms',\n",
       "                                                                          'bathrooms',\n",
       "                                                                          'sqft_living',\n",
       "                                                                          'sqft_lot',\n",
       "                                                                          'floors',\n",
       "                                                                          'waterfront',\n",
       "                                                                          'view',\n",
       "                                                                          'condition',\n",
       "                                                                          'grade',\n",
       "                                                                          'sqft_above',\n",
       "                                                                          'sqft_basement',\n",
       "                                                                          'yr_built',\n",
       "                                                                          'yr_renovated',\n",
       "                                                                          'lat',\n",
       "                                                                          'long',\n",
       "                                                                          'year'])])),\n",
       "                                       ('ridge', Ridge())]),\n",
       "             param_grid={'ridge__alpha': [0.01, 0.1, 0.2, 0.5, 1, 10]})"
      ]
     },
     "execution_count": 139,
     "metadata": {},
     "output_type": "execute_result"
    }
   ],
   "source": [
    "random_search.fit(X_train,y_train)"
   ]
  },
  {
   "cell_type": "code",
   "execution_count": 140,
   "metadata": {},
   "outputs": [
    {
     "data": {
      "text/plain": [
       "{'ridge__alpha': 0.01}"
      ]
     },
     "execution_count": 140,
     "metadata": {},
     "output_type": "execute_result"
    }
   ],
   "source": [
    "random_search.best_params_"
   ]
  },
  {
   "cell_type": "code",
   "execution_count": 141,
   "metadata": {},
   "outputs": [
    {
     "data": {
      "text/html": [
       "<style>#sk-container-id-12 {color: black;background-color: white;}#sk-container-id-12 pre{padding: 0;}#sk-container-id-12 div.sk-toggleable {background-color: white;}#sk-container-id-12 label.sk-toggleable__label {cursor: pointer;display: block;width: 100%;margin-bottom: 0;padding: 0.3em;box-sizing: border-box;text-align: center;}#sk-container-id-12 label.sk-toggleable__label-arrow:before {content: \"▸\";float: left;margin-right: 0.25em;color: #696969;}#sk-container-id-12 label.sk-toggleable__label-arrow:hover:before {color: black;}#sk-container-id-12 div.sk-estimator:hover label.sk-toggleable__label-arrow:before {color: black;}#sk-container-id-12 div.sk-toggleable__content {max-height: 0;max-width: 0;overflow: hidden;text-align: left;background-color: #f0f8ff;}#sk-container-id-12 div.sk-toggleable__content pre {margin: 0.2em;color: black;border-radius: 0.25em;background-color: #f0f8ff;}#sk-container-id-12 input.sk-toggleable__control:checked~div.sk-toggleable__content {max-height: 200px;max-width: 100%;overflow: auto;}#sk-container-id-12 input.sk-toggleable__control:checked~label.sk-toggleable__label-arrow:before {content: \"▾\";}#sk-container-id-12 div.sk-estimator input.sk-toggleable__control:checked~label.sk-toggleable__label {background-color: #d4ebff;}#sk-container-id-12 div.sk-label input.sk-toggleable__control:checked~label.sk-toggleable__label {background-color: #d4ebff;}#sk-container-id-12 input.sk-hidden--visually {border: 0;clip: rect(1px 1px 1px 1px);clip: rect(1px, 1px, 1px, 1px);height: 1px;margin: -1px;overflow: hidden;padding: 0;position: absolute;width: 1px;}#sk-container-id-12 div.sk-estimator {font-family: monospace;background-color: #f0f8ff;border: 1px dotted black;border-radius: 0.25em;box-sizing: border-box;margin-bottom: 0.5em;}#sk-container-id-12 div.sk-estimator:hover {background-color: #d4ebff;}#sk-container-id-12 div.sk-parallel-item::after {content: \"\";width: 100%;border-bottom: 1px solid gray;flex-grow: 1;}#sk-container-id-12 div.sk-label:hover label.sk-toggleable__label {background-color: #d4ebff;}#sk-container-id-12 div.sk-serial::before {content: \"\";position: absolute;border-left: 1px solid gray;box-sizing: border-box;top: 0;bottom: 0;left: 50%;z-index: 0;}#sk-container-id-12 div.sk-serial {display: flex;flex-direction: column;align-items: center;background-color: white;padding-right: 0.2em;padding-left: 0.2em;position: relative;}#sk-container-id-12 div.sk-item {position: relative;z-index: 1;}#sk-container-id-12 div.sk-parallel {display: flex;align-items: stretch;justify-content: center;background-color: white;position: relative;}#sk-container-id-12 div.sk-item::before, #sk-container-id-12 div.sk-parallel-item::before {content: \"\";position: absolute;border-left: 1px solid gray;box-sizing: border-box;top: 0;bottom: 0;left: 50%;z-index: -1;}#sk-container-id-12 div.sk-parallel-item {display: flex;flex-direction: column;z-index: 1;position: relative;background-color: white;}#sk-container-id-12 div.sk-parallel-item:first-child::after {align-self: flex-end;width: 50%;}#sk-container-id-12 div.sk-parallel-item:last-child::after {align-self: flex-start;width: 50%;}#sk-container-id-12 div.sk-parallel-item:only-child::after {width: 0;}#sk-container-id-12 div.sk-dashed-wrapped {border: 1px dashed gray;margin: 0 0.4em 0.5em 0.4em;box-sizing: border-box;padding-bottom: 0.4em;background-color: white;}#sk-container-id-12 div.sk-label label {font-family: monospace;font-weight: bold;display: inline-block;line-height: 1.2em;}#sk-container-id-12 div.sk-label-container {text-align: center;}#sk-container-id-12 div.sk-container {/* jupyter's `normalize.less` sets `[hidden] { display: none; }` but bootstrap.min.css set `[hidden] { display: none !important; }` so we also need the `!important` here to be able to override the default hidden behavior on the sphinx rendered scikit-learn.org. See: https://github.com/scikit-learn/scikit-learn/issues/21755 */display: inline-block !important;position: relative;}#sk-container-id-12 div.sk-text-repr-fallback {display: none;}</style><div id=\"sk-container-id-12\" class=\"sk-top-container\"><div class=\"sk-text-repr-fallback\"><pre>Pipeline(steps=[(&#x27;preprocessing&#x27;,\n",
       "                 ColumnTransformer(transformers=[(&#x27;one_hot&#x27;, OneHotEncoder(),\n",
       "                                                  [&#x27;zipcode&#x27;, &#x27;month&#x27;]),\n",
       "                                                 (&#x27;scaling&#x27;,\n",
       "                                                  Pipeline(steps=[(&#x27;standardscaler&#x27;,\n",
       "                                                                   StandardScaler()),\n",
       "                                                                  (&#x27;polynomialfeatures&#x27;,\n",
       "                                                                   PolynomialFeatures())]),\n",
       "                                                  [&#x27;bedrooms&#x27;, &#x27;bathrooms&#x27;,\n",
       "                                                   &#x27;sqft_living&#x27;, &#x27;sqft_lot&#x27;,\n",
       "                                                   &#x27;floors&#x27;, &#x27;waterfront&#x27;,\n",
       "                                                   &#x27;view&#x27;, &#x27;condition&#x27;, &#x27;grade&#x27;,\n",
       "                                                   &#x27;sqft_above&#x27;,\n",
       "                                                   &#x27;sqft_basement&#x27;, &#x27;yr_built&#x27;,\n",
       "                                                   &#x27;yr_renovated&#x27;, &#x27;lat&#x27;,\n",
       "                                                   &#x27;long&#x27;, &#x27;year&#x27;])])),\n",
       "                (&#x27;ridge&#x27;, Ridge(alpha=0.01))])</pre><b>In a Jupyter environment, please rerun this cell to show the HTML representation or trust the notebook. <br />On GitHub, the HTML representation is unable to render, please try loading this page with nbviewer.org.</b></div><div class=\"sk-container\" hidden><div class=\"sk-item sk-dashed-wrapped\"><div class=\"sk-label-container\"><div class=\"sk-label sk-toggleable\"><input class=\"sk-toggleable__control sk-hidden--visually\" id=\"sk-estimator-id-95\" type=\"checkbox\" ><label for=\"sk-estimator-id-95\" class=\"sk-toggleable__label sk-toggleable__label-arrow\">Pipeline</label><div class=\"sk-toggleable__content\"><pre>Pipeline(steps=[(&#x27;preprocessing&#x27;,\n",
       "                 ColumnTransformer(transformers=[(&#x27;one_hot&#x27;, OneHotEncoder(),\n",
       "                                                  [&#x27;zipcode&#x27;, &#x27;month&#x27;]),\n",
       "                                                 (&#x27;scaling&#x27;,\n",
       "                                                  Pipeline(steps=[(&#x27;standardscaler&#x27;,\n",
       "                                                                   StandardScaler()),\n",
       "                                                                  (&#x27;polynomialfeatures&#x27;,\n",
       "                                                                   PolynomialFeatures())]),\n",
       "                                                  [&#x27;bedrooms&#x27;, &#x27;bathrooms&#x27;,\n",
       "                                                   &#x27;sqft_living&#x27;, &#x27;sqft_lot&#x27;,\n",
       "                                                   &#x27;floors&#x27;, &#x27;waterfront&#x27;,\n",
       "                                                   &#x27;view&#x27;, &#x27;condition&#x27;, &#x27;grade&#x27;,\n",
       "                                                   &#x27;sqft_above&#x27;,\n",
       "                                                   &#x27;sqft_basement&#x27;, &#x27;yr_built&#x27;,\n",
       "                                                   &#x27;yr_renovated&#x27;, &#x27;lat&#x27;,\n",
       "                                                   &#x27;long&#x27;, &#x27;year&#x27;])])),\n",
       "                (&#x27;ridge&#x27;, Ridge(alpha=0.01))])</pre></div></div></div><div class=\"sk-serial\"><div class=\"sk-item sk-dashed-wrapped\"><div class=\"sk-label-container\"><div class=\"sk-label sk-toggleable\"><input class=\"sk-toggleable__control sk-hidden--visually\" id=\"sk-estimator-id-96\" type=\"checkbox\" ><label for=\"sk-estimator-id-96\" class=\"sk-toggleable__label sk-toggleable__label-arrow\">preprocessing: ColumnTransformer</label><div class=\"sk-toggleable__content\"><pre>ColumnTransformer(transformers=[(&#x27;one_hot&#x27;, OneHotEncoder(),\n",
       "                                 [&#x27;zipcode&#x27;, &#x27;month&#x27;]),\n",
       "                                (&#x27;scaling&#x27;,\n",
       "                                 Pipeline(steps=[(&#x27;standardscaler&#x27;,\n",
       "                                                  StandardScaler()),\n",
       "                                                 (&#x27;polynomialfeatures&#x27;,\n",
       "                                                  PolynomialFeatures())]),\n",
       "                                 [&#x27;bedrooms&#x27;, &#x27;bathrooms&#x27;, &#x27;sqft_living&#x27;,\n",
       "                                  &#x27;sqft_lot&#x27;, &#x27;floors&#x27;, &#x27;waterfront&#x27;, &#x27;view&#x27;,\n",
       "                                  &#x27;condition&#x27;, &#x27;grade&#x27;, &#x27;sqft_above&#x27;,\n",
       "                                  &#x27;sqft_basement&#x27;, &#x27;yr_built&#x27;, &#x27;yr_renovated&#x27;,\n",
       "                                  &#x27;lat&#x27;, &#x27;long&#x27;, &#x27;year&#x27;])])</pre></div></div></div><div class=\"sk-parallel\"><div class=\"sk-parallel-item\"><div class=\"sk-item\"><div class=\"sk-label-container\"><div class=\"sk-label sk-toggleable\"><input class=\"sk-toggleable__control sk-hidden--visually\" id=\"sk-estimator-id-97\" type=\"checkbox\" ><label for=\"sk-estimator-id-97\" class=\"sk-toggleable__label sk-toggleable__label-arrow\">one_hot</label><div class=\"sk-toggleable__content\"><pre>[&#x27;zipcode&#x27;, &#x27;month&#x27;]</pre></div></div></div><div class=\"sk-serial\"><div class=\"sk-item\"><div class=\"sk-estimator sk-toggleable\"><input class=\"sk-toggleable__control sk-hidden--visually\" id=\"sk-estimator-id-98\" type=\"checkbox\" ><label for=\"sk-estimator-id-98\" class=\"sk-toggleable__label sk-toggleable__label-arrow\">OneHotEncoder</label><div class=\"sk-toggleable__content\"><pre>OneHotEncoder()</pre></div></div></div></div></div></div><div class=\"sk-parallel-item\"><div class=\"sk-item\"><div class=\"sk-label-container\"><div class=\"sk-label sk-toggleable\"><input class=\"sk-toggleable__control sk-hidden--visually\" id=\"sk-estimator-id-99\" type=\"checkbox\" ><label for=\"sk-estimator-id-99\" class=\"sk-toggleable__label sk-toggleable__label-arrow\">scaling</label><div class=\"sk-toggleable__content\"><pre>[&#x27;bedrooms&#x27;, &#x27;bathrooms&#x27;, &#x27;sqft_living&#x27;, &#x27;sqft_lot&#x27;, &#x27;floors&#x27;, &#x27;waterfront&#x27;, &#x27;view&#x27;, &#x27;condition&#x27;, &#x27;grade&#x27;, &#x27;sqft_above&#x27;, &#x27;sqft_basement&#x27;, &#x27;yr_built&#x27;, &#x27;yr_renovated&#x27;, &#x27;lat&#x27;, &#x27;long&#x27;, &#x27;year&#x27;]</pre></div></div></div><div class=\"sk-serial\"><div class=\"sk-item\"><div class=\"sk-serial\"><div class=\"sk-item\"><div class=\"sk-estimator sk-toggleable\"><input class=\"sk-toggleable__control sk-hidden--visually\" id=\"sk-estimator-id-100\" type=\"checkbox\" ><label for=\"sk-estimator-id-100\" class=\"sk-toggleable__label sk-toggleable__label-arrow\">StandardScaler</label><div class=\"sk-toggleable__content\"><pre>StandardScaler()</pre></div></div></div><div class=\"sk-item\"><div class=\"sk-estimator sk-toggleable\"><input class=\"sk-toggleable__control sk-hidden--visually\" id=\"sk-estimator-id-101\" type=\"checkbox\" ><label for=\"sk-estimator-id-101\" class=\"sk-toggleable__label sk-toggleable__label-arrow\">PolynomialFeatures</label><div class=\"sk-toggleable__content\"><pre>PolynomialFeatures()</pre></div></div></div></div></div></div></div></div></div></div><div class=\"sk-item\"><div class=\"sk-estimator sk-toggleable\"><input class=\"sk-toggleable__control sk-hidden--visually\" id=\"sk-estimator-id-102\" type=\"checkbox\" ><label for=\"sk-estimator-id-102\" class=\"sk-toggleable__label sk-toggleable__label-arrow\">Ridge</label><div class=\"sk-toggleable__content\"><pre>Ridge(alpha=0.01)</pre></div></div></div></div></div></div></div>"
      ],
      "text/plain": [
       "Pipeline(steps=[('preprocessing',\n",
       "                 ColumnTransformer(transformers=[('one_hot', OneHotEncoder(),\n",
       "                                                  ['zipcode', 'month']),\n",
       "                                                 ('scaling',\n",
       "                                                  Pipeline(steps=[('standardscaler',\n",
       "                                                                   StandardScaler()),\n",
       "                                                                  ('polynomialfeatures',\n",
       "                                                                   PolynomialFeatures())]),\n",
       "                                                  ['bedrooms', 'bathrooms',\n",
       "                                                   'sqft_living', 'sqft_lot',\n",
       "                                                   'floors', 'waterfront',\n",
       "                                                   'view', 'condition', 'grade',\n",
       "                                                   'sqft_above',\n",
       "                                                   'sqft_basement', 'yr_built',\n",
       "                                                   'yr_renovated', 'lat',\n",
       "                                                   'long', 'year'])])),\n",
       "                ('ridge', Ridge(alpha=0.01))])"
      ]
     },
     "execution_count": 141,
     "metadata": {},
     "output_type": "execute_result"
    }
   ],
   "source": [
    "my_pipe_ridge.set_params(**random_search.best_params_)"
   ]
  },
  {
   "cell_type": "markdown",
   "metadata": {},
   "source": [
    "### Fit - Score - Predict"
   ]
  },
  {
   "cell_type": "code",
   "execution_count": 142,
   "metadata": {},
   "outputs": [
    {
     "name": "stdout",
     "output_type": "stream",
     "text": [
      "my_pipe_ridge score :  0.875512648276731\n",
      "my_pipe_ridge predict :  [[ 520400.48110412]\n",
      " [ 508242.92009776]\n",
      " [ 364778.98974505]\n",
      " ...\n",
      " [ 529264.97794454]\n",
      " [ 463456.31207578]\n",
      " [1251391.19971544]]\n"
     ]
    }
   ],
   "source": [
    "my_pipe_ridge.fit(X_train, y_train)\n",
    "print (\"my_pipe_ridge score : \" , my_pipe_ridge.score(X_test, y_test))\n",
    "print (\"my_pipe_ridge predict : \" , my_pipe_ridge.predict(X_train))"
   ]
  },
  {
   "cell_type": "markdown",
   "metadata": {},
   "source": [
    "# LASSO"
   ]
  },
  {
   "cell_type": "markdown",
   "metadata": {},
   "source": [
    "### Pipeline"
   ]
  },
  {
   "cell_type": "code",
   "execution_count": 143,
   "metadata": {},
   "outputs": [],
   "source": [
    "my_pipe_lasso = make_pipeline(preprocessing, Lasso())"
   ]
  },
  {
   "cell_type": "code",
   "execution_count": 144,
   "metadata": {},
   "outputs": [],
   "source": [
    "my_pipe_lasso = Pipeline(\n",
    "    [\n",
    "        (\"preprocessing\", preprocessing), \n",
    "        ('lasso', Lasso())\n",
    "    ]\n",
    ")"
   ]
  },
  {
   "cell_type": "markdown",
   "metadata": {},
   "source": [
    "### Fit - Score - Predict"
   ]
  },
  {
   "cell_type": "code",
   "execution_count": 145,
   "metadata": {},
   "outputs": [],
   "source": [
    "my_pipe_lasso.fit(X_train, y_train)\n",
    "print (\"my_pipe_lasso score : \" , my_pipe_lasso.score(X_test, y_test))\n",
    "print (\"my_pipe_lasso predict : \" , my_pipe_lasso.predict(X_train))"
   ]
  },
  {
   "cell_type": "markdown",
   "metadata": {},
   "source": [
    "# ELASTIC NET "
   ]
  },
  {
   "cell_type": "markdown",
   "metadata": {},
   "source": [
    "### Pipeline"
   ]
  },
  {
   "cell_type": "code",
   "execution_count": null,
   "metadata": {},
   "outputs": [],
   "source": [
    "my_pipe_elastic_net = make_pipeline(preprocessing, ElasticNet())"
   ]
  },
  {
   "cell_type": "code",
   "execution_count": null,
   "metadata": {},
   "outputs": [],
   "source": [
    "my_pipe_elastic_net = Pipeline(\n",
    "    [\n",
    "        (\"preprocessing\", preprocessing), \n",
    "        ('elastic_net', ElasticNet())\n",
    "    ]\n",
    ")"
   ]
  },
  {
   "cell_type": "markdown",
   "metadata": {},
   "source": [
    "### Fit - Score - Predict"
   ]
  },
  {
   "cell_type": "code",
   "execution_count": null,
   "metadata": {},
   "outputs": [
    {
     "name": "stdout",
     "output_type": "stream",
     "text": [
      "my_pipe_elastic_net score :  0.7501224119867029\n",
      "my_pipe_elastic_net predict :  [642889.34412897 420956.71678035 674752.51571972 ... 358222.12993299\n",
      " 413651.28226653 488895.45026601]\n"
     ]
    }
   ],
   "source": [
    "my_pipe_elastic_net.fit(X_train, y_train)\n",
    "print (\"my_pipe_elastic_net score : \" , my_pipe_elastic_net.score(X_test, y_test))\n",
    "print (\"my_pipe_elastic_net predict : \" , my_pipe_elastic_net.predict(X_train))"
   ]
  },
  {
   "cell_type": "markdown",
   "metadata": {},
   "source": [
    "## Comparaison des modèles"
   ]
  },
  {
   "cell_type": "code",
   "execution_count": null,
   "metadata": {},
   "outputs": [
    {
     "data": {
      "text/plain": [
       "[('my_pipe_elastic_net.score ', 0.7501224119867029),\n",
       " ('my_pipe_lr.score', 0.868453863316927),\n",
       " ('my_pipe_ridge.score', 0.8684567418265817),\n",
       " ('my_pipe_lasso.score', 0.8687212165630084)]"
      ]
     },
     "execution_count": 104,
     "metadata": {},
     "output_type": "execute_result"
    }
   ],
   "source": [
    "modeles = { \n",
    "\"my_pipe_lr.score\" : my_pipe_lr.score(X_test, y_test), \"my_pipe_elastic_net.score \": my_pipe_elastic_net.score(X_test, y_test),\n",
    "\"my_pipe_lasso.score\" : my_pipe_lasso.score(X_test, y_test), \"my_pipe_ridge.score\" : my_pipe_ridge.score(X_test, y_test)\n",
    "}\n",
    "\n",
    "modeles = sorted(modeles.items(), key=lambda x: x[1])\n",
    "modeles"
   ]
  },
  {
   "cell_type": "code",
   "execution_count": null,
   "metadata": {},
   "outputs": [],
   "source": []
  },
  {
   "cell_type": "code",
   "execution_count": null,
   "metadata": {},
   "outputs": [],
   "source": []
  },
  {
   "cell_type": "code",
   "execution_count": null,
   "metadata": {},
   "outputs": [],
   "source": [
    "df_cleaned.to_csv(\"df_cleaned.csv\")  "
   ]
  },
  {
   "cell_type": "code",
   "execution_count": null,
   "metadata": {},
   "outputs": [],
   "source": [
    "df_modelisation_price = df_modelisation[\"price\"]\n",
    "df_modelisation_price.to_csv(\"df_modelisation_price.csv\")"
   ]
  },
  {
   "cell_type": "markdown",
   "metadata": {},
   "source": [
    "## Modélisation de la méthode de régression linéaire"
   ]
  },
  {
   "cell_type": "code",
   "execution_count": null,
   "metadata": {},
   "outputs": [
    {
     "data": {
      "text/plain": [
       "\" plt.scatter(X, y)\\nplt.plot(X, model.predict(X), c='red') \""
      ]
     },
     "execution_count": 107,
     "metadata": {},
     "output_type": "execute_result"
    }
   ],
   "source": [
    "\"\"\" plt.scatter(X, y)\n",
    "plt.plot(X, model.predict(X), c='red') \"\"\""
   ]
  },
  {
   "cell_type": "code",
   "execution_count": null,
   "metadata": {},
   "outputs": [
    {
     "data": {
      "text/plain": [
       "\" plt.plot(df_modelisation2 , df_modelisation_prix,'ro', markersize = 4) #UTILISATION DE LA FONCTION PLOT \\nplt.show() \""
      ]
     },
     "execution_count": 108,
     "metadata": {},
     "output_type": "execute_result"
    }
   ],
   "source": [
    "\"\"\" plt.plot(df_modelisation2 , df_modelisation_prix,'ro', markersize = 4) #UTILISATION DE LA FONCTION PLOT \n",
    "plt.show() \"\"\"\n"
   ]
  },
  {
   "cell_type": "code",
   "execution_count": null,
   "metadata": {},
   "outputs": [
    {
     "data": {
      "text/plain": [
       "\" predictions = model.predict(X_test)\\nplt.scatter(X_test,y)\\nplt.plot(X, predictions, c='r') \""
      ]
     },
     "execution_count": 109,
     "metadata": {},
     "output_type": "execute_result"
    }
   ],
   "source": [
    "\"\"\" predictions = model.predict(X_test)\n",
    "plt.scatter(X_test,y)\n",
    "plt.plot(X, predictions, c='r') \"\"\""
   ]
  },
  {
   "cell_type": "markdown",
   "metadata": {},
   "source": [
    "## Fonction qui permet de prédire le prix d'une maison"
   ]
  },
  {
   "cell_type": "code",
   "execution_count": null,
   "metadata": {},
   "outputs": [
    {
     "data": {
      "text/plain": [
       "' def prediction_maison(model,sqft_living\\t,grade\\t,sqft_above\\t,sqft_living15\\t,bathrooms,\\tview\\t,sqft_basement\\t,\\n                bedrooms\\t,zipcode_98004\\t,waterfront\\t,floors\\t,zipcode_98039,\\tzipcode_98040\\t,zipcode_98112,\\tzipcode_98006,\\tyr_renovated\\t,\\n                zipcode_98033,\\tzipcode_98105\\t,sqft_lot,\\tzipcode_98075,\\tzipcode_98199\\t,\\n                sqft_lot15 ,\\tzipcode_98001,\\tzipcode_98042,\\tzipcode_98023):\\n    x = np.array([sqft_living\\t,grade\\t,sqft_above\\t,sqft_living15\\t,bathrooms,\\tview\\t,sqft_basement\\t,\\n                bedrooms\\t,zipcode_98004\\t,waterfront\\t,floors\\t,zipcode_98039,\\tzipcode_98040\\t,zipcode_98112,\\tzipcode_98006,\\tyr_renovated\\t,\\n                zipcode_98033,\\tzipcode_98105\\t,sqft_lot,\\tzipcode_98075,\\tzipcode_98199\\t,\\n                sqft_lot15 ,\\tzipcode_98001,\\tzipcode_98042,\\tzipcode_98023]).reshape(1,25)\\n    print (model.predict(x)) '"
      ]
     },
     "execution_count": 110,
     "metadata": {},
     "output_type": "execute_result"
    }
   ],
   "source": [
    "\"\"\" def prediction_maison(model,sqft_living\t,grade\t,sqft_above\t,sqft_living15\t,bathrooms,\tview\t,sqft_basement\t,\n",
    "                bedrooms\t,zipcode_98004\t,waterfront\t,floors\t,zipcode_98039,\tzipcode_98040\t,zipcode_98112,\tzipcode_98006,\tyr_renovated\t,\n",
    "                zipcode_98033,\tzipcode_98105\t,sqft_lot,\tzipcode_98075,\tzipcode_98199\t,\n",
    "                sqft_lot15 ,\tzipcode_98001,\tzipcode_98042,\tzipcode_98023):\n",
    "    x = np.array([sqft_living\t,grade\t,sqft_above\t,sqft_living15\t,bathrooms,\tview\t,sqft_basement\t,\n",
    "                bedrooms\t,zipcode_98004\t,waterfront\t,floors\t,zipcode_98039,\tzipcode_98040\t,zipcode_98112,\tzipcode_98006,\tyr_renovated\t,\n",
    "                zipcode_98033,\tzipcode_98105\t,sqft_lot,\tzipcode_98075,\tzipcode_98199\t,\n",
    "                sqft_lot15 ,\tzipcode_98001,\tzipcode_98042,\tzipcode_98023]).reshape(1,25)\n",
    "    print (model.predict(x)) \"\"\"\n"
   ]
  },
  {
   "cell_type": "code",
   "execution_count": null,
   "metadata": {},
   "outputs": [
    {
     "data": {
      "text/plain": [
       "' #essai de la fonction\\nprediction_maison(model,50,7,30,48,2,2,0,2,1,0,1,0,0,0,0,1988,0,0,35,0,0,40,0,0,0) '"
      ]
     },
     "execution_count": 111,
     "metadata": {},
     "output_type": "execute_result"
    }
   ],
   "source": [
    "\"\"\" #essai de la fonction\n",
    "prediction_maison(model,50,7,30,48,2,2,0,2,1,0,1,0,0,0,0,1988,0,0,35,0,0,40,0,0,0) \"\"\""
   ]
  }
 ],
 "metadata": {
  "kernelspec": {
   "display_name": "Python 3.10.4 ('ykp')",
   "language": "python",
   "name": "python3"
  },
  "language_info": {
   "codemirror_mode": {
    "name": "ipython",
    "version": 3
   },
   "file_extension": ".py",
   "mimetype": "text/x-python",
   "name": "python",
   "nbconvert_exporter": "python",
   "pygments_lexer": "ipython3",
   "version": "3.10.4"
  },
  "orig_nbformat": 4,
  "vscode": {
   "interpreter": {
    "hash": "a830cd8c710370d9f195d594c373a79f854e482951c4fcd1778f9296e8d30250"
   }
  }
 },
 "nbformat": 4,
 "nbformat_minor": 2
}
