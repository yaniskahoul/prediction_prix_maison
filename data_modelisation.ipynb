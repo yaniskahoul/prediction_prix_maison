{
 "cells": [
  {
   "cell_type": "code",
   "execution_count": 1,
   "metadata": {},
   "outputs": [],
   "source": [
    "import pandas as pd \n",
    "import missingno as msno \n",
    "import numpy as np \n",
    "import seaborn as sms\n",
    "from datetime import datetime as dt \n",
    "import matplotlib.pyplot as plt\n",
    "import plotly.express as px \n",
    "from dash import Dash, dcc, html, Input, Output\n",
    "import sklearn \n",
    "from sklearn.linear_model import LinearRegression, Ridge, Lasso   \n",
    "from sklearn.model_selection import train_test_split, GridSearchCV\n",
    "from sklearn.preprocessing import PolynomialFeatures, StandardScaler, OneHotEncoder\n",
    "from sklearn.pipeline import make_pipeline, Pipeline\n",
    "from sklearn.compose import ColumnTransformer\n",
    "from sklearn.model_selection import RandomizedSearchCV\n",
    "from sklearn.linear_model import ElasticNet\n",
    "from sklearn.neighbors import KNeighborsClassifier\n",
    "from sklearn import tree\n",
    "import pickle \n",
    "from collections import OrderedDict\n",
    "\n",
    "\n",
    "\n",
    "pd.options.display.max_columns = 150 \n",
    "pd.options.display.max_rows = 150 "
   ]
  },
  {
   "cell_type": "markdown",
   "metadata": {},
   "source": [
    "## Recuperation du CSV"
   ]
  },
  {
   "cell_type": "code",
   "execution_count": 2,
   "metadata": {},
   "outputs": [],
   "source": [
    "df_modelisation = pd.read_csv('df2.csv')\n",
    "df_modelisation_prix = df_modelisation[['price']]"
   ]
  },
  {
   "cell_type": "markdown",
   "metadata": {},
   "source": [
    "### On supprime les colonnes qui nous semble inutile"
   ]
  },
  {
   "cell_type": "code",
   "execution_count": 3,
   "metadata": {},
   "outputs": [],
   "source": [
    "df_modelisation = df_modelisation.drop('id', axis=1)\n",
    "df_modelisation = df_modelisation.drop('date_sale', axis=1)\n",
    "df_modelisation = df_modelisation.drop('price_log', axis=1)\n",
    "df_modelisation = df_modelisation.drop('sqft_living15', axis=1)\n",
    "df_modelisation = df_modelisation.drop('sqft_lot15', axis=1)"
   ]
  },
  {
   "cell_type": "markdown",
   "metadata": {},
   "source": [
    "### On passe month et zipcode en objet "
   ]
  },
  {
   "cell_type": "code",
   "execution_count": 4,
   "metadata": {},
   "outputs": [],
   "source": [
    "data_types_dict = {'month': str} \n",
    "df_modelisation = df_modelisation.astype(data_types_dict)  "
   ]
  },
  {
   "cell_type": "code",
   "execution_count": 5,
   "metadata": {},
   "outputs": [],
   "source": [
    "data_types_dict = {'zipcode': str} \n",
    "df_modelisation = df_modelisation.astype(data_types_dict)  "
   ]
  },
  {
   "cell_type": "markdown",
   "metadata": {},
   "source": [
    "### ????"
   ]
  },
  {
   "cell_type": "code",
   "execution_count": 6,
   "metadata": {},
   "outputs": [],
   "source": [
    "X = df_modelisation.drop('price', axis=1)\n",
    "y = df_modelisation[['price']]\n",
    "X_train, X_test, y_train, y_test = train_test_split(X,y)\n",
    "num_col = list(X.select_dtypes(include=[float,int]).columns)\n",
    "cat_col = list(X.select_dtypes(include=[object]).columns)\n",
    "my_num_pipe = make_pipeline(StandardScaler(), PolynomialFeatures())\n",
    "preprocessing = ColumnTransformer([\n",
    "    (\"one_hot\", OneHotEncoder(),cat_col),\n",
    "    (\"scaling\", my_num_pipe, num_col)\n",
    "])\n"
   ]
  },
  {
   "cell_type": "code",
   "execution_count": 7,
   "metadata": {},
   "outputs": [
    {
     "data": {
      "text/plain": [
       "['bedrooms',\n",
       " 'bathrooms',\n",
       " 'sqft_living',\n",
       " 'sqft_lot',\n",
       " 'floors',\n",
       " 'waterfront',\n",
       " 'view',\n",
       " 'condition',\n",
       " 'grade',\n",
       " 'sqft_above',\n",
       " 'sqft_basement',\n",
       " 'yr_built',\n",
       " 'yr_renovated',\n",
       " 'lat',\n",
       " 'long',\n",
       " 'year']"
      ]
     },
     "execution_count": 7,
     "metadata": {},
     "output_type": "execute_result"
    }
   ],
   "source": [
    "list(num_col)"
   ]
  },
  {
   "cell_type": "code",
   "execution_count": 8,
   "metadata": {},
   "outputs": [
    {
     "data": {
      "text/plain": [
       "['zipcode', 'month']"
      ]
     },
     "execution_count": 8,
     "metadata": {},
     "output_type": "execute_result"
    }
   ],
   "source": [
    "list(cat_col)"
   ]
  },
  {
   "cell_type": "code",
   "execution_count": 9,
   "metadata": {},
   "outputs": [],
   "source": [
    "preprocessing = ColumnTransformer(transformers=[('one_hot', OneHotEncoder(), cat_col),\n",
    "                                ('scaling', StandardScaler(), num_col)])                              "
   ]
  },
  {
   "cell_type": "markdown",
   "metadata": {},
   "source": [
    "# LINEAR REGRESSION   LR"
   ]
  },
  {
   "cell_type": "code",
   "execution_count": 10,
   "metadata": {},
   "outputs": [],
   "source": [
    "my_pipe_lr = make_pipeline(preprocessing, LinearRegression())"
   ]
  },
  {
   "cell_type": "code",
   "execution_count": 11,
   "metadata": {},
   "outputs": [],
   "source": [
    "my_pipe_lr = Pipeline(\n",
    "    [\n",
    "        (\"preprocessing\", preprocessing), \n",
    "        ('ridge', LinearRegression())\n",
    "    ]\n",
    ")"
   ]
  },
  {
   "cell_type": "markdown",
   "metadata": {},
   "source": [
    "### Fit - Score - Predict"
   ]
  },
  {
   "cell_type": "code",
   "execution_count": 12,
   "metadata": {},
   "outputs": [
    {
     "name": "stdout",
     "output_type": "stream",
     "text": [
      "my_pipe_lr score :  0.8199386658752836\n",
      "my_pipe_lr predict :  [[ 273834.38068313]\n",
      " [ 236858.94670883]\n",
      " [ 570516.58404621]\n",
      " ...\n",
      " [1132403.89773066]\n",
      " [ 554100.9308922 ]\n",
      " [ 642051.7035999 ]]\n"
     ]
    }
   ],
   "source": [
    "my_pipe_lr.fit(X_train, y_train)\n",
    "print (\"my_pipe_lr score : \" , my_pipe_lr.score(X_test, y_test))\n",
    "print (\"my_pipe_lr predict : \" , my_pipe_lr.predict(X_train))"
   ]
  },
  {
   "cell_type": "code",
   "execution_count": 13,
   "metadata": {},
   "outputs": [
    {
     "data": {
      "text/plain": [
       "array([[ 273834.38068313],\n",
       "       [ 236858.94670883],\n",
       "       [ 570516.58404621],\n",
       "       ...,\n",
       "       [1132403.89773066],\n",
       "       [ 554100.9308922 ],\n",
       "       [ 642051.7035999 ]])"
      ]
     },
     "execution_count": 13,
     "metadata": {},
     "output_type": "execute_result"
    }
   ],
   "source": [
    "y_pred = my_pipe_lr.predict(X_train)\n",
    "y_pred.reshape(1,16209)\n",
    "y_pred"
   ]
  },
  {
   "cell_type": "code",
   "execution_count": 14,
   "metadata": {},
   "outputs": [
    {
     "data": {
      "text/html": [
       "<div>\n",
       "<style scoped>\n",
       "    .dataframe tbody tr th:only-of-type {\n",
       "        vertical-align: middle;\n",
       "    }\n",
       "\n",
       "    .dataframe tbody tr th {\n",
       "        vertical-align: top;\n",
       "    }\n",
       "\n",
       "    .dataframe thead th {\n",
       "        text-align: right;\n",
       "    }\n",
       "</style>\n",
       "<table border=\"1\" class=\"dataframe\">\n",
       "  <thead>\n",
       "    <tr style=\"text-align: right;\">\n",
       "      <th></th>\n",
       "      <th>price</th>\n",
       "    </tr>\n",
       "  </thead>\n",
       "  <tbody>\n",
       "    <tr>\n",
       "      <th>18712</th>\n",
       "      <td>306000.0</td>\n",
       "    </tr>\n",
       "    <tr>\n",
       "      <th>11745</th>\n",
       "      <td>299950.0</td>\n",
       "    </tr>\n",
       "    <tr>\n",
       "      <th>6749</th>\n",
       "      <td>556300.0</td>\n",
       "    </tr>\n",
       "    <tr>\n",
       "      <th>13881</th>\n",
       "      <td>850000.0</td>\n",
       "    </tr>\n",
       "    <tr>\n",
       "      <th>19604</th>\n",
       "      <td>663000.0</td>\n",
       "    </tr>\n",
       "    <tr>\n",
       "      <th>...</th>\n",
       "      <td>...</td>\n",
       "    </tr>\n",
       "    <tr>\n",
       "      <th>12983</th>\n",
       "      <td>490000.0</td>\n",
       "    </tr>\n",
       "    <tr>\n",
       "      <th>18722</th>\n",
       "      <td>1225000.0</td>\n",
       "    </tr>\n",
       "    <tr>\n",
       "      <th>20144</th>\n",
       "      <td>1575000.0</td>\n",
       "    </tr>\n",
       "    <tr>\n",
       "      <th>13477</th>\n",
       "      <td>849900.0</td>\n",
       "    </tr>\n",
       "    <tr>\n",
       "      <th>12249</th>\n",
       "      <td>710000.0</td>\n",
       "    </tr>\n",
       "  </tbody>\n",
       "</table>\n",
       "<p>16209 rows × 1 columns</p>\n",
       "</div>"
      ],
      "text/plain": [
       "           price\n",
       "18712   306000.0\n",
       "11745   299950.0\n",
       "6749    556300.0\n",
       "13881   850000.0\n",
       "19604   663000.0\n",
       "...          ...\n",
       "12983   490000.0\n",
       "18722  1225000.0\n",
       "20144  1575000.0\n",
       "13477   849900.0\n",
       "12249   710000.0\n",
       "\n",
       "[16209 rows x 1 columns]"
      ]
     },
     "execution_count": 14,
     "metadata": {},
     "output_type": "execute_result"
    }
   ],
   "source": [
    "y_train"
   ]
  },
  {
   "cell_type": "code",
   "execution_count": 15,
   "metadata": {},
   "outputs": [
    {
     "data": {
      "text/html": [
       "<div>\n",
       "<style scoped>\n",
       "    .dataframe tbody tr th:only-of-type {\n",
       "        vertical-align: middle;\n",
       "    }\n",
       "\n",
       "    .dataframe tbody tr th {\n",
       "        vertical-align: top;\n",
       "    }\n",
       "\n",
       "    .dataframe thead th {\n",
       "        text-align: right;\n",
       "    }\n",
       "</style>\n",
       "<table border=\"1\" class=\"dataframe\">\n",
       "  <thead>\n",
       "    <tr style=\"text-align: right;\">\n",
       "      <th></th>\n",
       "      <th>price</th>\n",
       "    </tr>\n",
       "  </thead>\n",
       "  <tbody>\n",
       "    <tr>\n",
       "      <th>7252</th>\n",
       "      <td>4.367428e+06</td>\n",
       "    </tr>\n",
       "    <tr>\n",
       "      <th>9254</th>\n",
       "      <td>3.014111e+06</td>\n",
       "    </tr>\n",
       "    <tr>\n",
       "      <th>1448</th>\n",
       "      <td>2.584341e+06</td>\n",
       "    </tr>\n",
       "    <tr>\n",
       "      <th>1315</th>\n",
       "      <td>2.302770e+06</td>\n",
       "    </tr>\n",
       "    <tr>\n",
       "      <th>12370</th>\n",
       "      <td>2.293025e+06</td>\n",
       "    </tr>\n",
       "    <tr>\n",
       "      <th>...</th>\n",
       "      <td>...</td>\n",
       "    </tr>\n",
       "    <tr>\n",
       "      <th>2446</th>\n",
       "      <td>3.159128e+01</td>\n",
       "    </tr>\n",
       "    <tr>\n",
       "      <th>15930</th>\n",
       "      <td>2.602441e+01</td>\n",
       "    </tr>\n",
       "    <tr>\n",
       "      <th>14123</th>\n",
       "      <td>1.395549e+01</td>\n",
       "    </tr>\n",
       "    <tr>\n",
       "      <th>602</th>\n",
       "      <td>9.387776e+00</td>\n",
       "    </tr>\n",
       "    <tr>\n",
       "      <th>12086</th>\n",
       "      <td>4.019092e+00</td>\n",
       "    </tr>\n",
       "  </tbody>\n",
       "</table>\n",
       "<p>16209 rows × 1 columns</p>\n",
       "</div>"
      ],
      "text/plain": [
       "              price\n",
       "7252   4.367428e+06\n",
       "9254   3.014111e+06\n",
       "1448   2.584341e+06\n",
       "1315   2.302770e+06\n",
       "12370  2.293025e+06\n",
       "...             ...\n",
       "2446   3.159128e+01\n",
       "15930  2.602441e+01\n",
       "14123  1.395549e+01\n",
       "602    9.387776e+00\n",
       "12086  4.019092e+00\n",
       "\n",
       "[16209 rows x 1 columns]"
      ]
     },
     "execution_count": 15,
     "metadata": {},
     "output_type": "execute_result"
    }
   ],
   "source": [
    "residual = (y_pred-y_train).abs().sort_values(by='price', axis= 0 , ascending= False)\n",
    "residual"
   ]
  },
  {
   "cell_type": "code",
   "execution_count": 16,
   "metadata": {},
   "outputs": [
    {
     "data": {
      "text/html": [
       "<div>\n",
       "<style scoped>\n",
       "    .dataframe tbody tr th:only-of-type {\n",
       "        vertical-align: middle;\n",
       "    }\n",
       "\n",
       "    .dataframe tbody tr th {\n",
       "        vertical-align: top;\n",
       "    }\n",
       "\n",
       "    .dataframe thead th {\n",
       "        text-align: right;\n",
       "    }\n",
       "</style>\n",
       "<table border=\"1\" class=\"dataframe\">\n",
       "  <thead>\n",
       "    <tr style=\"text-align: right;\">\n",
       "      <th></th>\n",
       "      <th>bedrooms</th>\n",
       "      <th>bathrooms</th>\n",
       "      <th>sqft_living</th>\n",
       "      <th>sqft_lot</th>\n",
       "      <th>floors</th>\n",
       "      <th>waterfront</th>\n",
       "      <th>view</th>\n",
       "      <th>condition</th>\n",
       "      <th>grade</th>\n",
       "      <th>sqft_above</th>\n",
       "      <th>sqft_basement</th>\n",
       "      <th>yr_built</th>\n",
       "      <th>yr_renovated</th>\n",
       "      <th>zipcode</th>\n",
       "      <th>lat</th>\n",
       "      <th>long</th>\n",
       "      <th>year</th>\n",
       "      <th>month</th>\n",
       "    </tr>\n",
       "  </thead>\n",
       "  <tbody>\n",
       "    <tr>\n",
       "      <th>11</th>\n",
       "      <td>2</td>\n",
       "      <td>1.00</td>\n",
       "      <td>1160</td>\n",
       "      <td>6000</td>\n",
       "      <td>1.0</td>\n",
       "      <td>0</td>\n",
       "      <td>0</td>\n",
       "      <td>4</td>\n",
       "      <td>7</td>\n",
       "      <td>860</td>\n",
       "      <td>300</td>\n",
       "      <td>1942</td>\n",
       "      <td>0</td>\n",
       "      <td>98115</td>\n",
       "      <td>47.6900</td>\n",
       "      <td>-122.292</td>\n",
       "      <td>2014</td>\n",
       "      <td>5</td>\n",
       "    </tr>\n",
       "    <tr>\n",
       "      <th>14</th>\n",
       "      <td>5</td>\n",
       "      <td>2.00</td>\n",
       "      <td>1810</td>\n",
       "      <td>4850</td>\n",
       "      <td>1.5</td>\n",
       "      <td>0</td>\n",
       "      <td>0</td>\n",
       "      <td>3</td>\n",
       "      <td>7</td>\n",
       "      <td>1810</td>\n",
       "      <td>0</td>\n",
       "      <td>1900</td>\n",
       "      <td>0</td>\n",
       "      <td>98107</td>\n",
       "      <td>47.6700</td>\n",
       "      <td>-122.394</td>\n",
       "      <td>2015</td>\n",
       "      <td>3</td>\n",
       "    </tr>\n",
       "    <tr>\n",
       "      <th>15</th>\n",
       "      <td>4</td>\n",
       "      <td>3.00</td>\n",
       "      <td>2950</td>\n",
       "      <td>5000</td>\n",
       "      <td>2.0</td>\n",
       "      <td>0</td>\n",
       "      <td>3</td>\n",
       "      <td>3</td>\n",
       "      <td>9</td>\n",
       "      <td>1980</td>\n",
       "      <td>970</td>\n",
       "      <td>1979</td>\n",
       "      <td>0</td>\n",
       "      <td>98126</td>\n",
       "      <td>47.5714</td>\n",
       "      <td>-122.375</td>\n",
       "      <td>2015</td>\n",
       "      <td>1</td>\n",
       "    </tr>\n",
       "    <tr>\n",
       "      <th>20</th>\n",
       "      <td>4</td>\n",
       "      <td>1.75</td>\n",
       "      <td>1620</td>\n",
       "      <td>4980</td>\n",
       "      <td>1.0</td>\n",
       "      <td>0</td>\n",
       "      <td>0</td>\n",
       "      <td>4</td>\n",
       "      <td>7</td>\n",
       "      <td>860</td>\n",
       "      <td>760</td>\n",
       "      <td>1947</td>\n",
       "      <td>0</td>\n",
       "      <td>98133</td>\n",
       "      <td>47.7025</td>\n",
       "      <td>-122.341</td>\n",
       "      <td>2014</td>\n",
       "      <td>5</td>\n",
       "    </tr>\n",
       "    <tr>\n",
       "      <th>21</th>\n",
       "      <td>3</td>\n",
       "      <td>2.75</td>\n",
       "      <td>3050</td>\n",
       "      <td>44867</td>\n",
       "      <td>1.0</td>\n",
       "      <td>0</td>\n",
       "      <td>4</td>\n",
       "      <td>3</td>\n",
       "      <td>9</td>\n",
       "      <td>2330</td>\n",
       "      <td>720</td>\n",
       "      <td>1968</td>\n",
       "      <td>0</td>\n",
       "      <td>98040</td>\n",
       "      <td>47.5316</td>\n",
       "      <td>-122.233</td>\n",
       "      <td>2014</td>\n",
       "      <td>8</td>\n",
       "    </tr>\n",
       "    <tr>\n",
       "      <th>...</th>\n",
       "      <td>...</td>\n",
       "      <td>...</td>\n",
       "      <td>...</td>\n",
       "      <td>...</td>\n",
       "      <td>...</td>\n",
       "      <td>...</td>\n",
       "      <td>...</td>\n",
       "      <td>...</td>\n",
       "      <td>...</td>\n",
       "      <td>...</td>\n",
       "      <td>...</td>\n",
       "      <td>...</td>\n",
       "      <td>...</td>\n",
       "      <td>...</td>\n",
       "      <td>...</td>\n",
       "      <td>...</td>\n",
       "      <td>...</td>\n",
       "      <td>...</td>\n",
       "    </tr>\n",
       "    <tr>\n",
       "      <th>21590</th>\n",
       "      <td>4</td>\n",
       "      <td>3.50</td>\n",
       "      <td>4910</td>\n",
       "      <td>9444</td>\n",
       "      <td>1.5</td>\n",
       "      <td>0</td>\n",
       "      <td>0</td>\n",
       "      <td>3</td>\n",
       "      <td>11</td>\n",
       "      <td>3110</td>\n",
       "      <td>1800</td>\n",
       "      <td>2007</td>\n",
       "      <td>0</td>\n",
       "      <td>98074</td>\n",
       "      <td>47.6502</td>\n",
       "      <td>-122.066</td>\n",
       "      <td>2014</td>\n",
       "      <td>5</td>\n",
       "    </tr>\n",
       "    <tr>\n",
       "      <th>21604</th>\n",
       "      <td>3</td>\n",
       "      <td>2.00</td>\n",
       "      <td>1490</td>\n",
       "      <td>1126</td>\n",
       "      <td>3.0</td>\n",
       "      <td>0</td>\n",
       "      <td>0</td>\n",
       "      <td>3</td>\n",
       "      <td>8</td>\n",
       "      <td>1490</td>\n",
       "      <td>0</td>\n",
       "      <td>2014</td>\n",
       "      <td>0</td>\n",
       "      <td>98144</td>\n",
       "      <td>47.5699</td>\n",
       "      <td>-122.288</td>\n",
       "      <td>2015</td>\n",
       "      <td>1</td>\n",
       "    </tr>\n",
       "    <tr>\n",
       "      <th>21605</th>\n",
       "      <td>4</td>\n",
       "      <td>2.50</td>\n",
       "      <td>2520</td>\n",
       "      <td>6023</td>\n",
       "      <td>2.0</td>\n",
       "      <td>0</td>\n",
       "      <td>0</td>\n",
       "      <td>3</td>\n",
       "      <td>9</td>\n",
       "      <td>2520</td>\n",
       "      <td>0</td>\n",
       "      <td>2014</td>\n",
       "      <td>0</td>\n",
       "      <td>98056</td>\n",
       "      <td>47.5137</td>\n",
       "      <td>-122.167</td>\n",
       "      <td>2014</td>\n",
       "      <td>10</td>\n",
       "    </tr>\n",
       "    <tr>\n",
       "      <th>21607</th>\n",
       "      <td>3</td>\n",
       "      <td>2.50</td>\n",
       "      <td>1310</td>\n",
       "      <td>1294</td>\n",
       "      <td>2.0</td>\n",
       "      <td>0</td>\n",
       "      <td>0</td>\n",
       "      <td>3</td>\n",
       "      <td>8</td>\n",
       "      <td>1180</td>\n",
       "      <td>130</td>\n",
       "      <td>2008</td>\n",
       "      <td>0</td>\n",
       "      <td>98116</td>\n",
       "      <td>47.5773</td>\n",
       "      <td>-122.409</td>\n",
       "      <td>2015</td>\n",
       "      <td>2</td>\n",
       "    </tr>\n",
       "    <tr>\n",
       "      <th>21610</th>\n",
       "      <td>2</td>\n",
       "      <td>0.75</td>\n",
       "      <td>1020</td>\n",
       "      <td>1350</td>\n",
       "      <td>2.0</td>\n",
       "      <td>0</td>\n",
       "      <td>0</td>\n",
       "      <td>3</td>\n",
       "      <td>7</td>\n",
       "      <td>1020</td>\n",
       "      <td>0</td>\n",
       "      <td>2009</td>\n",
       "      <td>0</td>\n",
       "      <td>98144</td>\n",
       "      <td>47.5944</td>\n",
       "      <td>-122.299</td>\n",
       "      <td>2014</td>\n",
       "      <td>6</td>\n",
       "    </tr>\n",
       "  </tbody>\n",
       "</table>\n",
       "<p>5404 rows × 18 columns</p>\n",
       "</div>"
      ],
      "text/plain": [
       "       bedrooms  bathrooms  sqft_living  sqft_lot  floors  waterfront  view  \\\n",
       "11            2       1.00         1160      6000     1.0           0     0   \n",
       "14            5       2.00         1810      4850     1.5           0     0   \n",
       "15            4       3.00         2950      5000     2.0           0     3   \n",
       "20            4       1.75         1620      4980     1.0           0     0   \n",
       "21            3       2.75         3050     44867     1.0           0     4   \n",
       "...         ...        ...          ...       ...     ...         ...   ...   \n",
       "21590         4       3.50         4910      9444     1.5           0     0   \n",
       "21604         3       2.00         1490      1126     3.0           0     0   \n",
       "21605         4       2.50         2520      6023     2.0           0     0   \n",
       "21607         3       2.50         1310      1294     2.0           0     0   \n",
       "21610         2       0.75         1020      1350     2.0           0     0   \n",
       "\n",
       "       condition  grade  sqft_above  sqft_basement  yr_built  yr_renovated  \\\n",
       "11             4      7         860            300      1942             0   \n",
       "14             3      7        1810              0      1900             0   \n",
       "15             3      9        1980            970      1979             0   \n",
       "20             4      7         860            760      1947             0   \n",
       "21             3      9        2330            720      1968             0   \n",
       "...          ...    ...         ...            ...       ...           ...   \n",
       "21590          3     11        3110           1800      2007             0   \n",
       "21604          3      8        1490              0      2014             0   \n",
       "21605          3      9        2520              0      2014             0   \n",
       "21607          3      8        1180            130      2008             0   \n",
       "21610          3      7        1020              0      2009             0   \n",
       "\n",
       "      zipcode      lat     long  year month  \n",
       "11      98115  47.6900 -122.292  2014     5  \n",
       "14      98107  47.6700 -122.394  2015     3  \n",
       "15      98126  47.5714 -122.375  2015     1  \n",
       "20      98133  47.7025 -122.341  2014     5  \n",
       "21      98040  47.5316 -122.233  2014     8  \n",
       "...       ...      ...      ...   ...   ...  \n",
       "21590   98074  47.6502 -122.066  2014     5  \n",
       "21604   98144  47.5699 -122.288  2015     1  \n",
       "21605   98056  47.5137 -122.167  2014    10  \n",
       "21607   98116  47.5773 -122.409  2015     2  \n",
       "21610   98144  47.5944 -122.299  2014     6  \n",
       "\n",
       "[5404 rows x 18 columns]"
      ]
     },
     "execution_count": 16,
     "metadata": {},
     "output_type": "execute_result"
    }
   ],
   "source": [
    "to_drop = residual[residual > 500000].index\n",
    "df_cleaned = df_modelisation.drop(to_drop)   \n",
    "df_cleaned = df_cleaned.drop('price', axis=1)\n",
    "df_cleaned"
   ]
  },
  {
   "cell_type": "markdown",
   "metadata": {},
   "source": [
    "### Fit - Score - Predict"
   ]
  },
  {
   "cell_type": "code",
   "execution_count": 17,
   "metadata": {},
   "outputs": [
    {
     "name": "stdout",
     "output_type": "stream",
     "text": [
      "my_pipe_lr score :  0.8199386658752836\n",
      "my_pipe_lr predict :  [[ 273834.38068313]\n",
      " [ 236858.94670883]\n",
      " [ 570516.58404621]\n",
      " ...\n",
      " [1132403.89773066]\n",
      " [ 554100.9308922 ]\n",
      " [ 642051.7035999 ]]\n"
     ]
    }
   ],
   "source": [
    "my_pipe_lr.fit(X_train, y_train)\n",
    "print (\"my_pipe_lr score : \" , my_pipe_lr.score(X_test, y_test))\n",
    "print (\"my_pipe_lr predict : \" , my_pipe_lr.predict(X_train))"
   ]
  },
  {
   "cell_type": "markdown",
   "metadata": {},
   "source": [
    "## Stocker le modèle de régression choisi à l'aide du module pickle "
   ]
  },
  {
   "cell_type": "code",
   "execution_count": 18,
   "metadata": {},
   "outputs": [],
   "source": [
    "my_pipe_lr\n",
    "with open(\"my_pipe_lr.pkl\", \"wb\") as f:\n",
    "    pickle.dump(my_pipe_lr, f)\n",
    "\n",
    "def load_from_pickle(name):\n",
    "    with open(name, \"rb\") as f:\n",
    "        return pickle.load(f)\n"
   ]
  },
  {
   "cell_type": "code",
   "execution_count": 19,
   "metadata": {},
   "outputs": [
    {
     "data": {
      "text/html": [
       "<style>#sk-container-id-1 {color: black;background-color: white;}#sk-container-id-1 pre{padding: 0;}#sk-container-id-1 div.sk-toggleable {background-color: white;}#sk-container-id-1 label.sk-toggleable__label {cursor: pointer;display: block;width: 100%;margin-bottom: 0;padding: 0.3em;box-sizing: border-box;text-align: center;}#sk-container-id-1 label.sk-toggleable__label-arrow:before {content: \"▸\";float: left;margin-right: 0.25em;color: #696969;}#sk-container-id-1 label.sk-toggleable__label-arrow:hover:before {color: black;}#sk-container-id-1 div.sk-estimator:hover label.sk-toggleable__label-arrow:before {color: black;}#sk-container-id-1 div.sk-toggleable__content {max-height: 0;max-width: 0;overflow: hidden;text-align: left;background-color: #f0f8ff;}#sk-container-id-1 div.sk-toggleable__content pre {margin: 0.2em;color: black;border-radius: 0.25em;background-color: #f0f8ff;}#sk-container-id-1 input.sk-toggleable__control:checked~div.sk-toggleable__content {max-height: 200px;max-width: 100%;overflow: auto;}#sk-container-id-1 input.sk-toggleable__control:checked~label.sk-toggleable__label-arrow:before {content: \"▾\";}#sk-container-id-1 div.sk-estimator input.sk-toggleable__control:checked~label.sk-toggleable__label {background-color: #d4ebff;}#sk-container-id-1 div.sk-label input.sk-toggleable__control:checked~label.sk-toggleable__label {background-color: #d4ebff;}#sk-container-id-1 input.sk-hidden--visually {border: 0;clip: rect(1px 1px 1px 1px);clip: rect(1px, 1px, 1px, 1px);height: 1px;margin: -1px;overflow: hidden;padding: 0;position: absolute;width: 1px;}#sk-container-id-1 div.sk-estimator {font-family: monospace;background-color: #f0f8ff;border: 1px dotted black;border-radius: 0.25em;box-sizing: border-box;margin-bottom: 0.5em;}#sk-container-id-1 div.sk-estimator:hover {background-color: #d4ebff;}#sk-container-id-1 div.sk-parallel-item::after {content: \"\";width: 100%;border-bottom: 1px solid gray;flex-grow: 1;}#sk-container-id-1 div.sk-label:hover label.sk-toggleable__label {background-color: #d4ebff;}#sk-container-id-1 div.sk-serial::before {content: \"\";position: absolute;border-left: 1px solid gray;box-sizing: border-box;top: 0;bottom: 0;left: 50%;z-index: 0;}#sk-container-id-1 div.sk-serial {display: flex;flex-direction: column;align-items: center;background-color: white;padding-right: 0.2em;padding-left: 0.2em;position: relative;}#sk-container-id-1 div.sk-item {position: relative;z-index: 1;}#sk-container-id-1 div.sk-parallel {display: flex;align-items: stretch;justify-content: center;background-color: white;position: relative;}#sk-container-id-1 div.sk-item::before, #sk-container-id-1 div.sk-parallel-item::before {content: \"\";position: absolute;border-left: 1px solid gray;box-sizing: border-box;top: 0;bottom: 0;left: 50%;z-index: -1;}#sk-container-id-1 div.sk-parallel-item {display: flex;flex-direction: column;z-index: 1;position: relative;background-color: white;}#sk-container-id-1 div.sk-parallel-item:first-child::after {align-self: flex-end;width: 50%;}#sk-container-id-1 div.sk-parallel-item:last-child::after {align-self: flex-start;width: 50%;}#sk-container-id-1 div.sk-parallel-item:only-child::after {width: 0;}#sk-container-id-1 div.sk-dashed-wrapped {border: 1px dashed gray;margin: 0 0.4em 0.5em 0.4em;box-sizing: border-box;padding-bottom: 0.4em;background-color: white;}#sk-container-id-1 div.sk-label label {font-family: monospace;font-weight: bold;display: inline-block;line-height: 1.2em;}#sk-container-id-1 div.sk-label-container {text-align: center;}#sk-container-id-1 div.sk-container {/* jupyter's `normalize.less` sets `[hidden] { display: none; }` but bootstrap.min.css set `[hidden] { display: none !important; }` so we also need the `!important` here to be able to override the default hidden behavior on the sphinx rendered scikit-learn.org. See: https://github.com/scikit-learn/scikit-learn/issues/21755 */display: inline-block !important;position: relative;}#sk-container-id-1 div.sk-text-repr-fallback {display: none;}</style><div id=\"sk-container-id-1\" class=\"sk-top-container\"><div class=\"sk-text-repr-fallback\"><pre>Pipeline(steps=[(&#x27;preprocessing&#x27;,\n",
       "                 ColumnTransformer(transformers=[(&#x27;one_hot&#x27;, OneHotEncoder(),\n",
       "                                                  [&#x27;zipcode&#x27;, &#x27;month&#x27;]),\n",
       "                                                 (&#x27;scaling&#x27;, StandardScaler(),\n",
       "                                                  [&#x27;bedrooms&#x27;, &#x27;bathrooms&#x27;,\n",
       "                                                   &#x27;sqft_living&#x27;, &#x27;sqft_lot&#x27;,\n",
       "                                                   &#x27;floors&#x27;, &#x27;waterfront&#x27;,\n",
       "                                                   &#x27;view&#x27;, &#x27;condition&#x27;, &#x27;grade&#x27;,\n",
       "                                                   &#x27;sqft_above&#x27;,\n",
       "                                                   &#x27;sqft_basement&#x27;, &#x27;yr_built&#x27;,\n",
       "                                                   &#x27;yr_renovated&#x27;, &#x27;lat&#x27;,\n",
       "                                                   &#x27;long&#x27;, &#x27;year&#x27;])])),\n",
       "                (&#x27;ridge&#x27;, LinearRegression())])</pre><b>In a Jupyter environment, please rerun this cell to show the HTML representation or trust the notebook. <br />On GitHub, the HTML representation is unable to render, please try loading this page with nbviewer.org.</b></div><div class=\"sk-container\" hidden><div class=\"sk-item sk-dashed-wrapped\"><div class=\"sk-label-container\"><div class=\"sk-label sk-toggleable\"><input class=\"sk-toggleable__control sk-hidden--visually\" id=\"sk-estimator-id-1\" type=\"checkbox\" ><label for=\"sk-estimator-id-1\" class=\"sk-toggleable__label sk-toggleable__label-arrow\">Pipeline</label><div class=\"sk-toggleable__content\"><pre>Pipeline(steps=[(&#x27;preprocessing&#x27;,\n",
       "                 ColumnTransformer(transformers=[(&#x27;one_hot&#x27;, OneHotEncoder(),\n",
       "                                                  [&#x27;zipcode&#x27;, &#x27;month&#x27;]),\n",
       "                                                 (&#x27;scaling&#x27;, StandardScaler(),\n",
       "                                                  [&#x27;bedrooms&#x27;, &#x27;bathrooms&#x27;,\n",
       "                                                   &#x27;sqft_living&#x27;, &#x27;sqft_lot&#x27;,\n",
       "                                                   &#x27;floors&#x27;, &#x27;waterfront&#x27;,\n",
       "                                                   &#x27;view&#x27;, &#x27;condition&#x27;, &#x27;grade&#x27;,\n",
       "                                                   &#x27;sqft_above&#x27;,\n",
       "                                                   &#x27;sqft_basement&#x27;, &#x27;yr_built&#x27;,\n",
       "                                                   &#x27;yr_renovated&#x27;, &#x27;lat&#x27;,\n",
       "                                                   &#x27;long&#x27;, &#x27;year&#x27;])])),\n",
       "                (&#x27;ridge&#x27;, LinearRegression())])</pre></div></div></div><div class=\"sk-serial\"><div class=\"sk-item sk-dashed-wrapped\"><div class=\"sk-label-container\"><div class=\"sk-label sk-toggleable\"><input class=\"sk-toggleable__control sk-hidden--visually\" id=\"sk-estimator-id-2\" type=\"checkbox\" ><label for=\"sk-estimator-id-2\" class=\"sk-toggleable__label sk-toggleable__label-arrow\">preprocessing: ColumnTransformer</label><div class=\"sk-toggleable__content\"><pre>ColumnTransformer(transformers=[(&#x27;one_hot&#x27;, OneHotEncoder(),\n",
       "                                 [&#x27;zipcode&#x27;, &#x27;month&#x27;]),\n",
       "                                (&#x27;scaling&#x27;, StandardScaler(),\n",
       "                                 [&#x27;bedrooms&#x27;, &#x27;bathrooms&#x27;, &#x27;sqft_living&#x27;,\n",
       "                                  &#x27;sqft_lot&#x27;, &#x27;floors&#x27;, &#x27;waterfront&#x27;, &#x27;view&#x27;,\n",
       "                                  &#x27;condition&#x27;, &#x27;grade&#x27;, &#x27;sqft_above&#x27;,\n",
       "                                  &#x27;sqft_basement&#x27;, &#x27;yr_built&#x27;, &#x27;yr_renovated&#x27;,\n",
       "                                  &#x27;lat&#x27;, &#x27;long&#x27;, &#x27;year&#x27;])])</pre></div></div></div><div class=\"sk-parallel\"><div class=\"sk-parallel-item\"><div class=\"sk-item\"><div class=\"sk-label-container\"><div class=\"sk-label sk-toggleable\"><input class=\"sk-toggleable__control sk-hidden--visually\" id=\"sk-estimator-id-3\" type=\"checkbox\" ><label for=\"sk-estimator-id-3\" class=\"sk-toggleable__label sk-toggleable__label-arrow\">one_hot</label><div class=\"sk-toggleable__content\"><pre>[&#x27;zipcode&#x27;, &#x27;month&#x27;]</pre></div></div></div><div class=\"sk-serial\"><div class=\"sk-item\"><div class=\"sk-estimator sk-toggleable\"><input class=\"sk-toggleable__control sk-hidden--visually\" id=\"sk-estimator-id-4\" type=\"checkbox\" ><label for=\"sk-estimator-id-4\" class=\"sk-toggleable__label sk-toggleable__label-arrow\">OneHotEncoder</label><div class=\"sk-toggleable__content\"><pre>OneHotEncoder()</pre></div></div></div></div></div></div><div class=\"sk-parallel-item\"><div class=\"sk-item\"><div class=\"sk-label-container\"><div class=\"sk-label sk-toggleable\"><input class=\"sk-toggleable__control sk-hidden--visually\" id=\"sk-estimator-id-5\" type=\"checkbox\" ><label for=\"sk-estimator-id-5\" class=\"sk-toggleable__label sk-toggleable__label-arrow\">scaling</label><div class=\"sk-toggleable__content\"><pre>[&#x27;bedrooms&#x27;, &#x27;bathrooms&#x27;, &#x27;sqft_living&#x27;, &#x27;sqft_lot&#x27;, &#x27;floors&#x27;, &#x27;waterfront&#x27;, &#x27;view&#x27;, &#x27;condition&#x27;, &#x27;grade&#x27;, &#x27;sqft_above&#x27;, &#x27;sqft_basement&#x27;, &#x27;yr_built&#x27;, &#x27;yr_renovated&#x27;, &#x27;lat&#x27;, &#x27;long&#x27;, &#x27;year&#x27;]</pre></div></div></div><div class=\"sk-serial\"><div class=\"sk-item\"><div class=\"sk-estimator sk-toggleable\"><input class=\"sk-toggleable__control sk-hidden--visually\" id=\"sk-estimator-id-6\" type=\"checkbox\" ><label for=\"sk-estimator-id-6\" class=\"sk-toggleable__label sk-toggleable__label-arrow\">StandardScaler</label><div class=\"sk-toggleable__content\"><pre>StandardScaler()</pre></div></div></div></div></div></div></div></div><div class=\"sk-item\"><div class=\"sk-estimator sk-toggleable\"><input class=\"sk-toggleable__control sk-hidden--visually\" id=\"sk-estimator-id-7\" type=\"checkbox\" ><label for=\"sk-estimator-id-7\" class=\"sk-toggleable__label sk-toggleable__label-arrow\">LinearRegression</label><div class=\"sk-toggleable__content\"><pre>LinearRegression()</pre></div></div></div></div></div></div></div>"
      ],
      "text/plain": [
       "Pipeline(steps=[('preprocessing',\n",
       "                 ColumnTransformer(transformers=[('one_hot', OneHotEncoder(),\n",
       "                                                  ['zipcode', 'month']),\n",
       "                                                 ('scaling', StandardScaler(),\n",
       "                                                  ['bedrooms', 'bathrooms',\n",
       "                                                   'sqft_living', 'sqft_lot',\n",
       "                                                   'floors', 'waterfront',\n",
       "                                                   'view', 'condition', 'grade',\n",
       "                                                   'sqft_above',\n",
       "                                                   'sqft_basement', 'yr_built',\n",
       "                                                   'yr_renovated', 'lat',\n",
       "                                                   'long', 'year'])])),\n",
       "                ('ridge', LinearRegression())])"
      ]
     },
     "execution_count": 19,
     "metadata": {},
     "output_type": "execute_result"
    }
   ],
   "source": [
    "load_from_pickle(\"my_pipe_lr.pkl\")"
   ]
  },
  {
   "cell_type": "markdown",
   "metadata": {},
   "source": [
    "# RIDGE"
   ]
  },
  {
   "cell_type": "markdown",
   "metadata": {},
   "source": [
    "### Pipeline"
   ]
  },
  {
   "cell_type": "code",
   "execution_count": 20,
   "metadata": {},
   "outputs": [],
   "source": [
    "my_pipe_ridge = Pipeline(\n",
    "    [\n",
    "        (\"preprocessing\", preprocessing), \n",
    "        ('ridge', Ridge())\n",
    "    ]\n",
    ")"
   ]
  },
  {
   "cell_type": "markdown",
   "metadata": {},
   "source": [
    "### Recherche des meilleurs paramètres "
   ]
  },
  {
   "cell_type": "code",
   "execution_count": 21,
   "metadata": {},
   "outputs": [
    {
     "data": {
      "text/plain": [
       "{'memory': None,\n",
       " 'steps': [('preprocessing',\n",
       "   ColumnTransformer(transformers=[('one_hot', OneHotEncoder(),\n",
       "                                    ['zipcode', 'month']),\n",
       "                                   ('scaling', StandardScaler(),\n",
       "                                    ['bedrooms', 'bathrooms', 'sqft_living',\n",
       "                                     'sqft_lot', 'floors', 'waterfront', 'view',\n",
       "                                     'condition', 'grade', 'sqft_above',\n",
       "                                     'sqft_basement', 'yr_built', 'yr_renovated',\n",
       "                                     'lat', 'long', 'year'])])),\n",
       "  ('ridge', Ridge())],\n",
       " 'verbose': False,\n",
       " 'preprocessing': ColumnTransformer(transformers=[('one_hot', OneHotEncoder(),\n",
       "                                  ['zipcode', 'month']),\n",
       "                                 ('scaling', StandardScaler(),\n",
       "                                  ['bedrooms', 'bathrooms', 'sqft_living',\n",
       "                                   'sqft_lot', 'floors', 'waterfront', 'view',\n",
       "                                   'condition', 'grade', 'sqft_above',\n",
       "                                   'sqft_basement', 'yr_built', 'yr_renovated',\n",
       "                                   'lat', 'long', 'year'])]),\n",
       " 'ridge': Ridge(),\n",
       " 'preprocessing__n_jobs': None,\n",
       " 'preprocessing__remainder': 'drop',\n",
       " 'preprocessing__sparse_threshold': 0.3,\n",
       " 'preprocessing__transformer_weights': None,\n",
       " 'preprocessing__transformers': [('one_hot',\n",
       "   OneHotEncoder(),\n",
       "   ['zipcode', 'month']),\n",
       "  ('scaling',\n",
       "   StandardScaler(),\n",
       "   ['bedrooms',\n",
       "    'bathrooms',\n",
       "    'sqft_living',\n",
       "    'sqft_lot',\n",
       "    'floors',\n",
       "    'waterfront',\n",
       "    'view',\n",
       "    'condition',\n",
       "    'grade',\n",
       "    'sqft_above',\n",
       "    'sqft_basement',\n",
       "    'yr_built',\n",
       "    'yr_renovated',\n",
       "    'lat',\n",
       "    'long',\n",
       "    'year'])],\n",
       " 'preprocessing__verbose': False,\n",
       " 'preprocessing__verbose_feature_names_out': True,\n",
       " 'preprocessing__one_hot': OneHotEncoder(),\n",
       " 'preprocessing__scaling': StandardScaler(),\n",
       " 'preprocessing__one_hot__categories': 'auto',\n",
       " 'preprocessing__one_hot__drop': None,\n",
       " 'preprocessing__one_hot__dtype': numpy.float64,\n",
       " 'preprocessing__one_hot__handle_unknown': 'error',\n",
       " 'preprocessing__one_hot__max_categories': None,\n",
       " 'preprocessing__one_hot__min_frequency': None,\n",
       " 'preprocessing__one_hot__sparse': True,\n",
       " 'preprocessing__scaling__copy': True,\n",
       " 'preprocessing__scaling__with_mean': True,\n",
       " 'preprocessing__scaling__with_std': True,\n",
       " 'ridge__alpha': 1.0,\n",
       " 'ridge__copy_X': True,\n",
       " 'ridge__fit_intercept': True,\n",
       " 'ridge__max_iter': None,\n",
       " 'ridge__normalize': 'deprecated',\n",
       " 'ridge__positive': False,\n",
       " 'ridge__random_state': None,\n",
       " 'ridge__solver': 'auto',\n",
       " 'ridge__tol': 0.001}"
      ]
     },
     "execution_count": 21,
     "metadata": {},
     "output_type": "execute_result"
    }
   ],
   "source": [
    "my_pipe_ridge.get_params()"
   ]
  },
  {
   "cell_type": "code",
   "execution_count": 22,
   "metadata": {},
   "outputs": [],
   "source": [
    "hyperparametres = {'ridge__alpha': [0.01,0.1, 0.2,0.5, 1,10]}"
   ]
  },
  {
   "cell_type": "code",
   "execution_count": 23,
   "metadata": {},
   "outputs": [
    {
     "data": {
      "text/html": [
       "<style>#sk-container-id-2 {color: black;background-color: white;}#sk-container-id-2 pre{padding: 0;}#sk-container-id-2 div.sk-toggleable {background-color: white;}#sk-container-id-2 label.sk-toggleable__label {cursor: pointer;display: block;width: 100%;margin-bottom: 0;padding: 0.3em;box-sizing: border-box;text-align: center;}#sk-container-id-2 label.sk-toggleable__label-arrow:before {content: \"▸\";float: left;margin-right: 0.25em;color: #696969;}#sk-container-id-2 label.sk-toggleable__label-arrow:hover:before {color: black;}#sk-container-id-2 div.sk-estimator:hover label.sk-toggleable__label-arrow:before {color: black;}#sk-container-id-2 div.sk-toggleable__content {max-height: 0;max-width: 0;overflow: hidden;text-align: left;background-color: #f0f8ff;}#sk-container-id-2 div.sk-toggleable__content pre {margin: 0.2em;color: black;border-radius: 0.25em;background-color: #f0f8ff;}#sk-container-id-2 input.sk-toggleable__control:checked~div.sk-toggleable__content {max-height: 200px;max-width: 100%;overflow: auto;}#sk-container-id-2 input.sk-toggleable__control:checked~label.sk-toggleable__label-arrow:before {content: \"▾\";}#sk-container-id-2 div.sk-estimator input.sk-toggleable__control:checked~label.sk-toggleable__label {background-color: #d4ebff;}#sk-container-id-2 div.sk-label input.sk-toggleable__control:checked~label.sk-toggleable__label {background-color: #d4ebff;}#sk-container-id-2 input.sk-hidden--visually {border: 0;clip: rect(1px 1px 1px 1px);clip: rect(1px, 1px, 1px, 1px);height: 1px;margin: -1px;overflow: hidden;padding: 0;position: absolute;width: 1px;}#sk-container-id-2 div.sk-estimator {font-family: monospace;background-color: #f0f8ff;border: 1px dotted black;border-radius: 0.25em;box-sizing: border-box;margin-bottom: 0.5em;}#sk-container-id-2 div.sk-estimator:hover {background-color: #d4ebff;}#sk-container-id-2 div.sk-parallel-item::after {content: \"\";width: 100%;border-bottom: 1px solid gray;flex-grow: 1;}#sk-container-id-2 div.sk-label:hover label.sk-toggleable__label {background-color: #d4ebff;}#sk-container-id-2 div.sk-serial::before {content: \"\";position: absolute;border-left: 1px solid gray;box-sizing: border-box;top: 0;bottom: 0;left: 50%;z-index: 0;}#sk-container-id-2 div.sk-serial {display: flex;flex-direction: column;align-items: center;background-color: white;padding-right: 0.2em;padding-left: 0.2em;position: relative;}#sk-container-id-2 div.sk-item {position: relative;z-index: 1;}#sk-container-id-2 div.sk-parallel {display: flex;align-items: stretch;justify-content: center;background-color: white;position: relative;}#sk-container-id-2 div.sk-item::before, #sk-container-id-2 div.sk-parallel-item::before {content: \"\";position: absolute;border-left: 1px solid gray;box-sizing: border-box;top: 0;bottom: 0;left: 50%;z-index: -1;}#sk-container-id-2 div.sk-parallel-item {display: flex;flex-direction: column;z-index: 1;position: relative;background-color: white;}#sk-container-id-2 div.sk-parallel-item:first-child::after {align-self: flex-end;width: 50%;}#sk-container-id-2 div.sk-parallel-item:last-child::after {align-self: flex-start;width: 50%;}#sk-container-id-2 div.sk-parallel-item:only-child::after {width: 0;}#sk-container-id-2 div.sk-dashed-wrapped {border: 1px dashed gray;margin: 0 0.4em 0.5em 0.4em;box-sizing: border-box;padding-bottom: 0.4em;background-color: white;}#sk-container-id-2 div.sk-label label {font-family: monospace;font-weight: bold;display: inline-block;line-height: 1.2em;}#sk-container-id-2 div.sk-label-container {text-align: center;}#sk-container-id-2 div.sk-container {/* jupyter's `normalize.less` sets `[hidden] { display: none; }` but bootstrap.min.css set `[hidden] { display: none !important; }` so we also need the `!important` here to be able to override the default hidden behavior on the sphinx rendered scikit-learn.org. See: https://github.com/scikit-learn/scikit-learn/issues/21755 */display: inline-block !important;position: relative;}#sk-container-id-2 div.sk-text-repr-fallback {display: none;}</style><div id=\"sk-container-id-2\" class=\"sk-top-container\"><div class=\"sk-text-repr-fallback\"><pre>GridSearchCV(cv=5,\n",
       "             estimator=Pipeline(steps=[(&#x27;preprocessing&#x27;,\n",
       "                                        ColumnTransformer(transformers=[(&#x27;one_hot&#x27;,\n",
       "                                                                         OneHotEncoder(),\n",
       "                                                                         [&#x27;zipcode&#x27;,\n",
       "                                                                          &#x27;month&#x27;]),\n",
       "                                                                        (&#x27;scaling&#x27;,\n",
       "                                                                         StandardScaler(),\n",
       "                                                                         [&#x27;bedrooms&#x27;,\n",
       "                                                                          &#x27;bathrooms&#x27;,\n",
       "                                                                          &#x27;sqft_living&#x27;,\n",
       "                                                                          &#x27;sqft_lot&#x27;,\n",
       "                                                                          &#x27;floors&#x27;,\n",
       "                                                                          &#x27;waterfront&#x27;,\n",
       "                                                                          &#x27;view&#x27;,\n",
       "                                                                          &#x27;condition&#x27;,\n",
       "                                                                          &#x27;grade&#x27;,\n",
       "                                                                          &#x27;sqft_above&#x27;,\n",
       "                                                                          &#x27;sqft_basement&#x27;,\n",
       "                                                                          &#x27;yr_built&#x27;,\n",
       "                                                                          &#x27;yr_renovated&#x27;,\n",
       "                                                                          &#x27;lat&#x27;,\n",
       "                                                                          &#x27;long&#x27;,\n",
       "                                                                          &#x27;year&#x27;])])),\n",
       "                                       (&#x27;ridge&#x27;, Ridge())]),\n",
       "             param_grid={&#x27;ridge__alpha&#x27;: [0.01, 0.1, 0.2, 0.5, 1, 10]})</pre><b>In a Jupyter environment, please rerun this cell to show the HTML representation or trust the notebook. <br />On GitHub, the HTML representation is unable to render, please try loading this page with nbviewer.org.</b></div><div class=\"sk-container\" hidden><div class=\"sk-item sk-dashed-wrapped\"><div class=\"sk-label-container\"><div class=\"sk-label sk-toggleable\"><input class=\"sk-toggleable__control sk-hidden--visually\" id=\"sk-estimator-id-8\" type=\"checkbox\" ><label for=\"sk-estimator-id-8\" class=\"sk-toggleable__label sk-toggleable__label-arrow\">GridSearchCV</label><div class=\"sk-toggleable__content\"><pre>GridSearchCV(cv=5,\n",
       "             estimator=Pipeline(steps=[(&#x27;preprocessing&#x27;,\n",
       "                                        ColumnTransformer(transformers=[(&#x27;one_hot&#x27;,\n",
       "                                                                         OneHotEncoder(),\n",
       "                                                                         [&#x27;zipcode&#x27;,\n",
       "                                                                          &#x27;month&#x27;]),\n",
       "                                                                        (&#x27;scaling&#x27;,\n",
       "                                                                         StandardScaler(),\n",
       "                                                                         [&#x27;bedrooms&#x27;,\n",
       "                                                                          &#x27;bathrooms&#x27;,\n",
       "                                                                          &#x27;sqft_living&#x27;,\n",
       "                                                                          &#x27;sqft_lot&#x27;,\n",
       "                                                                          &#x27;floors&#x27;,\n",
       "                                                                          &#x27;waterfront&#x27;,\n",
       "                                                                          &#x27;view&#x27;,\n",
       "                                                                          &#x27;condition&#x27;,\n",
       "                                                                          &#x27;grade&#x27;,\n",
       "                                                                          &#x27;sqft_above&#x27;,\n",
       "                                                                          &#x27;sqft_basement&#x27;,\n",
       "                                                                          &#x27;yr_built&#x27;,\n",
       "                                                                          &#x27;yr_renovated&#x27;,\n",
       "                                                                          &#x27;lat&#x27;,\n",
       "                                                                          &#x27;long&#x27;,\n",
       "                                                                          &#x27;year&#x27;])])),\n",
       "                                       (&#x27;ridge&#x27;, Ridge())]),\n",
       "             param_grid={&#x27;ridge__alpha&#x27;: [0.01, 0.1, 0.2, 0.5, 1, 10]})</pre></div></div></div><div class=\"sk-parallel\"><div class=\"sk-parallel-item\"><div class=\"sk-item\"><div class=\"sk-label-container\"><div class=\"sk-label sk-toggleable\"><input class=\"sk-toggleable__control sk-hidden--visually\" id=\"sk-estimator-id-9\" type=\"checkbox\" ><label for=\"sk-estimator-id-9\" class=\"sk-toggleable__label sk-toggleable__label-arrow\">estimator: Pipeline</label><div class=\"sk-toggleable__content\"><pre>Pipeline(steps=[(&#x27;preprocessing&#x27;,\n",
       "                 ColumnTransformer(transformers=[(&#x27;one_hot&#x27;, OneHotEncoder(),\n",
       "                                                  [&#x27;zipcode&#x27;, &#x27;month&#x27;]),\n",
       "                                                 (&#x27;scaling&#x27;, StandardScaler(),\n",
       "                                                  [&#x27;bedrooms&#x27;, &#x27;bathrooms&#x27;,\n",
       "                                                   &#x27;sqft_living&#x27;, &#x27;sqft_lot&#x27;,\n",
       "                                                   &#x27;floors&#x27;, &#x27;waterfront&#x27;,\n",
       "                                                   &#x27;view&#x27;, &#x27;condition&#x27;, &#x27;grade&#x27;,\n",
       "                                                   &#x27;sqft_above&#x27;,\n",
       "                                                   &#x27;sqft_basement&#x27;, &#x27;yr_built&#x27;,\n",
       "                                                   &#x27;yr_renovated&#x27;, &#x27;lat&#x27;,\n",
       "                                                   &#x27;long&#x27;, &#x27;year&#x27;])])),\n",
       "                (&#x27;ridge&#x27;, Ridge())])</pre></div></div></div><div class=\"sk-serial\"><div class=\"sk-item\"><div class=\"sk-serial\"><div class=\"sk-item sk-dashed-wrapped\"><div class=\"sk-label-container\"><div class=\"sk-label sk-toggleable\"><input class=\"sk-toggleable__control sk-hidden--visually\" id=\"sk-estimator-id-10\" type=\"checkbox\" ><label for=\"sk-estimator-id-10\" class=\"sk-toggleable__label sk-toggleable__label-arrow\">preprocessing: ColumnTransformer</label><div class=\"sk-toggleable__content\"><pre>ColumnTransformer(transformers=[(&#x27;one_hot&#x27;, OneHotEncoder(),\n",
       "                                 [&#x27;zipcode&#x27;, &#x27;month&#x27;]),\n",
       "                                (&#x27;scaling&#x27;, StandardScaler(),\n",
       "                                 [&#x27;bedrooms&#x27;, &#x27;bathrooms&#x27;, &#x27;sqft_living&#x27;,\n",
       "                                  &#x27;sqft_lot&#x27;, &#x27;floors&#x27;, &#x27;waterfront&#x27;, &#x27;view&#x27;,\n",
       "                                  &#x27;condition&#x27;, &#x27;grade&#x27;, &#x27;sqft_above&#x27;,\n",
       "                                  &#x27;sqft_basement&#x27;, &#x27;yr_built&#x27;, &#x27;yr_renovated&#x27;,\n",
       "                                  &#x27;lat&#x27;, &#x27;long&#x27;, &#x27;year&#x27;])])</pre></div></div></div><div class=\"sk-parallel\"><div class=\"sk-parallel-item\"><div class=\"sk-item\"><div class=\"sk-label-container\"><div class=\"sk-label sk-toggleable\"><input class=\"sk-toggleable__control sk-hidden--visually\" id=\"sk-estimator-id-11\" type=\"checkbox\" ><label for=\"sk-estimator-id-11\" class=\"sk-toggleable__label sk-toggleable__label-arrow\">one_hot</label><div class=\"sk-toggleable__content\"><pre>[&#x27;zipcode&#x27;, &#x27;month&#x27;]</pre></div></div></div><div class=\"sk-serial\"><div class=\"sk-item\"><div class=\"sk-estimator sk-toggleable\"><input class=\"sk-toggleable__control sk-hidden--visually\" id=\"sk-estimator-id-12\" type=\"checkbox\" ><label for=\"sk-estimator-id-12\" class=\"sk-toggleable__label sk-toggleable__label-arrow\">OneHotEncoder</label><div class=\"sk-toggleable__content\"><pre>OneHotEncoder()</pre></div></div></div></div></div></div><div class=\"sk-parallel-item\"><div class=\"sk-item\"><div class=\"sk-label-container\"><div class=\"sk-label sk-toggleable\"><input class=\"sk-toggleable__control sk-hidden--visually\" id=\"sk-estimator-id-13\" type=\"checkbox\" ><label for=\"sk-estimator-id-13\" class=\"sk-toggleable__label sk-toggleable__label-arrow\">scaling</label><div class=\"sk-toggleable__content\"><pre>[&#x27;bedrooms&#x27;, &#x27;bathrooms&#x27;, &#x27;sqft_living&#x27;, &#x27;sqft_lot&#x27;, &#x27;floors&#x27;, &#x27;waterfront&#x27;, &#x27;view&#x27;, &#x27;condition&#x27;, &#x27;grade&#x27;, &#x27;sqft_above&#x27;, &#x27;sqft_basement&#x27;, &#x27;yr_built&#x27;, &#x27;yr_renovated&#x27;, &#x27;lat&#x27;, &#x27;long&#x27;, &#x27;year&#x27;]</pre></div></div></div><div class=\"sk-serial\"><div class=\"sk-item\"><div class=\"sk-estimator sk-toggleable\"><input class=\"sk-toggleable__control sk-hidden--visually\" id=\"sk-estimator-id-14\" type=\"checkbox\" ><label for=\"sk-estimator-id-14\" class=\"sk-toggleable__label sk-toggleable__label-arrow\">StandardScaler</label><div class=\"sk-toggleable__content\"><pre>StandardScaler()</pre></div></div></div></div></div></div></div></div><div class=\"sk-item\"><div class=\"sk-estimator sk-toggleable\"><input class=\"sk-toggleable__control sk-hidden--visually\" id=\"sk-estimator-id-15\" type=\"checkbox\" ><label for=\"sk-estimator-id-15\" class=\"sk-toggleable__label sk-toggleable__label-arrow\">Ridge</label><div class=\"sk-toggleable__content\"><pre>Ridge()</pre></div></div></div></div></div></div></div></div></div></div></div></div>"
      ],
      "text/plain": [
       "GridSearchCV(cv=5,\n",
       "             estimator=Pipeline(steps=[('preprocessing',\n",
       "                                        ColumnTransformer(transformers=[('one_hot',\n",
       "                                                                         OneHotEncoder(),\n",
       "                                                                         ['zipcode',\n",
       "                                                                          'month']),\n",
       "                                                                        ('scaling',\n",
       "                                                                         StandardScaler(),\n",
       "                                                                         ['bedrooms',\n",
       "                                                                          'bathrooms',\n",
       "                                                                          'sqft_living',\n",
       "                                                                          'sqft_lot',\n",
       "                                                                          'floors',\n",
       "                                                                          'waterfront',\n",
       "                                                                          'view',\n",
       "                                                                          'condition',\n",
       "                                                                          'grade',\n",
       "                                                                          'sqft_above',\n",
       "                                                                          'sqft_basement',\n",
       "                                                                          'yr_built',\n",
       "                                                                          'yr_renovated',\n",
       "                                                                          'lat',\n",
       "                                                                          'long',\n",
       "                                                                          'year'])])),\n",
       "                                       ('ridge', Ridge())]),\n",
       "             param_grid={'ridge__alpha': [0.01, 0.1, 0.2, 0.5, 1, 10]})"
      ]
     },
     "execution_count": 23,
     "metadata": {},
     "output_type": "execute_result"
    }
   ],
   "source": [
    "random_search = GridSearchCV(my_pipe_ridge, hyperparametres, cv= 5)\n",
    "random_search"
   ]
  },
  {
   "cell_type": "code",
   "execution_count": 24,
   "metadata": {},
   "outputs": [
    {
     "data": {
      "text/html": [
       "<style>#sk-container-id-3 {color: black;background-color: white;}#sk-container-id-3 pre{padding: 0;}#sk-container-id-3 div.sk-toggleable {background-color: white;}#sk-container-id-3 label.sk-toggleable__label {cursor: pointer;display: block;width: 100%;margin-bottom: 0;padding: 0.3em;box-sizing: border-box;text-align: center;}#sk-container-id-3 label.sk-toggleable__label-arrow:before {content: \"▸\";float: left;margin-right: 0.25em;color: #696969;}#sk-container-id-3 label.sk-toggleable__label-arrow:hover:before {color: black;}#sk-container-id-3 div.sk-estimator:hover label.sk-toggleable__label-arrow:before {color: black;}#sk-container-id-3 div.sk-toggleable__content {max-height: 0;max-width: 0;overflow: hidden;text-align: left;background-color: #f0f8ff;}#sk-container-id-3 div.sk-toggleable__content pre {margin: 0.2em;color: black;border-radius: 0.25em;background-color: #f0f8ff;}#sk-container-id-3 input.sk-toggleable__control:checked~div.sk-toggleable__content {max-height: 200px;max-width: 100%;overflow: auto;}#sk-container-id-3 input.sk-toggleable__control:checked~label.sk-toggleable__label-arrow:before {content: \"▾\";}#sk-container-id-3 div.sk-estimator input.sk-toggleable__control:checked~label.sk-toggleable__label {background-color: #d4ebff;}#sk-container-id-3 div.sk-label input.sk-toggleable__control:checked~label.sk-toggleable__label {background-color: #d4ebff;}#sk-container-id-3 input.sk-hidden--visually {border: 0;clip: rect(1px 1px 1px 1px);clip: rect(1px, 1px, 1px, 1px);height: 1px;margin: -1px;overflow: hidden;padding: 0;position: absolute;width: 1px;}#sk-container-id-3 div.sk-estimator {font-family: monospace;background-color: #f0f8ff;border: 1px dotted black;border-radius: 0.25em;box-sizing: border-box;margin-bottom: 0.5em;}#sk-container-id-3 div.sk-estimator:hover {background-color: #d4ebff;}#sk-container-id-3 div.sk-parallel-item::after {content: \"\";width: 100%;border-bottom: 1px solid gray;flex-grow: 1;}#sk-container-id-3 div.sk-label:hover label.sk-toggleable__label {background-color: #d4ebff;}#sk-container-id-3 div.sk-serial::before {content: \"\";position: absolute;border-left: 1px solid gray;box-sizing: border-box;top: 0;bottom: 0;left: 50%;z-index: 0;}#sk-container-id-3 div.sk-serial {display: flex;flex-direction: column;align-items: center;background-color: white;padding-right: 0.2em;padding-left: 0.2em;position: relative;}#sk-container-id-3 div.sk-item {position: relative;z-index: 1;}#sk-container-id-3 div.sk-parallel {display: flex;align-items: stretch;justify-content: center;background-color: white;position: relative;}#sk-container-id-3 div.sk-item::before, #sk-container-id-3 div.sk-parallel-item::before {content: \"\";position: absolute;border-left: 1px solid gray;box-sizing: border-box;top: 0;bottom: 0;left: 50%;z-index: -1;}#sk-container-id-3 div.sk-parallel-item {display: flex;flex-direction: column;z-index: 1;position: relative;background-color: white;}#sk-container-id-3 div.sk-parallel-item:first-child::after {align-self: flex-end;width: 50%;}#sk-container-id-3 div.sk-parallel-item:last-child::after {align-self: flex-start;width: 50%;}#sk-container-id-3 div.sk-parallel-item:only-child::after {width: 0;}#sk-container-id-3 div.sk-dashed-wrapped {border: 1px dashed gray;margin: 0 0.4em 0.5em 0.4em;box-sizing: border-box;padding-bottom: 0.4em;background-color: white;}#sk-container-id-3 div.sk-label label {font-family: monospace;font-weight: bold;display: inline-block;line-height: 1.2em;}#sk-container-id-3 div.sk-label-container {text-align: center;}#sk-container-id-3 div.sk-container {/* jupyter's `normalize.less` sets `[hidden] { display: none; }` but bootstrap.min.css set `[hidden] { display: none !important; }` so we also need the `!important` here to be able to override the default hidden behavior on the sphinx rendered scikit-learn.org. See: https://github.com/scikit-learn/scikit-learn/issues/21755 */display: inline-block !important;position: relative;}#sk-container-id-3 div.sk-text-repr-fallback {display: none;}</style><div id=\"sk-container-id-3\" class=\"sk-top-container\"><div class=\"sk-text-repr-fallback\"><pre>GridSearchCV(cv=5,\n",
       "             estimator=Pipeline(steps=[(&#x27;preprocessing&#x27;,\n",
       "                                        ColumnTransformer(transformers=[(&#x27;one_hot&#x27;,\n",
       "                                                                         OneHotEncoder(),\n",
       "                                                                         [&#x27;zipcode&#x27;,\n",
       "                                                                          &#x27;month&#x27;]),\n",
       "                                                                        (&#x27;scaling&#x27;,\n",
       "                                                                         StandardScaler(),\n",
       "                                                                         [&#x27;bedrooms&#x27;,\n",
       "                                                                          &#x27;bathrooms&#x27;,\n",
       "                                                                          &#x27;sqft_living&#x27;,\n",
       "                                                                          &#x27;sqft_lot&#x27;,\n",
       "                                                                          &#x27;floors&#x27;,\n",
       "                                                                          &#x27;waterfront&#x27;,\n",
       "                                                                          &#x27;view&#x27;,\n",
       "                                                                          &#x27;condition&#x27;,\n",
       "                                                                          &#x27;grade&#x27;,\n",
       "                                                                          &#x27;sqft_above&#x27;,\n",
       "                                                                          &#x27;sqft_basement&#x27;,\n",
       "                                                                          &#x27;yr_built&#x27;,\n",
       "                                                                          &#x27;yr_renovated&#x27;,\n",
       "                                                                          &#x27;lat&#x27;,\n",
       "                                                                          &#x27;long&#x27;,\n",
       "                                                                          &#x27;year&#x27;])])),\n",
       "                                       (&#x27;ridge&#x27;, Ridge())]),\n",
       "             param_grid={&#x27;ridge__alpha&#x27;: [0.01, 0.1, 0.2, 0.5, 1, 10]})</pre><b>In a Jupyter environment, please rerun this cell to show the HTML representation or trust the notebook. <br />On GitHub, the HTML representation is unable to render, please try loading this page with nbviewer.org.</b></div><div class=\"sk-container\" hidden><div class=\"sk-item sk-dashed-wrapped\"><div class=\"sk-label-container\"><div class=\"sk-label sk-toggleable\"><input class=\"sk-toggleable__control sk-hidden--visually\" id=\"sk-estimator-id-16\" type=\"checkbox\" ><label for=\"sk-estimator-id-16\" class=\"sk-toggleable__label sk-toggleable__label-arrow\">GridSearchCV</label><div class=\"sk-toggleable__content\"><pre>GridSearchCV(cv=5,\n",
       "             estimator=Pipeline(steps=[(&#x27;preprocessing&#x27;,\n",
       "                                        ColumnTransformer(transformers=[(&#x27;one_hot&#x27;,\n",
       "                                                                         OneHotEncoder(),\n",
       "                                                                         [&#x27;zipcode&#x27;,\n",
       "                                                                          &#x27;month&#x27;]),\n",
       "                                                                        (&#x27;scaling&#x27;,\n",
       "                                                                         StandardScaler(),\n",
       "                                                                         [&#x27;bedrooms&#x27;,\n",
       "                                                                          &#x27;bathrooms&#x27;,\n",
       "                                                                          &#x27;sqft_living&#x27;,\n",
       "                                                                          &#x27;sqft_lot&#x27;,\n",
       "                                                                          &#x27;floors&#x27;,\n",
       "                                                                          &#x27;waterfront&#x27;,\n",
       "                                                                          &#x27;view&#x27;,\n",
       "                                                                          &#x27;condition&#x27;,\n",
       "                                                                          &#x27;grade&#x27;,\n",
       "                                                                          &#x27;sqft_above&#x27;,\n",
       "                                                                          &#x27;sqft_basement&#x27;,\n",
       "                                                                          &#x27;yr_built&#x27;,\n",
       "                                                                          &#x27;yr_renovated&#x27;,\n",
       "                                                                          &#x27;lat&#x27;,\n",
       "                                                                          &#x27;long&#x27;,\n",
       "                                                                          &#x27;year&#x27;])])),\n",
       "                                       (&#x27;ridge&#x27;, Ridge())]),\n",
       "             param_grid={&#x27;ridge__alpha&#x27;: [0.01, 0.1, 0.2, 0.5, 1, 10]})</pre></div></div></div><div class=\"sk-parallel\"><div class=\"sk-parallel-item\"><div class=\"sk-item\"><div class=\"sk-label-container\"><div class=\"sk-label sk-toggleable\"><input class=\"sk-toggleable__control sk-hidden--visually\" id=\"sk-estimator-id-17\" type=\"checkbox\" ><label for=\"sk-estimator-id-17\" class=\"sk-toggleable__label sk-toggleable__label-arrow\">estimator: Pipeline</label><div class=\"sk-toggleable__content\"><pre>Pipeline(steps=[(&#x27;preprocessing&#x27;,\n",
       "                 ColumnTransformer(transformers=[(&#x27;one_hot&#x27;, OneHotEncoder(),\n",
       "                                                  [&#x27;zipcode&#x27;, &#x27;month&#x27;]),\n",
       "                                                 (&#x27;scaling&#x27;, StandardScaler(),\n",
       "                                                  [&#x27;bedrooms&#x27;, &#x27;bathrooms&#x27;,\n",
       "                                                   &#x27;sqft_living&#x27;, &#x27;sqft_lot&#x27;,\n",
       "                                                   &#x27;floors&#x27;, &#x27;waterfront&#x27;,\n",
       "                                                   &#x27;view&#x27;, &#x27;condition&#x27;, &#x27;grade&#x27;,\n",
       "                                                   &#x27;sqft_above&#x27;,\n",
       "                                                   &#x27;sqft_basement&#x27;, &#x27;yr_built&#x27;,\n",
       "                                                   &#x27;yr_renovated&#x27;, &#x27;lat&#x27;,\n",
       "                                                   &#x27;long&#x27;, &#x27;year&#x27;])])),\n",
       "                (&#x27;ridge&#x27;, Ridge())])</pre></div></div></div><div class=\"sk-serial\"><div class=\"sk-item\"><div class=\"sk-serial\"><div class=\"sk-item sk-dashed-wrapped\"><div class=\"sk-label-container\"><div class=\"sk-label sk-toggleable\"><input class=\"sk-toggleable__control sk-hidden--visually\" id=\"sk-estimator-id-18\" type=\"checkbox\" ><label for=\"sk-estimator-id-18\" class=\"sk-toggleable__label sk-toggleable__label-arrow\">preprocessing: ColumnTransformer</label><div class=\"sk-toggleable__content\"><pre>ColumnTransformer(transformers=[(&#x27;one_hot&#x27;, OneHotEncoder(),\n",
       "                                 [&#x27;zipcode&#x27;, &#x27;month&#x27;]),\n",
       "                                (&#x27;scaling&#x27;, StandardScaler(),\n",
       "                                 [&#x27;bedrooms&#x27;, &#x27;bathrooms&#x27;, &#x27;sqft_living&#x27;,\n",
       "                                  &#x27;sqft_lot&#x27;, &#x27;floors&#x27;, &#x27;waterfront&#x27;, &#x27;view&#x27;,\n",
       "                                  &#x27;condition&#x27;, &#x27;grade&#x27;, &#x27;sqft_above&#x27;,\n",
       "                                  &#x27;sqft_basement&#x27;, &#x27;yr_built&#x27;, &#x27;yr_renovated&#x27;,\n",
       "                                  &#x27;lat&#x27;, &#x27;long&#x27;, &#x27;year&#x27;])])</pre></div></div></div><div class=\"sk-parallel\"><div class=\"sk-parallel-item\"><div class=\"sk-item\"><div class=\"sk-label-container\"><div class=\"sk-label sk-toggleable\"><input class=\"sk-toggleable__control sk-hidden--visually\" id=\"sk-estimator-id-19\" type=\"checkbox\" ><label for=\"sk-estimator-id-19\" class=\"sk-toggleable__label sk-toggleable__label-arrow\">one_hot</label><div class=\"sk-toggleable__content\"><pre>[&#x27;zipcode&#x27;, &#x27;month&#x27;]</pre></div></div></div><div class=\"sk-serial\"><div class=\"sk-item\"><div class=\"sk-estimator sk-toggleable\"><input class=\"sk-toggleable__control sk-hidden--visually\" id=\"sk-estimator-id-20\" type=\"checkbox\" ><label for=\"sk-estimator-id-20\" class=\"sk-toggleable__label sk-toggleable__label-arrow\">OneHotEncoder</label><div class=\"sk-toggleable__content\"><pre>OneHotEncoder()</pre></div></div></div></div></div></div><div class=\"sk-parallel-item\"><div class=\"sk-item\"><div class=\"sk-label-container\"><div class=\"sk-label sk-toggleable\"><input class=\"sk-toggleable__control sk-hidden--visually\" id=\"sk-estimator-id-21\" type=\"checkbox\" ><label for=\"sk-estimator-id-21\" class=\"sk-toggleable__label sk-toggleable__label-arrow\">scaling</label><div class=\"sk-toggleable__content\"><pre>[&#x27;bedrooms&#x27;, &#x27;bathrooms&#x27;, &#x27;sqft_living&#x27;, &#x27;sqft_lot&#x27;, &#x27;floors&#x27;, &#x27;waterfront&#x27;, &#x27;view&#x27;, &#x27;condition&#x27;, &#x27;grade&#x27;, &#x27;sqft_above&#x27;, &#x27;sqft_basement&#x27;, &#x27;yr_built&#x27;, &#x27;yr_renovated&#x27;, &#x27;lat&#x27;, &#x27;long&#x27;, &#x27;year&#x27;]</pre></div></div></div><div class=\"sk-serial\"><div class=\"sk-item\"><div class=\"sk-estimator sk-toggleable\"><input class=\"sk-toggleable__control sk-hidden--visually\" id=\"sk-estimator-id-22\" type=\"checkbox\" ><label for=\"sk-estimator-id-22\" class=\"sk-toggleable__label sk-toggleable__label-arrow\">StandardScaler</label><div class=\"sk-toggleable__content\"><pre>StandardScaler()</pre></div></div></div></div></div></div></div></div><div class=\"sk-item\"><div class=\"sk-estimator sk-toggleable\"><input class=\"sk-toggleable__control sk-hidden--visually\" id=\"sk-estimator-id-23\" type=\"checkbox\" ><label for=\"sk-estimator-id-23\" class=\"sk-toggleable__label sk-toggleable__label-arrow\">Ridge</label><div class=\"sk-toggleable__content\"><pre>Ridge()</pre></div></div></div></div></div></div></div></div></div></div></div></div>"
      ],
      "text/plain": [
       "GridSearchCV(cv=5,\n",
       "             estimator=Pipeline(steps=[('preprocessing',\n",
       "                                        ColumnTransformer(transformers=[('one_hot',\n",
       "                                                                         OneHotEncoder(),\n",
       "                                                                         ['zipcode',\n",
       "                                                                          'month']),\n",
       "                                                                        ('scaling',\n",
       "                                                                         StandardScaler(),\n",
       "                                                                         ['bedrooms',\n",
       "                                                                          'bathrooms',\n",
       "                                                                          'sqft_living',\n",
       "                                                                          'sqft_lot',\n",
       "                                                                          'floors',\n",
       "                                                                          'waterfront',\n",
       "                                                                          'view',\n",
       "                                                                          'condition',\n",
       "                                                                          'grade',\n",
       "                                                                          'sqft_above',\n",
       "                                                                          'sqft_basement',\n",
       "                                                                          'yr_built',\n",
       "                                                                          'yr_renovated',\n",
       "                                                                          'lat',\n",
       "                                                                          'long',\n",
       "                                                                          'year'])])),\n",
       "                                       ('ridge', Ridge())]),\n",
       "             param_grid={'ridge__alpha': [0.01, 0.1, 0.2, 0.5, 1, 10]})"
      ]
     },
     "execution_count": 24,
     "metadata": {},
     "output_type": "execute_result"
    }
   ],
   "source": [
    "random_search.fit(X_train,y_train)"
   ]
  },
  {
   "cell_type": "code",
   "execution_count": 25,
   "metadata": {},
   "outputs": [
    {
     "data": {
      "text/plain": [
       "{'ridge__alpha': 0.5}"
      ]
     },
     "execution_count": 25,
     "metadata": {},
     "output_type": "execute_result"
    }
   ],
   "source": [
    "random_search.best_params_"
   ]
  },
  {
   "cell_type": "code",
   "execution_count": 26,
   "metadata": {},
   "outputs": [
    {
     "data": {
      "text/html": [
       "<style>#sk-container-id-4 {color: black;background-color: white;}#sk-container-id-4 pre{padding: 0;}#sk-container-id-4 div.sk-toggleable {background-color: white;}#sk-container-id-4 label.sk-toggleable__label {cursor: pointer;display: block;width: 100%;margin-bottom: 0;padding: 0.3em;box-sizing: border-box;text-align: center;}#sk-container-id-4 label.sk-toggleable__label-arrow:before {content: \"▸\";float: left;margin-right: 0.25em;color: #696969;}#sk-container-id-4 label.sk-toggleable__label-arrow:hover:before {color: black;}#sk-container-id-4 div.sk-estimator:hover label.sk-toggleable__label-arrow:before {color: black;}#sk-container-id-4 div.sk-toggleable__content {max-height: 0;max-width: 0;overflow: hidden;text-align: left;background-color: #f0f8ff;}#sk-container-id-4 div.sk-toggleable__content pre {margin: 0.2em;color: black;border-radius: 0.25em;background-color: #f0f8ff;}#sk-container-id-4 input.sk-toggleable__control:checked~div.sk-toggleable__content {max-height: 200px;max-width: 100%;overflow: auto;}#sk-container-id-4 input.sk-toggleable__control:checked~label.sk-toggleable__label-arrow:before {content: \"▾\";}#sk-container-id-4 div.sk-estimator input.sk-toggleable__control:checked~label.sk-toggleable__label {background-color: #d4ebff;}#sk-container-id-4 div.sk-label input.sk-toggleable__control:checked~label.sk-toggleable__label {background-color: #d4ebff;}#sk-container-id-4 input.sk-hidden--visually {border: 0;clip: rect(1px 1px 1px 1px);clip: rect(1px, 1px, 1px, 1px);height: 1px;margin: -1px;overflow: hidden;padding: 0;position: absolute;width: 1px;}#sk-container-id-4 div.sk-estimator {font-family: monospace;background-color: #f0f8ff;border: 1px dotted black;border-radius: 0.25em;box-sizing: border-box;margin-bottom: 0.5em;}#sk-container-id-4 div.sk-estimator:hover {background-color: #d4ebff;}#sk-container-id-4 div.sk-parallel-item::after {content: \"\";width: 100%;border-bottom: 1px solid gray;flex-grow: 1;}#sk-container-id-4 div.sk-label:hover label.sk-toggleable__label {background-color: #d4ebff;}#sk-container-id-4 div.sk-serial::before {content: \"\";position: absolute;border-left: 1px solid gray;box-sizing: border-box;top: 0;bottom: 0;left: 50%;z-index: 0;}#sk-container-id-4 div.sk-serial {display: flex;flex-direction: column;align-items: center;background-color: white;padding-right: 0.2em;padding-left: 0.2em;position: relative;}#sk-container-id-4 div.sk-item {position: relative;z-index: 1;}#sk-container-id-4 div.sk-parallel {display: flex;align-items: stretch;justify-content: center;background-color: white;position: relative;}#sk-container-id-4 div.sk-item::before, #sk-container-id-4 div.sk-parallel-item::before {content: \"\";position: absolute;border-left: 1px solid gray;box-sizing: border-box;top: 0;bottom: 0;left: 50%;z-index: -1;}#sk-container-id-4 div.sk-parallel-item {display: flex;flex-direction: column;z-index: 1;position: relative;background-color: white;}#sk-container-id-4 div.sk-parallel-item:first-child::after {align-self: flex-end;width: 50%;}#sk-container-id-4 div.sk-parallel-item:last-child::after {align-self: flex-start;width: 50%;}#sk-container-id-4 div.sk-parallel-item:only-child::after {width: 0;}#sk-container-id-4 div.sk-dashed-wrapped {border: 1px dashed gray;margin: 0 0.4em 0.5em 0.4em;box-sizing: border-box;padding-bottom: 0.4em;background-color: white;}#sk-container-id-4 div.sk-label label {font-family: monospace;font-weight: bold;display: inline-block;line-height: 1.2em;}#sk-container-id-4 div.sk-label-container {text-align: center;}#sk-container-id-4 div.sk-container {/* jupyter's `normalize.less` sets `[hidden] { display: none; }` but bootstrap.min.css set `[hidden] { display: none !important; }` so we also need the `!important` here to be able to override the default hidden behavior on the sphinx rendered scikit-learn.org. See: https://github.com/scikit-learn/scikit-learn/issues/21755 */display: inline-block !important;position: relative;}#sk-container-id-4 div.sk-text-repr-fallback {display: none;}</style><div id=\"sk-container-id-4\" class=\"sk-top-container\"><div class=\"sk-text-repr-fallback\"><pre>Pipeline(steps=[(&#x27;preprocessing&#x27;,\n",
       "                 ColumnTransformer(transformers=[(&#x27;one_hot&#x27;, OneHotEncoder(),\n",
       "                                                  [&#x27;zipcode&#x27;, &#x27;month&#x27;]),\n",
       "                                                 (&#x27;scaling&#x27;, StandardScaler(),\n",
       "                                                  [&#x27;bedrooms&#x27;, &#x27;bathrooms&#x27;,\n",
       "                                                   &#x27;sqft_living&#x27;, &#x27;sqft_lot&#x27;,\n",
       "                                                   &#x27;floors&#x27;, &#x27;waterfront&#x27;,\n",
       "                                                   &#x27;view&#x27;, &#x27;condition&#x27;, &#x27;grade&#x27;,\n",
       "                                                   &#x27;sqft_above&#x27;,\n",
       "                                                   &#x27;sqft_basement&#x27;, &#x27;yr_built&#x27;,\n",
       "                                                   &#x27;yr_renovated&#x27;, &#x27;lat&#x27;,\n",
       "                                                   &#x27;long&#x27;, &#x27;year&#x27;])])),\n",
       "                (&#x27;ridge&#x27;, Ridge(alpha=0.5))])</pre><b>In a Jupyter environment, please rerun this cell to show the HTML representation or trust the notebook. <br />On GitHub, the HTML representation is unable to render, please try loading this page with nbviewer.org.</b></div><div class=\"sk-container\" hidden><div class=\"sk-item sk-dashed-wrapped\"><div class=\"sk-label-container\"><div class=\"sk-label sk-toggleable\"><input class=\"sk-toggleable__control sk-hidden--visually\" id=\"sk-estimator-id-24\" type=\"checkbox\" ><label for=\"sk-estimator-id-24\" class=\"sk-toggleable__label sk-toggleable__label-arrow\">Pipeline</label><div class=\"sk-toggleable__content\"><pre>Pipeline(steps=[(&#x27;preprocessing&#x27;,\n",
       "                 ColumnTransformer(transformers=[(&#x27;one_hot&#x27;, OneHotEncoder(),\n",
       "                                                  [&#x27;zipcode&#x27;, &#x27;month&#x27;]),\n",
       "                                                 (&#x27;scaling&#x27;, StandardScaler(),\n",
       "                                                  [&#x27;bedrooms&#x27;, &#x27;bathrooms&#x27;,\n",
       "                                                   &#x27;sqft_living&#x27;, &#x27;sqft_lot&#x27;,\n",
       "                                                   &#x27;floors&#x27;, &#x27;waterfront&#x27;,\n",
       "                                                   &#x27;view&#x27;, &#x27;condition&#x27;, &#x27;grade&#x27;,\n",
       "                                                   &#x27;sqft_above&#x27;,\n",
       "                                                   &#x27;sqft_basement&#x27;, &#x27;yr_built&#x27;,\n",
       "                                                   &#x27;yr_renovated&#x27;, &#x27;lat&#x27;,\n",
       "                                                   &#x27;long&#x27;, &#x27;year&#x27;])])),\n",
       "                (&#x27;ridge&#x27;, Ridge(alpha=0.5))])</pre></div></div></div><div class=\"sk-serial\"><div class=\"sk-item sk-dashed-wrapped\"><div class=\"sk-label-container\"><div class=\"sk-label sk-toggleable\"><input class=\"sk-toggleable__control sk-hidden--visually\" id=\"sk-estimator-id-25\" type=\"checkbox\" ><label for=\"sk-estimator-id-25\" class=\"sk-toggleable__label sk-toggleable__label-arrow\">preprocessing: ColumnTransformer</label><div class=\"sk-toggleable__content\"><pre>ColumnTransformer(transformers=[(&#x27;one_hot&#x27;, OneHotEncoder(),\n",
       "                                 [&#x27;zipcode&#x27;, &#x27;month&#x27;]),\n",
       "                                (&#x27;scaling&#x27;, StandardScaler(),\n",
       "                                 [&#x27;bedrooms&#x27;, &#x27;bathrooms&#x27;, &#x27;sqft_living&#x27;,\n",
       "                                  &#x27;sqft_lot&#x27;, &#x27;floors&#x27;, &#x27;waterfront&#x27;, &#x27;view&#x27;,\n",
       "                                  &#x27;condition&#x27;, &#x27;grade&#x27;, &#x27;sqft_above&#x27;,\n",
       "                                  &#x27;sqft_basement&#x27;, &#x27;yr_built&#x27;, &#x27;yr_renovated&#x27;,\n",
       "                                  &#x27;lat&#x27;, &#x27;long&#x27;, &#x27;year&#x27;])])</pre></div></div></div><div class=\"sk-parallel\"><div class=\"sk-parallel-item\"><div class=\"sk-item\"><div class=\"sk-label-container\"><div class=\"sk-label sk-toggleable\"><input class=\"sk-toggleable__control sk-hidden--visually\" id=\"sk-estimator-id-26\" type=\"checkbox\" ><label for=\"sk-estimator-id-26\" class=\"sk-toggleable__label sk-toggleable__label-arrow\">one_hot</label><div class=\"sk-toggleable__content\"><pre>[&#x27;zipcode&#x27;, &#x27;month&#x27;]</pre></div></div></div><div class=\"sk-serial\"><div class=\"sk-item\"><div class=\"sk-estimator sk-toggleable\"><input class=\"sk-toggleable__control sk-hidden--visually\" id=\"sk-estimator-id-27\" type=\"checkbox\" ><label for=\"sk-estimator-id-27\" class=\"sk-toggleable__label sk-toggleable__label-arrow\">OneHotEncoder</label><div class=\"sk-toggleable__content\"><pre>OneHotEncoder()</pre></div></div></div></div></div></div><div class=\"sk-parallel-item\"><div class=\"sk-item\"><div class=\"sk-label-container\"><div class=\"sk-label sk-toggleable\"><input class=\"sk-toggleable__control sk-hidden--visually\" id=\"sk-estimator-id-28\" type=\"checkbox\" ><label for=\"sk-estimator-id-28\" class=\"sk-toggleable__label sk-toggleable__label-arrow\">scaling</label><div class=\"sk-toggleable__content\"><pre>[&#x27;bedrooms&#x27;, &#x27;bathrooms&#x27;, &#x27;sqft_living&#x27;, &#x27;sqft_lot&#x27;, &#x27;floors&#x27;, &#x27;waterfront&#x27;, &#x27;view&#x27;, &#x27;condition&#x27;, &#x27;grade&#x27;, &#x27;sqft_above&#x27;, &#x27;sqft_basement&#x27;, &#x27;yr_built&#x27;, &#x27;yr_renovated&#x27;, &#x27;lat&#x27;, &#x27;long&#x27;, &#x27;year&#x27;]</pre></div></div></div><div class=\"sk-serial\"><div class=\"sk-item\"><div class=\"sk-estimator sk-toggleable\"><input class=\"sk-toggleable__control sk-hidden--visually\" id=\"sk-estimator-id-29\" type=\"checkbox\" ><label for=\"sk-estimator-id-29\" class=\"sk-toggleable__label sk-toggleable__label-arrow\">StandardScaler</label><div class=\"sk-toggleable__content\"><pre>StandardScaler()</pre></div></div></div></div></div></div></div></div><div class=\"sk-item\"><div class=\"sk-estimator sk-toggleable\"><input class=\"sk-toggleable__control sk-hidden--visually\" id=\"sk-estimator-id-30\" type=\"checkbox\" ><label for=\"sk-estimator-id-30\" class=\"sk-toggleable__label sk-toggleable__label-arrow\">Ridge</label><div class=\"sk-toggleable__content\"><pre>Ridge(alpha=0.5)</pre></div></div></div></div></div></div></div>"
      ],
      "text/plain": [
       "Pipeline(steps=[('preprocessing',\n",
       "                 ColumnTransformer(transformers=[('one_hot', OneHotEncoder(),\n",
       "                                                  ['zipcode', 'month']),\n",
       "                                                 ('scaling', StandardScaler(),\n",
       "                                                  ['bedrooms', 'bathrooms',\n",
       "                                                   'sqft_living', 'sqft_lot',\n",
       "                                                   'floors', 'waterfront',\n",
       "                                                   'view', 'condition', 'grade',\n",
       "                                                   'sqft_above',\n",
       "                                                   'sqft_basement', 'yr_built',\n",
       "                                                   'yr_renovated', 'lat',\n",
       "                                                   'long', 'year'])])),\n",
       "                ('ridge', Ridge(alpha=0.5))])"
      ]
     },
     "execution_count": 26,
     "metadata": {},
     "output_type": "execute_result"
    }
   ],
   "source": [
    "my_pipe_ridge.set_params(**random_search.best_params_)"
   ]
  },
  {
   "cell_type": "markdown",
   "metadata": {},
   "source": [
    "### Fit - Score - Predict"
   ]
  },
  {
   "cell_type": "code",
   "execution_count": 27,
   "metadata": {},
   "outputs": [
    {
     "name": "stdout",
     "output_type": "stream",
     "text": [
      "my_pipe_ridge score :  0.8192753095943779\n",
      "my_pipe_ridge predict :  [[ 277126.00338454]\n",
      " [ 249102.94447339]\n",
      " [ 573301.5426981 ]\n",
      " ...\n",
      " [1138334.25618661]\n",
      " [ 544233.63433879]\n",
      " [ 628614.57343649]]\n"
     ]
    }
   ],
   "source": [
    "my_pipe_ridge.fit(X_train, y_train)\n",
    "print (\"my_pipe_ridge score : \" , my_pipe_ridge.score(X_test, y_test))\n",
    "print (\"my_pipe_ridge predict : \" , my_pipe_ridge.predict(X_train))"
   ]
  },
  {
   "cell_type": "markdown",
   "metadata": {},
   "source": [
    "# LASSO"
   ]
  },
  {
   "cell_type": "markdown",
   "metadata": {},
   "source": [
    "### Pipeline"
   ]
  },
  {
   "cell_type": "code",
   "execution_count": 28,
   "metadata": {},
   "outputs": [],
   "source": [
    "my_pipe_lasso = make_pipeline(preprocessing, Lasso())"
   ]
  },
  {
   "cell_type": "code",
   "execution_count": 29,
   "metadata": {},
   "outputs": [],
   "source": [
    "my_pipe_lasso = Pipeline(\n",
    "    [\n",
    "        (\"preprocessing\", preprocessing), \n",
    "        ('lasso', Lasso())\n",
    "    ]\n",
    ")"
   ]
  },
  {
   "cell_type": "markdown",
   "metadata": {},
   "source": [
    "### Fit - Score - Predict"
   ]
  },
  {
   "cell_type": "code",
   "execution_count": 30,
   "metadata": {},
   "outputs": [
    {
     "name": "stdout",
     "output_type": "stream",
     "text": [
      "my_pipe_lasso score :  0.8199305474256161\n",
      "my_pipe_lasso predict :  [ 274058.54953559  237003.10576482  570543.97052245 ... 1132422.46136161\n",
      "  554129.34000925  641624.98276493]\n"
     ]
    },
    {
     "name": "stderr",
     "output_type": "stream",
     "text": [
      "/home/kahoul/miniconda3/envs/ykp/lib/python3.10/site-packages/sklearn/linear_model/_coordinate_descent.py:609: ConvergenceWarning: Objective did not converge. You might want to increase the number of iterations. Duality gap: 43404617385819.78, tolerance: 219813654859.50137\n",
      "  model = cd_fast.sparse_enet_coordinate_descent(\n"
     ]
    }
   ],
   "source": [
    "my_pipe_lasso.fit(X_train, y_train)\n",
    "print (\"my_pipe_lasso score : \" , my_pipe_lasso.score(X_test, y_test))\n",
    "print (\"my_pipe_lasso predict : \" , my_pipe_lasso.predict(X_train))"
   ]
  },
  {
   "cell_type": "markdown",
   "metadata": {},
   "source": [
    "# ELASTIC NET "
   ]
  },
  {
   "cell_type": "markdown",
   "metadata": {},
   "source": [
    "### Pipeline"
   ]
  },
  {
   "cell_type": "code",
   "execution_count": 31,
   "metadata": {},
   "outputs": [],
   "source": [
    "my_pipe_elastic_net = make_pipeline(preprocessing, ElasticNet())"
   ]
  },
  {
   "cell_type": "code",
   "execution_count": 32,
   "metadata": {},
   "outputs": [],
   "source": [
    "my_pipe_elastic_net = Pipeline(\n",
    "    [\n",
    "        (\"preprocessing\", preprocessing), \n",
    "        ('elastic_net', ElasticNet())\n",
    "    ]\n",
    ")"
   ]
  },
  {
   "cell_type": "markdown",
   "metadata": {},
   "source": [
    "### Fit - Score - Predict"
   ]
  },
  {
   "cell_type": "code",
   "execution_count": 33,
   "metadata": {},
   "outputs": [
    {
     "name": "stdout",
     "output_type": "stream",
     "text": [
      "my_pipe_elastic_net score :  0.6835386552074372\n",
      "my_pipe_elastic_net predict :  [422008.82292466 303787.94747209 523411.81676035 ... 735741.00489378\n",
      " 619796.95941055 553809.21161004]\n"
     ]
    }
   ],
   "source": [
    "my_pipe_elastic_net.fit(X_train, y_train)\n",
    "print (\"my_pipe_elastic_net score : \" , my_pipe_elastic_net.score(X_test, y_test))\n",
    "print (\"my_pipe_elastic_net predict : \" , my_pipe_elastic_net.predict(X_train))"
   ]
  },
  {
   "cell_type": "markdown",
   "metadata": {},
   "source": [
    "## Comparaison des modèles"
   ]
  },
  {
   "cell_type": "code",
   "execution_count": 34,
   "metadata": {},
   "outputs": [
    {
     "data": {
      "text/plain": [
       "[('my_pipe_elastic_net.score ', 0.6835386552074372),\n",
       " ('my_pipe_ridge.score', 0.8192753095943779),\n",
       " ('my_pipe_lasso.score', 0.8199305474256161),\n",
       " ('my_pipe_lr.score', 0.8199386658752836)]"
      ]
     },
     "execution_count": 34,
     "metadata": {},
     "output_type": "execute_result"
    }
   ],
   "source": [
    "modeles = { \n",
    "\"my_pipe_lr.score\" : my_pipe_lr.score(X_test, y_test), \"my_pipe_elastic_net.score \": my_pipe_elastic_net.score(X_test, y_test),\n",
    "\"my_pipe_lasso.score\" : my_pipe_lasso.score(X_test, y_test), \"my_pipe_ridge.score\" : my_pipe_ridge.score(X_test, y_test)\n",
    "}\n",
    "\n",
    "modeles = sorted(modeles.items(), key=lambda x: x[1])\n",
    "modeles"
   ]
  },
  {
   "cell_type": "markdown",
   "metadata": {},
   "source": [
    "# SUPPRIMER LES VALEURS INFLUENTES"
   ]
  },
  {
   "cell_type": "code",
   "execution_count": null,
   "metadata": {},
   "outputs": [],
   "source": []
  },
  {
   "cell_type": "code",
   "execution_count": null,
   "metadata": {},
   "outputs": [],
   "source": []
  },
  {
   "cell_type": "code",
   "execution_count": null,
   "metadata": {},
   "outputs": [],
   "source": []
  },
  {
   "cell_type": "code",
   "execution_count": null,
   "metadata": {},
   "outputs": [],
   "source": []
  },
  {
   "cell_type": "code",
   "execution_count": 35,
   "metadata": {},
   "outputs": [],
   "source": [
    "df_cleaned.to_csv(\"df_cleaned.csv\")  "
   ]
  },
  {
   "cell_type": "code",
   "execution_count": 36,
   "metadata": {},
   "outputs": [],
   "source": [
    "df_modelisation_price = df_modelisation[\"price\"]\n",
    "df_modelisation_price.to_csv(\"df_modelisation_price.csv\")"
   ]
  },
  {
   "cell_type": "markdown",
   "metadata": {},
   "source": [
    "## Modélisation de la méthode de régression linéaire"
   ]
  },
  {
   "cell_type": "code",
   "execution_count": 37,
   "metadata": {},
   "outputs": [
    {
     "data": {
      "text/plain": [
       "\" plt.scatter(X, y)\\nplt.plot(X, model.predict(X), c='red') \""
      ]
     },
     "execution_count": 37,
     "metadata": {},
     "output_type": "execute_result"
    }
   ],
   "source": [
    "\"\"\" plt.scatter(X, y)\n",
    "plt.plot(X, model.predict(X), c='red') \"\"\""
   ]
  },
  {
   "cell_type": "code",
   "execution_count": 38,
   "metadata": {},
   "outputs": [
    {
     "data": {
      "text/plain": [
       "\" plt.plot(df_modelisation2 , df_modelisation_prix,'ro', markersize = 4) #UTILISATION DE LA FONCTION PLOT \\nplt.show() \""
      ]
     },
     "execution_count": 38,
     "metadata": {},
     "output_type": "execute_result"
    }
   ],
   "source": [
    "\"\"\" plt.plot(df_modelisation2 , df_modelisation_prix,'ro', markersize = 4) #UTILISATION DE LA FONCTION PLOT \n",
    "plt.show() \"\"\"\n"
   ]
  },
  {
   "cell_type": "code",
   "execution_count": 39,
   "metadata": {},
   "outputs": [
    {
     "data": {
      "text/plain": [
       "\" predictions = model.predict(X_test)\\nplt.scatter(X_test,y)\\nplt.plot(X, predictions, c='r') \""
      ]
     },
     "execution_count": 39,
     "metadata": {},
     "output_type": "execute_result"
    }
   ],
   "source": [
    "\"\"\" predictions = model.predict(X_test)\n",
    "plt.scatter(X_test,y)\n",
    "plt.plot(X, predictions, c='r') \"\"\""
   ]
  },
  {
   "cell_type": "markdown",
   "metadata": {},
   "source": [
    "## Fonction qui permet de prédire le prix d'une maison"
   ]
  },
  {
   "cell_type": "code",
   "execution_count": 40,
   "metadata": {},
   "outputs": [
    {
     "data": {
      "text/plain": [
       "' def prediction_maison(model,sqft_living\\t,grade\\t,sqft_above\\t,sqft_living15\\t,bathrooms,\\tview\\t,sqft_basement\\t,\\n                bedrooms\\t,zipcode_98004\\t,waterfront\\t,floors\\t,zipcode_98039,\\tzipcode_98040\\t,zipcode_98112,\\tzipcode_98006,\\tyr_renovated\\t,\\n                zipcode_98033,\\tzipcode_98105\\t,sqft_lot,\\tzipcode_98075,\\tzipcode_98199\\t,\\n                sqft_lot15 ,\\tzipcode_98001,\\tzipcode_98042,\\tzipcode_98023):\\n    x = np.array([sqft_living\\t,grade\\t,sqft_above\\t,sqft_living15\\t,bathrooms,\\tview\\t,sqft_basement\\t,\\n                bedrooms\\t,zipcode_98004\\t,waterfront\\t,floors\\t,zipcode_98039,\\tzipcode_98040\\t,zipcode_98112,\\tzipcode_98006,\\tyr_renovated\\t,\\n                zipcode_98033,\\tzipcode_98105\\t,sqft_lot,\\tzipcode_98075,\\tzipcode_98199\\t,\\n                sqft_lot15 ,\\tzipcode_98001,\\tzipcode_98042,\\tzipcode_98023]).reshape(1,25)\\n    print (model.predict(x)) '"
      ]
     },
     "execution_count": 40,
     "metadata": {},
     "output_type": "execute_result"
    }
   ],
   "source": [
    "\"\"\" def prediction_maison(model,sqft_living\t,grade\t,sqft_above\t,sqft_living15\t,bathrooms,\tview\t,sqft_basement\t,\n",
    "                bedrooms\t,zipcode_98004\t,waterfront\t,floors\t,zipcode_98039,\tzipcode_98040\t,zipcode_98112,\tzipcode_98006,\tyr_renovated\t,\n",
    "                zipcode_98033,\tzipcode_98105\t,sqft_lot,\tzipcode_98075,\tzipcode_98199\t,\n",
    "                sqft_lot15 ,\tzipcode_98001,\tzipcode_98042,\tzipcode_98023):\n",
    "    x = np.array([sqft_living\t,grade\t,sqft_above\t,sqft_living15\t,bathrooms,\tview\t,sqft_basement\t,\n",
    "                bedrooms\t,zipcode_98004\t,waterfront\t,floors\t,zipcode_98039,\tzipcode_98040\t,zipcode_98112,\tzipcode_98006,\tyr_renovated\t,\n",
    "                zipcode_98033,\tzipcode_98105\t,sqft_lot,\tzipcode_98075,\tzipcode_98199\t,\n",
    "                sqft_lot15 ,\tzipcode_98001,\tzipcode_98042,\tzipcode_98023]).reshape(1,25)\n",
    "    print (model.predict(x)) \"\"\"\n"
   ]
  },
  {
   "cell_type": "code",
   "execution_count": 41,
   "metadata": {},
   "outputs": [
    {
     "data": {
      "text/plain": [
       "' #essai de la fonction\\nprediction_maison(model,50,7,30,48,2,2,0,2,1,0,1,0,0,0,0,1988,0,0,35,0,0,40,0,0,0) '"
      ]
     },
     "execution_count": 41,
     "metadata": {},
     "output_type": "execute_result"
    }
   ],
   "source": [
    "\"\"\" #essai de la fonction\n",
    "prediction_maison(model,50,7,30,48,2,2,0,2,1,0,1,0,0,0,0,1988,0,0,35,0,0,40,0,0,0) \"\"\""
   ]
  }
 ],
 "metadata": {
  "kernelspec": {
   "display_name": "Python 3.10.4 ('ykp')",
   "language": "python",
   "name": "python3"
  },
  "language_info": {
   "codemirror_mode": {
    "name": "ipython",
    "version": 3
   },
   "file_extension": ".py",
   "mimetype": "text/x-python",
   "name": "python",
   "nbconvert_exporter": "python",
   "pygments_lexer": "ipython3",
   "version": "3.10.4"
  },
  "orig_nbformat": 4,
  "vscode": {
   "interpreter": {
    "hash": "a830cd8c710370d9f195d594c373a79f854e482951c4fcd1778f9296e8d30250"
   }
  }
 },
 "nbformat": 4,
 "nbformat_minor": 2
}
